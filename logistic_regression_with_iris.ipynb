{
 "cells": [
  {
   "cell_type": "code",
   "execution_count": 1,
   "id": "ddf24c93",
   "metadata": {
    "execution": {
     "iopub.execute_input": "2024-05-15T09:48:39.066659Z",
     "iopub.status.busy": "2024-05-15T09:48:39.066197Z",
     "iopub.status.idle": "2024-05-15T09:48:41.563512Z",
     "shell.execute_reply": "2024-05-15T09:48:41.562268Z"
    },
    "papermill": {
     "duration": 2.519515,
     "end_time": "2024-05-15T09:48:41.567020",
     "exception": false,
     "start_time": "2024-05-15T09:48:39.047505",
     "status": "completed"
    },
    "tags": []
   },
   "outputs": [],
   "source": [
    "import numpy as np\n",
    "import matplotlib.pyplot as plt\n",
    "from sklearn import datasets\n",
    "from sklearn.metrics import confusion_matrix\n",
    "from sklearn.model_selection import train_test_split\n",
    "import sys\n",
    "import pandas as pd"
   ]
  },
  {
   "cell_type": "code",
   "execution_count": 2,
   "id": "b1e829ce",
   "metadata": {
    "execution": {
     "iopub.execute_input": "2024-05-15T09:48:41.601497Z",
     "iopub.status.busy": "2024-05-15T09:48:41.600892Z",
     "iopub.status.idle": "2024-05-15T09:48:41.614523Z",
     "shell.execute_reply": "2024-05-15T09:48:41.613408Z"
    },
    "papermill": {
     "duration": 0.033759,
     "end_time": "2024-05-15T09:48:41.617270",
     "exception": false,
     "start_time": "2024-05-15T09:48:41.583511",
     "status": "completed"
    },
    "tags": []
   },
   "outputs": [],
   "source": [
    "iris = datasets.load_iris()\n",
    "x = iris.data\n",
    "y = iris.target"
   ]
  },
  {
   "cell_type": "code",
   "execution_count": 3,
   "id": "4ca20ba2",
   "metadata": {
    "execution": {
     "iopub.execute_input": "2024-05-15T09:48:41.652291Z",
     "iopub.status.busy": "2024-05-15T09:48:41.651773Z",
     "iopub.status.idle": "2024-05-15T09:48:41.661465Z",
     "shell.execute_reply": "2024-05-15T09:48:41.659982Z"
    },
    "papermill": {
     "duration": 0.031267,
     "end_time": "2024-05-15T09:48:41.664293",
     "exception": false,
     "start_time": "2024-05-15T09:48:41.633026",
     "status": "completed"
    },
    "tags": []
   },
   "outputs": [
    {
     "data": {
      "text/plain": [
       "(150,)"
      ]
     },
     "execution_count": 3,
     "metadata": {},
     "output_type": "execute_result"
    }
   ],
   "source": [
    "y.shape"
   ]
  },
  {
   "cell_type": "code",
   "execution_count": 4,
   "id": "cfec0226",
   "metadata": {
    "execution": {
     "iopub.execute_input": "2024-05-15T09:48:41.699749Z",
     "iopub.status.busy": "2024-05-15T09:48:41.699281Z",
     "iopub.status.idle": "2024-05-15T09:48:41.709070Z",
     "shell.execute_reply": "2024-05-15T09:48:41.707793Z"
    },
    "papermill": {
     "duration": 0.031222,
     "end_time": "2024-05-15T09:48:41.711780",
     "exception": false,
     "start_time": "2024-05-15T09:48:41.680558",
     "status": "completed"
    },
    "tags": []
   },
   "outputs": [
    {
     "data": {
      "text/plain": [
       "array([0, 1, 2])"
      ]
     },
     "execution_count": 4,
     "metadata": {},
     "output_type": "execute_result"
    }
   ],
   "source": [
    "np.unique(y)"
   ]
  },
  {
   "cell_type": "code",
   "execution_count": 5,
   "id": "ffe57aa5",
   "metadata": {
    "execution": {
     "iopub.execute_input": "2024-05-15T09:48:41.746943Z",
     "iopub.status.busy": "2024-05-15T09:48:41.746466Z",
     "iopub.status.idle": "2024-05-15T09:48:41.754966Z",
     "shell.execute_reply": "2024-05-15T09:48:41.753764Z"
    },
    "papermill": {
     "duration": 0.029508,
     "end_time": "2024-05-15T09:48:41.757638",
     "exception": false,
     "start_time": "2024-05-15T09:48:41.728130",
     "status": "completed"
    },
    "tags": []
   },
   "outputs": [
    {
     "data": {
      "text/plain": [
       "array([0, 0, 0, 0, 0, 0, 0, 0, 0, 0, 0, 0, 0, 0, 0, 0, 0, 0, 0, 0, 0, 0,\n",
       "       0, 0, 0, 0, 0, 0, 0, 0, 0, 0, 0, 0, 0, 0, 0, 0, 0, 0, 0, 0, 0, 0,\n",
       "       0, 0, 0, 0, 0, 0, 1, 1, 1, 1, 1, 1, 1, 1, 1, 1, 1, 1, 1, 1, 1, 1,\n",
       "       1, 1, 1, 1, 1, 1, 1, 1, 1, 1, 1, 1, 1, 1, 1, 1, 1, 1, 1, 1, 1, 1,\n",
       "       1, 1, 1, 1, 1, 1, 1, 1, 1, 1, 1, 1, 2, 2, 2, 2, 2, 2, 2, 2, 2, 2,\n",
       "       2, 2, 2, 2, 2, 2, 2, 2, 2, 2, 2, 2, 2, 2, 2, 2, 2, 2, 2, 2, 2, 2,\n",
       "       2, 2, 2, 2, 2, 2, 2, 2, 2, 2, 2, 2, 2, 2, 2, 2, 2, 2])"
      ]
     },
     "execution_count": 5,
     "metadata": {},
     "output_type": "execute_result"
    }
   ],
   "source": [
    "y"
   ]
  },
  {
   "cell_type": "markdown",
   "id": "7bf3bd13",
   "metadata": {
    "papermill": {
     "duration": 0.016335,
     "end_time": "2024-05-15T09:48:41.790507",
     "exception": false,
     "start_time": "2024-05-15T09:48:41.774172",
     "status": "completed"
    },
    "tags": []
   },
   "source": [
    "# Model\n"
   ]
  },
  {
   "cell_type": "code",
   "execution_count": 6,
   "id": "c4c992da",
   "metadata": {
    "execution": {
     "iopub.execute_input": "2024-05-15T09:48:41.826605Z",
     "iopub.status.busy": "2024-05-15T09:48:41.826041Z",
     "iopub.status.idle": "2024-05-15T09:48:41.856747Z",
     "shell.execute_reply": "2024-05-15T09:48:41.855520Z"
    },
    "papermill": {
     "duration": 0.052411,
     "end_time": "2024-05-15T09:48:41.859618",
     "exception": false,
     "start_time": "2024-05-15T09:48:41.807207",
     "status": "completed"
    },
    "tags": []
   },
   "outputs": [],
   "source": [
    "class LogisticRegression:\n",
    "\n",
    "    def __init__(\n",
    "        self,\n",
    "        lr=0.1,\n",
    "        num_iter=1_000_000,\n",
    "        verbose=False,\n",
    "        multi_class=False,\n",
    "        least_squares=False,\n",
    "    ):\n",
    "        self.lr = lr\n",
    "        self.num_iter = num_iter\n",
    "        self.verbose = verbose\n",
    "        self.least_squares = least_squares\n",
    "        self.multi_class = multi_class\n",
    "        self.weights = None\n",
    "        self.bias = None\n",
    "        self.x = None\n",
    "        self.y = None\n",
    "        self.classes_ = None\n",
    "        self.m = None\n",
    "        self.n = None\n",
    "        self.losses = []\n",
    "        self.accuracies = []\n",
    "\n",
    "    def softmax(self, x):\n",
    "        e_x = np.exp(x - np.max(x, axis=1, keepdims=True))\n",
    "        return e_x / e_x.sum(axis=1, keepdims=True)\n",
    "\n",
    "    def gradient_descent(self):\n",
    "        y_hat = self.predict(self.x)\n",
    "        dw = (1 / self.m) * np.dot(self.x.T, (y_hat - self.y))\n",
    "        db = (1 / self.m) * np.sum(y_hat - self.y)\n",
    "        self.weights -= self.lr * dw\n",
    "        self.bias -= self.lr * db\n",
    "\n",
    "    def predict(self, x):\n",
    "        if self.least_squares:\n",
    "            x = np.c_[np.ones(x.shape[0]), x]\n",
    "            return np.dot(x, self.weights)\n",
    "        z = np.dot(x, self.weights) + self.bias\n",
    "        predication = 1.0 / (1.0 + np.exp(-z))\n",
    "        return self.softmax(predication) if self.multi_class else predication\n",
    "\n",
    "    def plot(self):\n",
    "        plt.plot(self.losses)\n",
    "        plt.plot(self.accuracies)\n",
    "        plt.xlabel(\"Number of iterations\")\n",
    "        plt.ylabel(\"Loss\")\n",
    "        plt.legend([\"Loss\", \"Accuracy\"])\n",
    "        plt.show()\n",
    "\n",
    "    def loss(self):\n",
    "        y_hat = self.predict(self.x)\n",
    "        self.losses.append(\n",
    "            -np.mean(\n",
    "                self.y * np.log(y_hat + sys.float_info.min)\n",
    "                + (1 - self.y) * np.log(1 - y_hat + sys.float_info.min)\n",
    "            )\n",
    "        )\n",
    "        return self.losses[-1]\n",
    "\n",
    "    def accuracy(self):\n",
    "        y_hat = self.predict(self.x)\n",
    "        acc = (\n",
    "            np.mean(y_hat.argmax(axis=1) == self.y.argmax(axis=1))\n",
    "            if self.multi_class\n",
    "            else np.mean(y_hat.round() == self.y)\n",
    "        )\n",
    "        self.accuracies.append(acc)\n",
    "\n",
    "    def fit(self, x, y):\n",
    "        self.x = x\n",
    "        self.y = y\n",
    "        if self.least_squares:\n",
    "            self.least_squares_technique()\n",
    "            return\n",
    "        best_loss = sys.float_info.max\n",
    "        patience = 10\n",
    "        self.m, self.n = x.shape\n",
    "        if self.multi_class:\n",
    "            self.classes_ = np.unique(self.y)\n",
    "            self.y = pd.get_dummies(self.y).to_numpy()\n",
    "            self.weights = (\n",
    "                np.random.rand(self.n, len(self.classes_))\n",
    "                if self.weights is None\n",
    "                else self.weights\n",
    "            )\n",
    "            self.bias = (\n",
    "                np.random.rand(len(self.classes_)) if self.bias is None else self.bias\n",
    "            )\n",
    "        else:\n",
    "            self.weights = (\n",
    "                np.random.rand(self.n) if self.weights is None else self.weights\n",
    "            )\n",
    "            self.bias = np.random.rand() if self.bias is None else self.bias\n",
    "        for _ in range(self.num_iter):\n",
    "            self.gradient_descent()\n",
    "            self.loss()\n",
    "            self.accuracy()\n",
    "\n",
    "            if self.losses[-1] < best_loss:\n",
    "                best_loss = self.losses[-1]\n",
    "                patience = 10\n",
    "            else:\n",
    "                patience -= 1\n",
    "                if patience == 0:\n",
    "                    break\n",
    "                \n",
    "            if self.verbose:\n",
    "                print(f\"\\tLoss: {self.losses[-1]}\")\n",
    "                print(f\"\\tAccuracy: {self.accuracies[-1]}\")\n",
    "        print(f\"\\nFinal Loss: {self.losses[-1]}\")\n",
    "        print(f\"Final Accuracy: {self.accuracies[-1]}\")\n",
    "\n",
    "    def eval(self, x, y):\n",
    "        self.x = x\n",
    "        self.y = y\n",
    "        if self.multi_class:\n",
    "            self.y = pd.get_dummies(self.y).to_numpy()\n",
    "        self.accuracy()\n",
    "        print(f\"Accuracy: {self.accuracies[-1]}\")\n",
    "\n",
    "    def least_squares_technique(self):\n",
    "        self.x = np.c_[np.ones(self.x.shape[0]), self.x]\n",
    "        self.weights = np.dot(\n",
    "            np.dot(np.linalg.inv(np.dot(self.x.T, self.x)), self.x.T), self.y\n",
    "        )"
   ]
  },
  {
   "cell_type": "code",
   "execution_count": 7,
   "id": "8f3f789d",
   "metadata": {
    "execution": {
     "iopub.execute_input": "2024-05-15T09:48:41.894617Z",
     "iopub.status.busy": "2024-05-15T09:48:41.894176Z",
     "iopub.status.idle": "2024-05-15T09:48:41.902650Z",
     "shell.execute_reply": "2024-05-15T09:48:41.901315Z"
    },
    "papermill": {
     "duration": 0.029056,
     "end_time": "2024-05-15T09:48:41.905216",
     "exception": false,
     "start_time": "2024-05-15T09:48:41.876160",
     "status": "completed"
    },
    "tags": []
   },
   "outputs": [
    {
     "data": {
      "text/plain": [
       "array([0, 1, 2])"
      ]
     },
     "execution_count": 7,
     "metadata": {},
     "output_type": "execute_result"
    }
   ],
   "source": [
    "np.unique(y)"
   ]
  },
  {
   "cell_type": "code",
   "execution_count": 8,
   "id": "7fb8775b",
   "metadata": {
    "execution": {
     "iopub.execute_input": "2024-05-15T09:48:41.940779Z",
     "iopub.status.busy": "2024-05-15T09:48:41.940305Z",
     "iopub.status.idle": "2024-05-15T09:48:41.948390Z",
     "shell.execute_reply": "2024-05-15T09:48:41.947006Z"
    },
    "papermill": {
     "duration": 0.028858,
     "end_time": "2024-05-15T09:48:41.950804",
     "exception": false,
     "start_time": "2024-05-15T09:48:41.921946",
     "status": "completed"
    },
    "tags": []
   },
   "outputs": [
    {
     "data": {
      "text/plain": [
       "(150,)"
      ]
     },
     "execution_count": 8,
     "metadata": {},
     "output_type": "execute_result"
    }
   ],
   "source": [
    "y.shape"
   ]
  },
  {
   "cell_type": "markdown",
   "id": "43f6f5d6",
   "metadata": {
    "papermill": {
     "duration": 0.016464,
     "end_time": "2024-05-15T09:48:41.983906",
     "exception": false,
     "start_time": "2024-05-15T09:48:41.967442",
     "status": "completed"
    },
    "tags": []
   },
   "source": [
    "# With Least Squares Technique"
   ]
  },
  {
   "cell_type": "markdown",
   "id": "f4cbb0ea",
   "metadata": {
    "papermill": {
     "duration": 0.016378,
     "end_time": "2024-05-15T09:48:42.017013",
     "exception": false,
     "start_time": "2024-05-15T09:48:42.000635",
     "status": "completed"
    },
    "tags": []
   },
   "source": [
    "# Group samples of class 2 and class 3 together to form new class"
   ]
  },
  {
   "cell_type": "code",
   "execution_count": 9,
   "id": "19b7a205",
   "metadata": {
    "execution": {
     "iopub.execute_input": "2024-05-15T09:48:42.052252Z",
     "iopub.status.busy": "2024-05-15T09:48:42.051798Z",
     "iopub.status.idle": "2024-05-15T09:48:42.064914Z",
     "shell.execute_reply": "2024-05-15T09:48:42.063719Z"
    },
    "papermill": {
     "duration": 0.033803,
     "end_time": "2024-05-15T09:48:42.067454",
     "exception": false,
     "start_time": "2024-05-15T09:48:42.033651",
     "status": "completed"
    },
    "tags": []
   },
   "outputs": [],
   "source": [
    "Y_train = np.where(y == 2, 1, y)\n",
    "\n",
    "X_train_class1, X_test_class1, Y_train_class1, Y_test_class1 = train_test_split(\n",
    "    x[Y_train == 0], Y_train[Y_train == 0], test_size=0.2, random_state=42\n",
    ")\n",
    "X_train_class2, X_test_class2, Y_train_class2, Y_test_class2 = train_test_split(\n",
    "    x[Y_train == 1], Y_train[Y_train == 1], test_size=0.2, random_state=42\n",
    ")\n",
    "\n",
    "X_train = np.concatenate((X_train_class1, X_train_class2), axis=0)\n",
    "X_test = np.concatenate((X_test_class1, X_test_class2), axis=0)\n",
    "Y_train = np.concatenate((Y_train_class1, Y_train_class2), axis=0)\n",
    "Y_test = np.concatenate((Y_test_class1, Y_test_class2), axis=0)"
   ]
  },
  {
   "cell_type": "code",
   "execution_count": 10,
   "id": "8dbbb30a",
   "metadata": {
    "execution": {
     "iopub.execute_input": "2024-05-15T09:48:42.106513Z",
     "iopub.status.busy": "2024-05-15T09:48:42.105399Z",
     "iopub.status.idle": "2024-05-15T09:48:42.115248Z",
     "shell.execute_reply": "2024-05-15T09:48:42.113851Z"
    },
    "papermill": {
     "duration": 0.033254,
     "end_time": "2024-05-15T09:48:42.118157",
     "exception": false,
     "start_time": "2024-05-15T09:48:42.084903",
     "status": "completed"
    },
    "tags": []
   },
   "outputs": [
    {
     "data": {
      "text/plain": [
       "(array([0, 1]), (40, 4), (10, 4), (80, 4), (20, 4))"
      ]
     },
     "execution_count": 10,
     "metadata": {},
     "output_type": "execute_result"
    }
   ],
   "source": [
    "np.unique(Y_train), X_train_class1.shape, X_test_class1.shape, X_train_class2.shape, X_test_class2.shape"
   ]
  },
  {
   "cell_type": "code",
   "execution_count": 11,
   "id": "ec4dcc7d",
   "metadata": {
    "execution": {
     "iopub.execute_input": "2024-05-15T09:48:42.156123Z",
     "iopub.status.busy": "2024-05-15T09:48:42.155604Z",
     "iopub.status.idle": "2024-05-15T09:48:42.161919Z",
     "shell.execute_reply": "2024-05-15T09:48:42.160457Z"
    },
    "papermill": {
     "duration": 0.0286,
     "end_time": "2024-05-15T09:48:42.164759",
     "exception": false,
     "start_time": "2024-05-15T09:48:42.136159",
     "status": "completed"
    },
    "tags": []
   },
   "outputs": [],
   "source": [
    "model = LogisticRegression(least_squares=True)"
   ]
  },
  {
   "cell_type": "code",
   "execution_count": 12,
   "id": "3e8bc6f5",
   "metadata": {
    "execution": {
     "iopub.execute_input": "2024-05-15T09:48:42.203155Z",
     "iopub.status.busy": "2024-05-15T09:48:42.201828Z",
     "iopub.status.idle": "2024-05-15T09:48:42.215800Z",
     "shell.execute_reply": "2024-05-15T09:48:42.214165Z"
    },
    "papermill": {
     "duration": 0.038776,
     "end_time": "2024-05-15T09:48:42.221213",
     "exception": false,
     "start_time": "2024-05-15T09:48:42.182437",
     "status": "completed"
    },
    "tags": []
   },
   "outputs": [],
   "source": [
    "model.fit(X_train, Y_train)"
   ]
  },
  {
   "cell_type": "code",
   "execution_count": 13,
   "id": "377db2af",
   "metadata": {
    "execution": {
     "iopub.execute_input": "2024-05-15T09:48:42.301416Z",
     "iopub.status.busy": "2024-05-15T09:48:42.300670Z",
     "iopub.status.idle": "2024-05-15T09:48:42.310091Z",
     "shell.execute_reply": "2024-05-15T09:48:42.308584Z"
    },
    "papermill": {
     "duration": 0.055093,
     "end_time": "2024-05-15T09:48:42.314375",
     "exception": false,
     "start_time": "2024-05-15T09:48:42.259282",
     "status": "completed"
    },
    "tags": []
   },
   "outputs": [
    {
     "name": "stdout",
     "output_type": "stream",
     "text": [
      "Accuracy: 1.0\n"
     ]
    }
   ],
   "source": [
    "model.eval(X_test, Y_test)"
   ]
  },
  {
   "cell_type": "code",
   "execution_count": 14,
   "id": "ecf32b5e",
   "metadata": {
    "execution": {
     "iopub.execute_input": "2024-05-15T09:48:42.362609Z",
     "iopub.status.busy": "2024-05-15T09:48:42.362168Z",
     "iopub.status.idle": "2024-05-15T09:48:42.367997Z",
     "shell.execute_reply": "2024-05-15T09:48:42.366810Z"
    },
    "papermill": {
     "duration": 0.027636,
     "end_time": "2024-05-15T09:48:42.370451",
     "exception": false,
     "start_time": "2024-05-15T09:48:42.342815",
     "status": "completed"
    },
    "tags": []
   },
   "outputs": [],
   "source": [
    "Y_pred = model.predict(X_test)"
   ]
  },
  {
   "cell_type": "code",
   "execution_count": 15,
   "id": "707604cb",
   "metadata": {
    "execution": {
     "iopub.execute_input": "2024-05-15T09:48:42.407969Z",
     "iopub.status.busy": "2024-05-15T09:48:42.406553Z",
     "iopub.status.idle": "2024-05-15T09:48:42.808474Z",
     "shell.execute_reply": "2024-05-15T09:48:42.807075Z"
    },
    "papermill": {
     "duration": 0.423434,
     "end_time": "2024-05-15T09:48:42.811106",
     "exception": false,
     "start_time": "2024-05-15T09:48:42.387672",
     "status": "completed"
    },
    "tags": []
   },
   "outputs": [
    {
     "data": {
      "image/png": "[encoded data removed]",
      "text/plain": [
       "<Figure size 640x480 with 2 Axes>"
      ]
     },
     "metadata": {},
     "output_type": "display_data"
    }
   ],
   "source": [
    "confusion_matrix(Y_test, Y_pred.round())\n",
    "plt.imshow(confusion_matrix(Y_test, Y_pred.round()), cmap=\"binary\", interpolation=\"None\")\n",
    "plt.title(\"Confusion Matrix\")\n",
    "plt.xlabel(\"Predicted\")\n",
    "plt.ylabel(\"Actual\")\n",
    "plt.xticks([0, 1])\n",
    "plt.yticks([0, 1])\n",
    "plt.colorbar()\n",
    "plt.show()"
   ]
  },
  {
   "cell_type": "markdown",
   "id": "b33b3fe7",
   "metadata": {
    "papermill": {
     "duration": 0.018249,
     "end_time": "2024-05-15T09:48:42.847968",
     "exception": false,
     "start_time": "2024-05-15T09:48:42.829719",
     "status": "completed"
    },
    "tags": []
   },
   "source": [
    "# Group samples of class 1 and class 3 together to form new class"
   ]
  },
  {
   "cell_type": "code",
   "execution_count": 16,
   "id": "5623e2e8",
   "metadata": {
    "execution": {
     "iopub.execute_input": "2024-05-15T09:48:42.888321Z",
     "iopub.status.busy": "2024-05-15T09:48:42.886933Z",
     "iopub.status.idle": "2024-05-15T09:48:42.899236Z",
     "shell.execute_reply": "2024-05-15T09:48:42.897808Z"
    },
    "papermill": {
     "duration": 0.035676,
     "end_time": "2024-05-15T09:48:42.902285",
     "exception": false,
     "start_time": "2024-05-15T09:48:42.866609",
     "status": "completed"
    },
    "tags": []
   },
   "outputs": [],
   "source": [
    "Y_train = np.where(y == 2, 0, y)\n",
    "\n",
    "X_train_class1, X_test_class1, Y_train_class1, Y_test_class1 = train_test_split(\n",
    "    x[Y_train == 0], Y_train[Y_train == 0], test_size=0.2, random_state=42\n",
    ")\n",
    "X_train_class2, X_test_class2, Y_train_class2, Y_test_class2 = train_test_split(\n",
    "    x[Y_train == 1], Y_train[Y_train == 1], test_size=0.2, random_state=42\n",
    ")\n",
    "\n",
    "X_train = np.concatenate((X_train_class1, X_train_class2), axis=0)\n",
    "X_test = np.concatenate((X_test_class1, X_test_class2), axis=0)\n",
    "Y_train = np.concatenate((Y_train_class1, Y_train_class2), axis=0)\n",
    "Y_test = np.concatenate((Y_test_class1, Y_test_class2), axis=0)"
   ]
  },
  {
   "cell_type": "code",
   "execution_count": 17,
   "id": "bfbe4047",
   "metadata": {
    "execution": {
     "iopub.execute_input": "2024-05-15T09:48:42.942751Z",
     "iopub.status.busy": "2024-05-15T09:48:42.942292Z",
     "iopub.status.idle": "2024-05-15T09:48:42.951970Z",
     "shell.execute_reply": "2024-05-15T09:48:42.950463Z"
    },
    "papermill": {
     "duration": 0.033146,
     "end_time": "2024-05-15T09:48:42.954654",
     "exception": false,
     "start_time": "2024-05-15T09:48:42.921508",
     "status": "completed"
    },
    "tags": []
   },
   "outputs": [
    {
     "data": {
      "text/plain": [
       "(array([0, 1]), (80, 4), (20, 4), (40, 4), (10, 4))"
      ]
     },
     "execution_count": 17,
     "metadata": {},
     "output_type": "execute_result"
    }
   ],
   "source": [
    "np.unique(Y_train), X_train_class1.shape, X_test_class1.shape, X_train_class2.shape, X_test_class2.shape"
   ]
  },
  {
   "cell_type": "code",
   "execution_count": 18,
   "id": "9dd2520e",
   "metadata": {
    "execution": {
     "iopub.execute_input": "2024-05-15T09:48:43.063108Z",
     "iopub.status.busy": "2024-05-15T09:48:43.062578Z",
     "iopub.status.idle": "2024-05-15T09:48:43.068362Z",
     "shell.execute_reply": "2024-05-15T09:48:43.067041Z"
    },
    "papermill": {
     "duration": 0.028473,
     "end_time": "2024-05-15T09:48:43.071001",
     "exception": false,
     "start_time": "2024-05-15T09:48:43.042528",
     "status": "completed"
    },
    "tags": []
   },
   "outputs": [],
   "source": [
    "model = LogisticRegression(least_squares=True)"
   ]
  },
  {
   "cell_type": "code",
   "execution_count": 19,
   "id": "bba9a0d2",
   "metadata": {
    "execution": {
     "iopub.execute_input": "2024-05-15T09:48:43.111809Z",
     "iopub.status.busy": "2024-05-15T09:48:43.110843Z",
     "iopub.status.idle": "2024-05-15T09:48:43.123356Z",
     "shell.execute_reply": "2024-05-15T09:48:43.121610Z"
    },
    "papermill": {
     "duration": 0.038327,
     "end_time": "2024-05-15T09:48:43.127996",
     "exception": false,
     "start_time": "2024-05-15T09:48:43.089669",
     "status": "completed"
    },
    "tags": []
   },
   "outputs": [],
   "source": [
    "model.fit(X_train, Y_train)"
   ]
  },
  {
   "cell_type": "code",
   "execution_count": 20,
   "id": "1b401511",
   "metadata": {
    "execution": {
     "iopub.execute_input": "2024-05-15T09:48:43.210535Z",
     "iopub.status.busy": "2024-05-15T09:48:43.209508Z",
     "iopub.status.idle": "2024-05-15T09:48:43.220155Z",
     "shell.execute_reply": "2024-05-15T09:48:43.218234Z"
    },
    "papermill": {
     "duration": 0.060869,
     "end_time": "2024-05-15T09:48:43.230084",
     "exception": false,
     "start_time": "2024-05-15T09:48:43.169215",
     "status": "completed"
    },
    "tags": []
   },
   "outputs": [
    {
     "name": "stdout",
     "output_type": "stream",
     "text": [
      "Accuracy: 0.8\n"
     ]
    }
   ],
   "source": [
    "model.eval(X_test, Y_test)"
   ]
  },
  {
   "cell_type": "code",
   "execution_count": 21,
   "id": "d5dbe1c5",
   "metadata": {
    "execution": {
     "iopub.execute_input": "2024-05-15T09:48:43.273068Z",
     "iopub.status.busy": "2024-05-15T09:48:43.272611Z",
     "iopub.status.idle": "2024-05-15T09:48:43.278938Z",
     "shell.execute_reply": "2024-05-15T09:48:43.277719Z"
    },
    "papermill": {
     "duration": 0.02891,
     "end_time": "2024-05-15T09:48:43.281382",
     "exception": false,
     "start_time": "2024-05-15T09:48:43.252472",
     "status": "completed"
    },
    "tags": []
   },
   "outputs": [],
   "source": [
    "Y_pred = model.predict(X_test)"
   ]
  },
  {
   "cell_type": "code",
   "execution_count": 22,
   "id": "5c463d3f",
   "metadata": {
    "execution": {
     "iopub.execute_input": "2024-05-15T09:48:43.321395Z",
     "iopub.status.busy": "2024-05-15T09:48:43.320682Z",
     "iopub.status.idle": "2024-05-15T09:48:43.653417Z",
     "shell.execute_reply": "2024-05-15T09:48:43.651872Z"
    },
    "papermill": {
     "duration": 0.356694,
     "end_time": "2024-05-15T09:48:43.656730",
     "exception": false,
     "start_time": "2024-05-15T09:48:43.300036",
     "status": "completed"
    },
    "tags": []
   },
   "outputs": [
    {
     "data": {
      "image/png": "[encoded data removed]",
      "text/plain": [
       "<Figure size 640x480 with 2 Axes>"
      ]
     },
     "metadata": {},
     "output_type": "display_data"
    }
   ],
   "source": [
    "confusion_matrix(Y_test, Y_pred.round())\n",
    "plt.imshow(confusion_matrix(Y_test, Y_pred.round()), cmap=\"binary\", interpolation=\"None\")\n",
    "plt.title(\"Confusion Matrix\")\n",
    "plt.xlabel(\"Predicted\")\n",
    "plt.ylabel(\"Actual\")\n",
    "plt.xticks([0, 1])\n",
    "plt.yticks([0, 1])\n",
    "plt.colorbar()\n",
    "plt.show()"
   ]
  },
  {
   "cell_type": "markdown",
   "id": "f5396696",
   "metadata": {
    "papermill": {
     "duration": 0.019238,
     "end_time": "2024-05-15T09:48:43.695332",
     "exception": false,
     "start_time": "2024-05-15T09:48:43.676094",
     "status": "completed"
    },
    "tags": []
   },
   "source": [
    "# Group samples of class 1 and class 2 together to form new class"
   ]
  },
  {
   "cell_type": "code",
   "execution_count": 23,
   "id": "f3a2cc7e",
   "metadata": {
    "execution": {
     "iopub.execute_input": "2024-05-15T09:48:43.737255Z",
     "iopub.status.busy": "2024-05-15T09:48:43.736006Z",
     "iopub.status.idle": "2024-05-15T09:48:43.749574Z",
     "shell.execute_reply": "2024-05-15T09:48:43.748108Z"
    },
    "papermill": {
     "duration": 0.038109,
     "end_time": "2024-05-15T09:48:43.752633",
     "exception": false,
     "start_time": "2024-05-15T09:48:43.714524",
     "status": "completed"
    },
    "tags": []
   },
   "outputs": [],
   "source": [
    "Y_train = np.where(y == 1, 0, y)\n",
    "Y_train = np.where(y == 2, 1, Y_train)\n",
    "\n",
    "X_train_class1, X_test_class1, Y_train_class1, Y_test_class1 = train_test_split(\n",
    "    x[Y_train == 0], Y_train[Y_train == 0], test_size=0.2, random_state=42\n",
    ")\n",
    "X_train_class2, X_test_class2, Y_train_class2, Y_test_class2 = train_test_split(\n",
    "    x[Y_train == 1], Y_train[Y_train == 1], test_size=0.2, random_state=42\n",
    ")\n",
    "\n",
    "X_train = np.concatenate((X_train_class1, X_train_class2), axis=0)\n",
    "X_test = np.concatenate((X_test_class1, X_test_class2), axis=0)\n",
    "Y_train = np.concatenate((Y_train_class1, Y_train_class2), axis=0)\n",
    "Y_test = np.concatenate((Y_test_class1, Y_test_class2), axis=0)"
   ]
  },
  {
   "cell_type": "code",
   "execution_count": 24,
   "id": "a6c7f3fe",
   "metadata": {
    "execution": {
     "iopub.execute_input": "2024-05-15T09:48:43.793951Z",
     "iopub.status.busy": "2024-05-15T09:48:43.793485Z",
     "iopub.status.idle": "2024-05-15T09:48:43.803370Z",
     "shell.execute_reply": "2024-05-15T09:48:43.801934Z"
    },
    "papermill": {
     "duration": 0.034062,
     "end_time": "2024-05-15T09:48:43.805959",
     "exception": false,
     "start_time": "2024-05-15T09:48:43.771897",
     "status": "completed"
    },
    "tags": []
   },
   "outputs": [
    {
     "data": {
      "text/plain": [
       "(array([0, 1]), (80, 4), (20, 4), (40, 4), (10, 4))"
      ]
     },
     "execution_count": 24,
     "metadata": {},
     "output_type": "execute_result"
    }
   ],
   "source": [
    "np.unique(Y_train), X_train_class1.shape, X_test_class1.shape, X_train_class2.shape, X_test_class2.shape"
   ]
  },
  {
   "cell_type": "code",
   "execution_count": 25,
   "id": "a0009269",
   "metadata": {
    "execution": {
     "iopub.execute_input": "2024-05-15T09:48:43.846859Z",
     "iopub.status.busy": "2024-05-15T09:48:43.846380Z",
     "iopub.status.idle": "2024-05-15T09:48:43.852783Z",
     "shell.execute_reply": "2024-05-15T09:48:43.851410Z"
    },
    "papermill": {
     "duration": 0.030086,
     "end_time": "2024-05-15T09:48:43.855431",
     "exception": false,
     "start_time": "2024-05-15T09:48:43.825345",
     "status": "completed"
    },
    "tags": []
   },
   "outputs": [],
   "source": [
    "model = LogisticRegression(least_squares=True)"
   ]
  },
  {
   "cell_type": "code",
   "execution_count": 26,
   "id": "1e9b0d7b",
   "metadata": {
    "execution": {
     "iopub.execute_input": "2024-05-15T09:48:43.899174Z",
     "iopub.status.busy": "2024-05-15T09:48:43.898752Z",
     "iopub.status.idle": "2024-05-15T09:48:43.909178Z",
     "shell.execute_reply": "2024-05-15T09:48:43.907611Z"
    },
    "papermill": {
     "duration": 0.03828,
     "end_time": "2024-05-15T09:48:43.913807",
     "exception": false,
     "start_time": "2024-05-15T09:48:43.875527",
     "status": "completed"
    },
    "tags": []
   },
   "outputs": [],
   "source": [
    "model.fit(X_train, Y_train)"
   ]
  },
  {
   "cell_type": "code",
   "execution_count": 27,
   "id": "79aeb981",
   "metadata": {
    "execution": {
     "iopub.execute_input": "2024-05-15T09:48:43.998173Z",
     "iopub.status.busy": "2024-05-15T09:48:43.997491Z",
     "iopub.status.idle": "2024-05-15T09:48:44.005917Z",
     "shell.execute_reply": "2024-05-15T09:48:44.004471Z"
    },
    "papermill": {
     "duration": 0.062407,
     "end_time": "2024-05-15T09:48:44.016583",
     "exception": false,
     "start_time": "2024-05-15T09:48:43.954176",
     "status": "completed"
    },
    "tags": []
   },
   "outputs": [
    {
     "name": "stdout",
     "output_type": "stream",
     "text": [
      "Accuracy: 0.9\n"
     ]
    }
   ],
   "source": [
    "model.eval(X_test, Y_test)"
   ]
  },
  {
   "cell_type": "code",
   "execution_count": 28,
   "id": "5999a171",
   "metadata": {
    "execution": {
     "iopub.execute_input": "2024-05-15T09:48:44.061183Z",
     "iopub.status.busy": "2024-05-15T09:48:44.060699Z",
     "iopub.status.idle": "2024-05-15T09:48:44.067110Z",
     "shell.execute_reply": "2024-05-15T09:48:44.065775Z"
    },
    "papermill": {
     "duration": 0.029936,
     "end_time": "2024-05-15T09:48:44.069705",
     "exception": false,
     "start_time": "2024-05-15T09:48:44.039769",
     "status": "completed"
    },
    "tags": []
   },
   "outputs": [],
   "source": [
    "Y_pred = model.predict(X_test)"
   ]
  },
  {
   "cell_type": "code",
   "execution_count": 29,
   "id": "1f59db0b",
   "metadata": {
    "execution": {
     "iopub.execute_input": "2024-05-15T09:48:44.114045Z",
     "iopub.status.busy": "2024-05-15T09:48:44.113527Z",
     "iopub.status.idle": "2024-05-15T09:48:44.420329Z",
     "shell.execute_reply": "2024-05-15T09:48:44.418758Z"
    },
    "papermill": {
     "duration": 0.334303,
     "end_time": "2024-05-15T09:48:44.423796",
     "exception": false,
     "start_time": "2024-05-15T09:48:44.089493",
     "status": "completed"
    },
    "tags": []
   },
   "outputs": [
    {
     "data": {
      "image/png": "[encoded data removed]",
      "text/plain": [
       "<Figure size 640x480 with 2 Axes>"
      ]
     },
     "metadata": {},
     "output_type": "display_data"
    }
   ],
   "source": [
    "confusion_matrix(Y_test, Y_pred.round())\n",
    "plt.imshow(confusion_matrix(Y_test, Y_pred.round()), cmap=\"binary\")\n",
    "plt.title(\"Confusion Matrix\")\n",
    "plt.xlabel(\"Predicted\")\n",
    "plt.ylabel(\"Actual\")\n",
    "plt.xticks([0, 1])\n",
    "plt.yticks([0, 1])\n",
    "plt.colorbar()\n",
    "plt.show()"
   ]
  },
  {
   "cell_type": "markdown",
   "id": "67c08350",
   "metadata": {
    "papermill": {
     "duration": 0.028059,
     "end_time": "2024-05-15T09:48:44.483388",
     "exception": false,
     "start_time": "2024-05-15T09:48:44.455329",
     "status": "completed"
    },
    "tags": []
   },
   "source": [
    "# With Gradient Descent"
   ]
  },
  {
   "cell_type": "code",
   "execution_count": 30,
   "id": "a85f7928",
   "metadata": {
    "execution": {
     "iopub.execute_input": "2024-05-15T09:48:44.537873Z",
     "iopub.status.busy": "2024-05-15T09:48:44.536976Z",
     "iopub.status.idle": "2024-05-15T09:48:44.544254Z",
     "shell.execute_reply": "2024-05-15T09:48:44.543128Z"
    },
    "papermill": {
     "duration": 0.035342,
     "end_time": "2024-05-15T09:48:44.546774",
     "exception": false,
     "start_time": "2024-05-15T09:48:44.511432",
     "status": "completed"
    },
    "tags": []
   },
   "outputs": [],
   "source": [
    "x_train, x_test, y_train, y_test = train_test_split(\n",
    "    x, y, test_size=0.3, random_state=42\n",
    ")"
   ]
  },
  {
   "cell_type": "code",
   "execution_count": 31,
   "id": "34060f26",
   "metadata": {
    "execution": {
     "iopub.execute_input": "2024-05-15T09:48:44.589681Z",
     "iopub.status.busy": "2024-05-15T09:48:44.589258Z",
     "iopub.status.idle": "2024-05-15T09:48:44.594949Z",
     "shell.execute_reply": "2024-05-15T09:48:44.593499Z"
    },
    "papermill": {
     "duration": 0.030462,
     "end_time": "2024-05-15T09:48:44.597820",
     "exception": false,
     "start_time": "2024-05-15T09:48:44.567358",
     "status": "completed"
    },
    "tags": []
   },
   "outputs": [],
   "source": [
    "model = LogisticRegression(multi_class=True)"
   ]
  },
  {
   "cell_type": "markdown",
   "id": "d3c5fdb9",
   "metadata": {
    "papermill": {
     "duration": 0.020585,
     "end_time": "2024-05-15T09:48:44.639205",
     "exception": false,
     "start_time": "2024-05-15T09:48:44.618620",
     "status": "completed"
    },
    "tags": []
   },
   "source": [
    "# Standardization\n"
   ]
  },
  {
   "cell_type": "code",
   "execution_count": 32,
   "id": "174dd078",
   "metadata": {
    "execution": {
     "iopub.execute_input": "2024-05-15T09:48:44.694147Z",
     "iopub.status.busy": "2024-05-15T09:48:44.693665Z",
     "iopub.status.idle": "2024-05-15T09:48:44.700813Z",
     "shell.execute_reply": "2024-05-15T09:48:44.699279Z"
    },
    "papermill": {
     "duration": 0.035442,
     "end_time": "2024-05-15T09:48:44.703585",
     "exception": false,
     "start_time": "2024-05-15T09:48:44.668143",
     "status": "completed"
    },
    "tags": []
   },
   "outputs": [],
   "source": [
    "x_train = (x_train - x_train.mean()) / x_train.std()\n",
    "x_test = (x_test - x_test.mean()) / x_test.std()"
   ]
  },
  {
   "cell_type": "markdown",
   "id": "c5172fb0",
   "metadata": {
    "papermill": {
     "duration": 0.021754,
     "end_time": "2024-05-15T09:48:44.749450",
     "exception": false,
     "start_time": "2024-05-15T09:48:44.727696",
     "status": "completed"
    },
    "tags": []
   },
   "source": [
    "# Train\n"
   ]
  },
  {
   "cell_type": "code",
   "execution_count": 33,
   "id": "c52a876f",
   "metadata": {
    "execution": {
     "iopub.execute_input": "2024-05-15T09:48:44.793185Z",
     "iopub.status.busy": "2024-05-15T09:48:44.792697Z",
     "iopub.status.idle": "2024-05-15T09:48:50.245201Z",
     "shell.execute_reply": "2024-05-15T09:48:50.243400Z"
    },
    "papermill": {
     "duration": 5.477833,
     "end_time": "2024-05-15T09:48:50.248246",
     "exception": false,
     "start_time": "2024-05-15T09:48:44.770413",
     "status": "completed"
    },
    "tags": []
   },
   "outputs": [
    {
     "name": "stderr",
     "output_type": "stream",
     "text": [
      "/tmp/ipykernel_18/2022181573.py:42: RuntimeWarning: overflow encountered in exp\n",
      "  predication = 1.0 / (1.0 + np.exp(-z))\n"
     ]
    },
    {
     "name": "stdout",
     "output_type": "stream",
     "text": [
      "\n",
      "Final Loss: 0.4713125799765471\n",
      "Final Accuracy: 0.6476190476190476\n"
     ]
    }
   ],
   "source": [
    "model.fit(x_train, y_train)"
   ]
  },
  {
   "cell_type": "code",
   "execution_count": 34,
   "id": "57a316da",
   "metadata": {
    "execution": {
     "iopub.execute_input": "2024-05-15T09:48:50.294299Z",
     "iopub.status.busy": "2024-05-15T09:48:50.293796Z",
     "iopub.status.idle": "2024-05-15T09:48:50.664465Z",
     "shell.execute_reply": "2024-05-15T09:48:50.663169Z"
    },
    "papermill": {
     "duration": 0.395671,
     "end_time": "2024-05-15T09:48:50.667152",
     "exception": false,
     "start_time": "2024-05-15T09:48:50.271481",
     "status": "completed"
    },
    "tags": []
   },
   "outputs": [
    {
     "data": {
      "image/png": "[encoded data removed]",
      "text/plain": [
       "<Figure size 640x480 with 1 Axes>"
      ]
     },
     "metadata": {},
     "output_type": "display_data"
    }
   ],
   "source": [
    "model.plot()"
   ]
  },
  {
   "cell_type": "code",
   "execution_count": 35,
   "id": "adab66e1",
   "metadata": {
    "execution": {
     "iopub.execute_input": "2024-05-15T09:48:50.711656Z",
     "iopub.status.busy": "2024-05-15T09:48:50.711194Z",
     "iopub.status.idle": "2024-05-15T09:48:50.720142Z",
     "shell.execute_reply": "2024-05-15T09:48:50.718738Z"
    },
    "papermill": {
     "duration": 0.034542,
     "end_time": "2024-05-15T09:48:50.722797",
     "exception": false,
     "start_time": "2024-05-15T09:48:50.688255",
     "status": "completed"
    },
    "tags": []
   },
   "outputs": [
    {
     "name": "stdout",
     "output_type": "stream",
     "text": [
      "Accuracy: 0.7111111111111111\n"
     ]
    },
    {
     "name": "stderr",
     "output_type": "stream",
     "text": [
      "/tmp/ipykernel_18/2022181573.py:42: RuntimeWarning: overflow encountered in exp\n",
      "  predication = 1.0 / (1.0 + np.exp(-z))\n"
     ]
    }
   ],
   "source": [
    "model.eval(x_test, y_test)"
   ]
  },
  {
   "cell_type": "markdown",
   "id": "0d106007",
   "metadata": {
    "papermill": {
     "duration": 0.021797,
     "end_time": "2024-05-15T09:48:50.766669",
     "exception": false,
     "start_time": "2024-05-15T09:48:50.744872",
     "status": "completed"
    },
    "tags": []
   },
   "source": [
    "# Group samples of class 2 and class 3 together to form new class"
   ]
  },
  {
   "cell_type": "code",
   "execution_count": 36,
   "id": "88850ef5",
   "metadata": {
    "execution": {
     "iopub.execute_input": "2024-05-15T09:48:50.813565Z",
     "iopub.status.busy": "2024-05-15T09:48:50.812374Z",
     "iopub.status.idle": "2024-05-15T09:48:50.823557Z",
     "shell.execute_reply": "2024-05-15T09:48:50.822432Z"
    },
    "papermill": {
     "duration": 0.037613,
     "end_time": "2024-05-15T09:48:50.826493",
     "exception": false,
     "start_time": "2024-05-15T09:48:50.788880",
     "status": "completed"
    },
    "tags": []
   },
   "outputs": [],
   "source": [
    "Y_train = np.where(y == 2, 1, y)\n",
    "\n",
    "X_train_class1, X_test_class1, Y_train_class1, Y_test_class1 = train_test_split(\n",
    "    x[Y_train == 0], Y_train[Y_train == 0], test_size=0.2, random_state=42\n",
    ")\n",
    "X_train_class2, X_test_class2, Y_train_class2, Y_test_class2 = train_test_split(\n",
    "    x[Y_train == 1], Y_train[Y_train == 1], test_size=0.2, random_state=42\n",
    ")\n",
    "\n",
    "X_train = np.concatenate((X_train_class1, X_train_class2), axis=0)\n",
    "X_test = np.concatenate((X_test_class1, X_test_class2), axis=0)\n",
    "Y_train = np.concatenate((Y_train_class1, Y_train_class2), axis=0)\n",
    "Y_test = np.concatenate((Y_test_class1, Y_test_class2), axis=0)"
   ]
  },
  {
   "cell_type": "code",
   "execution_count": 37,
   "id": "c1dacb0e",
   "metadata": {
    "execution": {
     "iopub.execute_input": "2024-05-15T09:48:50.872264Z",
     "iopub.status.busy": "2024-05-15T09:48:50.871381Z",
     "iopub.status.idle": "2024-05-15T09:48:50.879091Z",
     "shell.execute_reply": "2024-05-15T09:48:50.877617Z"
    },
    "papermill": {
     "duration": 0.033582,
     "end_time": "2024-05-15T09:48:50.881778",
     "exception": false,
     "start_time": "2024-05-15T09:48:50.848196",
     "status": "completed"
    },
    "tags": []
   },
   "outputs": [],
   "source": [
    "model = LogisticRegression()"
   ]
  },
  {
   "cell_type": "code",
   "execution_count": 38,
   "id": "a4474193",
   "metadata": {
    "execution": {
     "iopub.execute_input": "2024-05-15T09:48:50.928987Z",
     "iopub.status.busy": "2024-05-15T09:48:50.928552Z",
     "iopub.status.idle": "2024-05-15T09:50:47.088934Z",
     "shell.execute_reply": "2024-05-15T09:50:47.087296Z"
    },
    "papermill": {
     "duration": 116.210122,
     "end_time": "2024-05-15T09:50:47.114816",
     "exception": false,
     "start_time": "2024-05-15T09:48:50.904694",
     "status": "completed"
    },
    "tags": []
   },
   "outputs": [
    {
     "name": "stdout",
     "output_type": "stream",
     "text": [
      "\n",
      "Final Loss: 1.3850211796957178e-05\n",
      "Final Accuracy: 1.0\n"
     ]
    }
   ],
   "source": [
    "model.fit(X_train, Y_train)"
   ]
  },
  {
   "cell_type": "code",
   "execution_count": 39,
   "id": "6b4587af",
   "metadata": {
    "execution": {
     "iopub.execute_input": "2024-05-15T09:50:47.162754Z",
     "iopub.status.busy": "2024-05-15T09:50:47.162292Z",
     "iopub.status.idle": "2024-05-15T09:50:49.034620Z",
     "shell.execute_reply": "2024-05-15T09:50:49.033147Z"
    },
    "papermill": {
     "duration": 1.899129,
     "end_time": "2024-05-15T09:50:49.037278",
     "exception": false,
     "start_time": "2024-05-15T09:50:47.138149",
     "status": "completed"
    },
    "tags": []
   },
   "outputs": [
    {
     "data": {
      "image/png": "[encoded data removed]",
      "text/plain": [
       "<Figure size 640x480 with 1 Axes>"
      ]
     },
     "metadata": {},
     "output_type": "display_data"
    }
   ],
   "source": [
    "model.plot()"
   ]
  },
  {
   "cell_type": "code",
   "execution_count": 40,
   "id": "2849cdd4",
   "metadata": {
    "execution": {
     "iopub.execute_input": "2024-05-15T09:50:49.084696Z",
     "iopub.status.busy": "2024-05-15T09:50:49.084165Z",
     "iopub.status.idle": "2024-05-15T09:50:49.091755Z",
     "shell.execute_reply": "2024-05-15T09:50:49.090203Z"
    },
    "papermill": {
     "duration": 0.034265,
     "end_time": "2024-05-15T09:50:49.094353",
     "exception": false,
     "start_time": "2024-05-15T09:50:49.060088",
     "status": "completed"
    },
    "tags": []
   },
   "outputs": [
    {
     "name": "stdout",
     "output_type": "stream",
     "text": [
      "Accuracy: 1.0\n"
     ]
    }
   ],
   "source": [
    "model.eval(X_test, Y_test)"
   ]
  },
  {
   "cell_type": "code",
   "execution_count": 41,
   "id": "62afe3f9",
   "metadata": {
    "execution": {
     "iopub.execute_input": "2024-05-15T09:50:49.142108Z",
     "iopub.status.busy": "2024-05-15T09:50:49.141625Z",
     "iopub.status.idle": "2024-05-15T09:50:49.147593Z",
     "shell.execute_reply": "2024-05-15T09:50:49.146309Z"
    },
    "papermill": {
     "duration": 0.033032,
     "end_time": "2024-05-15T09:50:49.150167",
     "exception": false,
     "start_time": "2024-05-15T09:50:49.117135",
     "status": "completed"
    },
    "tags": []
   },
   "outputs": [],
   "source": [
    "Y_pred = model.predict(X_test)"
   ]
  },
  {
   "cell_type": "code",
   "execution_count": 42,
   "id": "4b0cf862",
   "metadata": {
    "execution": {
     "iopub.execute_input": "2024-05-15T09:50:49.198696Z",
     "iopub.status.busy": "2024-05-15T09:50:49.197598Z",
     "iopub.status.idle": "2024-05-15T09:50:49.514950Z",
     "shell.execute_reply": "2024-05-15T09:50:49.513425Z"
    },
    "papermill": {
     "duration": 0.345111,
     "end_time": "2024-05-15T09:50:49.517734",
     "exception": false,
     "start_time": "2024-05-15T09:50:49.172623",
     "status": "completed"
    },
    "tags": []
   },
   "outputs": [
    {
     "data": {
      "image/png": "[encoded data removed]",
      "text/plain": [
       "<Figure size 640x480 with 2 Axes>"
      ]
     },
     "metadata": {},
     "output_type": "display_data"
    }
   ],
   "source": [
    "confusion_matrix(Y_test, Y_pred.round())\n",
    "plt.imshow(confusion_matrix(Y_test, Y_pred.round()), cmap=\"binary\", interpolation=\"None\")\n",
    "plt.title(\"Confusion Matrix\")\n",
    "plt.xlabel(\"Predicted\")\n",
    "plt.ylabel(\"Actual\")\n",
    "plt.xticks([0, 1])\n",
    "plt.yticks([0, 1])\n",
    "plt.colorbar()\n",
    "plt.show()"
   ]
  },
  {
   "cell_type": "markdown",
   "id": "122536f1",
   "metadata": {
    "papermill": {
     "duration": 0.022838,
     "end_time": "2024-05-15T09:50:49.563440",
     "exception": false,
     "start_time": "2024-05-15T09:50:49.540602",
     "status": "completed"
    },
    "tags": []
   },
   "source": [
    "# Group samples of class 1 and class 3 together to form new class"
   ]
  },
  {
   "cell_type": "code",
   "execution_count": 43,
   "id": "f8a8dd47",
   "metadata": {
    "execution": {
     "iopub.execute_input": "2024-05-15T09:50:49.611783Z",
     "iopub.status.busy": "2024-05-15T09:50:49.611305Z",
     "iopub.status.idle": "2024-05-15T09:50:49.623939Z",
     "shell.execute_reply": "2024-05-15T09:50:49.622460Z"
    },
    "papermill": {
     "duration": 0.040252,
     "end_time": "2024-05-15T09:50:49.626835",
     "exception": false,
     "start_time": "2024-05-15T09:50:49.586583",
     "status": "completed"
    },
    "tags": []
   },
   "outputs": [],
   "source": [
    "Y_train = np.where(y == 2, 0, y)\n",
    "\n",
    "X_train_class1, X_test_class1, Y_train_class1, Y_test_class1 = train_test_split(\n",
    "    x[Y_train == 0], Y_train[Y_train == 0], test_size=0.2, random_state=42\n",
    ")\n",
    "X_train_class2, X_test_class2, Y_train_class2, Y_test_class2 = train_test_split(\n",
    "    x[Y_train == 1], Y_train[Y_train == 1], test_size=0.2, random_state=42\n",
    ")\n",
    "\n",
    "X_train = np.concatenate((X_train_class1, X_train_class2), axis=0)\n",
    "X_test = np.concatenate((X_test_class1, X_test_class2), axis=0)\n",
    "Y_train = np.concatenate((Y_train_class1, Y_train_class2), axis=0)\n",
    "Y_test = np.concatenate((Y_test_class1, Y_test_class2), axis=0)"
   ]
  },
  {
   "cell_type": "code",
   "execution_count": 44,
   "id": "184f3740",
   "metadata": {
    "execution": {
     "iopub.execute_input": "2024-05-15T09:50:49.675181Z",
     "iopub.status.busy": "2024-05-15T09:50:49.674713Z",
     "iopub.status.idle": "2024-05-15T09:50:49.764448Z",
     "shell.execute_reply": "2024-05-15T09:50:49.763165Z"
    },
    "papermill": {
     "duration": 0.117281,
     "end_time": "2024-05-15T09:50:49.767188",
     "exception": false,
     "start_time": "2024-05-15T09:50:49.649907",
     "status": "completed"
    },
    "tags": []
   },
   "outputs": [],
   "source": [
    "model = LogisticRegression()"
   ]
  },
  {
   "cell_type": "code",
   "execution_count": 45,
   "id": "986558ba",
   "metadata": {
    "execution": {
     "iopub.execute_input": "2024-05-15T09:50:49.816788Z",
     "iopub.status.busy": "2024-05-15T09:50:49.816348Z",
     "iopub.status.idle": "2024-05-15T09:51:02.251929Z",
     "shell.execute_reply": "2024-05-15T09:51:02.250292Z"
    },
    "papermill": {
     "duration": 12.464116,
     "end_time": "2024-05-15T09:51:02.254794",
     "exception": false,
     "start_time": "2024-05-15T09:50:49.790678",
     "status": "completed"
    },
    "tags": []
   },
   "outputs": [
    {
     "name": "stdout",
     "output_type": "stream",
     "text": [
      "\n",
      "Final Loss: 0.5071257298771036\n",
      "Final Accuracy: 0.7166666666666667\n"
     ]
    }
   ],
   "source": [
    "model.fit(X_train, Y_train)"
   ]
  },
  {
   "cell_type": "code",
   "execution_count": 46,
   "id": "a9797051",
   "metadata": {
    "execution": {
     "iopub.execute_input": "2024-05-15T09:51:02.305582Z",
     "iopub.status.busy": "2024-05-15T09:51:02.305136Z",
     "iopub.status.idle": "2024-05-15T09:51:02.754007Z",
     "shell.execute_reply": "2024-05-15T09:51:02.752811Z"
    },
    "papermill": {
     "duration": 0.4773,
     "end_time": "2024-05-15T09:51:02.756603",
     "exception": false,
     "start_time": "2024-05-15T09:51:02.279303",
     "status": "completed"
    },
    "tags": []
   },
   "outputs": [
    {
     "data": {
      "image/png": "[encoded data removed]",
      "text/plain": [
       "<Figure size 640x480 with 1 Axes>"
      ]
     },
     "metadata": {},
     "output_type": "display_data"
    }
   ],
   "source": [
    "model.plot()"
   ]
  },
  {
   "cell_type": "code",
   "execution_count": 47,
   "id": "a64259ef",
   "metadata": {
    "execution": {
     "iopub.execute_input": "2024-05-15T09:51:02.808103Z",
     "iopub.status.busy": "2024-05-15T09:51:02.807650Z",
     "iopub.status.idle": "2024-05-15T09:51:02.814659Z",
     "shell.execute_reply": "2024-05-15T09:51:02.813348Z"
    },
    "papermill": {
     "duration": 0.036501,
     "end_time": "2024-05-15T09:51:02.817504",
     "exception": false,
     "start_time": "2024-05-15T09:51:02.781003",
     "status": "completed"
    },
    "tags": []
   },
   "outputs": [
    {
     "name": "stdout",
     "output_type": "stream",
     "text": [
      "Accuracy: 0.8\n"
     ]
    }
   ],
   "source": [
    "model.eval(X_test, Y_test)"
   ]
  },
  {
   "cell_type": "code",
   "execution_count": 48,
   "id": "f9a639ba",
   "metadata": {
    "execution": {
     "iopub.execute_input": "2024-05-15T09:51:02.869197Z",
     "iopub.status.busy": "2024-05-15T09:51:02.868742Z",
     "iopub.status.idle": "2024-05-15T09:51:02.874119Z",
     "shell.execute_reply": "2024-05-15T09:51:02.873008Z"
    },
    "papermill": {
     "duration": 0.034264,
     "end_time": "2024-05-15T09:51:02.876940",
     "exception": false,
     "start_time": "2024-05-15T09:51:02.842676",
     "status": "completed"
    },
    "tags": []
   },
   "outputs": [],
   "source": [
    "Y_pred = model.predict(X_test)"
   ]
  },
  {
   "cell_type": "code",
   "execution_count": 49,
   "id": "a03b3f1d",
   "metadata": {
    "execution": {
     "iopub.execute_input": "2024-05-15T09:51:02.930274Z",
     "iopub.status.busy": "2024-05-15T09:51:02.929840Z",
     "iopub.status.idle": "2024-05-15T09:51:03.238024Z",
     "shell.execute_reply": "2024-05-15T09:51:03.236771Z"
    },
    "papermill": {
     "duration": 0.337037,
     "end_time": "2024-05-15T09:51:03.240632",
     "exception": false,
     "start_time": "2024-05-15T09:51:02.903595",
     "status": "completed"
    },
    "tags": []
   },
   "outputs": [
    {
     "data": {
      "image/png": "[encoded data removed]",
      "text/plain": [
       "<Figure size 640x480 with 2 Axes>"
      ]
     },
     "metadata": {},
     "output_type": "display_data"
    }
   ],
   "source": [
    "confusion_matrix(Y_test, Y_pred.round())\n",
    "plt.imshow(confusion_matrix(Y_test, Y_pred.round()), cmap=\"binary\", interpolation=\"None\")\n",
    "plt.title(\"Confusion Matrix\")\n",
    "plt.xlabel(\"Predicted\")\n",
    "plt.ylabel(\"Actual\")\n",
    "plt.xticks([0, 1])\n",
    "plt.yticks([0, 1])\n",
    "plt.colorbar()\n",
    "plt.show()"
   ]
  },
  {
   "cell_type": "markdown",
   "id": "c6865794",
   "metadata": {
    "papermill": {
     "duration": 0.023996,
     "end_time": "2024-05-15T09:51:03.289732",
     "exception": false,
     "start_time": "2024-05-15T09:51:03.265736",
     "status": "completed"
    },
    "tags": []
   },
   "source": [
    "# Group samples of class 1 and class 2 together to form new class"
   ]
  },
  {
   "cell_type": "code",
   "execution_count": 50,
   "id": "4e6e13ad",
   "metadata": {
    "execution": {
     "iopub.execute_input": "2024-05-15T09:51:03.341309Z",
     "iopub.status.busy": "2024-05-15T09:51:03.339983Z",
     "iopub.status.idle": "2024-05-15T09:51:03.354189Z",
     "shell.execute_reply": "2024-05-15T09:51:03.352866Z"
    },
    "papermill": {
     "duration": 0.043423,
     "end_time": "2024-05-15T09:51:03.357540",
     "exception": false,
     "start_time": "2024-05-15T09:51:03.314117",
     "status": "completed"
    },
    "tags": []
   },
   "outputs": [],
   "source": [
    "Y_train = np.where(y == 1, 0, y)\n",
    "Y_train = np.where(y == 2, 1, Y_train)\n",
    "\n",
    "X_train_class1, X_test_class1, Y_train_class1, Y_test_class1 = train_test_split(\n",
    "    x[Y_train == 0], Y_train[Y_train == 0], test_size=0.2, random_state=42\n",
    ")\n",
    "X_train_class2, X_test_class2, Y_train_class2, Y_test_class2 = train_test_split(\n",
    "    x[Y_train == 1], Y_train[Y_train == 1], test_size=0.2, random_state=42\n",
    ")\n",
    "\n",
    "X_train = np.concatenate((X_train_class1, X_train_class2), axis=0)\n",
    "X_test = np.concatenate((X_test_class1, X_test_class2), axis=0)\n",
    "Y_train = np.concatenate((Y_train_class1, Y_train_class2), axis=0)\n",
    "Y_test = np.concatenate((Y_test_class1, Y_test_class2), axis=0)"
   ]
  },
  {
   "cell_type": "code",
   "execution_count": 51,
   "id": "844abb16",
   "metadata": {
    "execution": {
     "iopub.execute_input": "2024-05-15T09:51:03.411714Z",
     "iopub.status.busy": "2024-05-15T09:51:03.411304Z",
     "iopub.status.idle": "2024-05-15T09:51:03.425821Z",
     "shell.execute_reply": "2024-05-15T09:51:03.424434Z"
    },
    "papermill": {
     "duration": 0.045119,
     "end_time": "2024-05-15T09:51:03.428731",
     "exception": false,
     "start_time": "2024-05-15T09:51:03.383612",
     "status": "completed"
    },
    "tags": []
   },
   "outputs": [],
   "source": [
    "model = LogisticRegression()"
   ]
  },
  {
   "cell_type": "code",
   "execution_count": 52,
   "id": "21f64867",
   "metadata": {
    "execution": {
     "iopub.execute_input": "2024-05-15T09:51:03.480955Z",
     "iopub.status.busy": "2024-05-15T09:51:03.480509Z",
     "iopub.status.idle": "2024-05-15T09:53:00.477155Z",
     "shell.execute_reply": "2024-05-15T09:53:00.475222Z"
    },
    "papermill": {
     "duration": 117.051159,
     "end_time": "2024-05-15T09:53:00.505029",
     "exception": false,
     "start_time": "2024-05-15T09:51:03.453870",
     "status": "completed"
    },
    "tags": []
   },
   "outputs": [
    {
     "name": "stdout",
     "output_type": "stream",
     "text": [
      "\n",
      "Final Loss: 0.006571576818521886\n",
      "Final Accuracy: 1.0\n"
     ]
    }
   ],
   "source": [
    "model.fit(X_train, Y_train)"
   ]
  },
  {
   "cell_type": "code",
   "execution_count": 53,
   "id": "2bbcf5b3",
   "metadata": {
    "execution": {
     "iopub.execute_input": "2024-05-15T09:53:00.559127Z",
     "iopub.status.busy": "2024-05-15T09:53:00.558597Z",
     "iopub.status.idle": "2024-05-15T09:53:02.533005Z",
     "shell.execute_reply": "2024-05-15T09:53:02.531483Z"
    },
    "papermill": {
     "duration": 2.005369,
     "end_time": "2024-05-15T09:53:02.536081",
     "exception": false,
     "start_time": "2024-05-15T09:53:00.530712",
     "status": "completed"
    },
    "tags": []
   },
   "outputs": [
    {
     "data": {
      "image/png": "[encoded data removed]",
      "text/plain": [
       "<Figure size 640x480 with 1 Axes>"
      ]
     },
     "metadata": {},
     "output_type": "display_data"
    }
   ],
   "source": [
    "model.plot()"
   ]
  },
  {
   "cell_type": "code",
   "execution_count": 54,
   "id": "935b46a1",
   "metadata": {
    "execution": {
     "iopub.execute_input": "2024-05-15T09:53:02.591814Z",
     "iopub.status.busy": "2024-05-15T09:53:02.591322Z",
     "iopub.status.idle": "2024-05-15T09:53:02.598906Z",
     "shell.execute_reply": "2024-05-15T09:53:02.597121Z"
    },
    "papermill": {
     "duration": 0.039755,
     "end_time": "2024-05-15T09:53:02.601986",
     "exception": false,
     "start_time": "2024-05-15T09:53:02.562231",
     "status": "completed"
    },
    "tags": []
   },
   "outputs": [
    {
     "name": "stdout",
     "output_type": "stream",
     "text": [
      "Accuracy: 0.9333333333333333\n"
     ]
    }
   ],
   "source": [
    "model.eval(X_test, Y_test)"
   ]
  },
  {
   "cell_type": "code",
   "execution_count": 55,
   "id": "03c3991e",
   "metadata": {
    "execution": {
     "iopub.execute_input": "2024-05-15T09:53:02.657896Z",
     "iopub.status.busy": "2024-05-15T09:53:02.657400Z",
     "iopub.status.idle": "2024-05-15T09:53:02.663966Z",
     "shell.execute_reply": "2024-05-15T09:53:02.662467Z"
    },
    "papermill": {
     "duration": 0.03837,
     "end_time": "2024-05-15T09:53:02.666997",
     "exception": false,
     "start_time": "2024-05-15T09:53:02.628627",
     "status": "completed"
    },
    "tags": []
   },
   "outputs": [],
   "source": [
    "Y_pred = model.predict(X_test)"
   ]
  },
  {
   "cell_type": "code",
   "execution_count": 56,
   "id": "13218032",
   "metadata": {
    "execution": {
     "iopub.execute_input": "2024-05-15T09:53:02.721132Z",
     "iopub.status.busy": "2024-05-15T09:53:02.720611Z",
     "iopub.status.idle": "2024-05-15T09:53:03.036437Z",
     "shell.execute_reply": "2024-05-15T09:53:03.035035Z"
    },
    "papermill": {
     "duration": 0.346032,
     "end_time": "2024-05-15T09:53:03.039495",
     "exception": false,
     "start_time": "2024-05-15T09:53:02.693463",
     "status": "completed"
    },
    "tags": []
   },
   "outputs": [
    {
     "data": {
      "image/png": "[encoded data removed]",
      "text/plain": [
       "<Figure size 640x480 with 2 Axes>"
      ]
     },
     "metadata": {},
     "output_type": "display_data"
    }
   ],
   "source": [
    "confusion_matrix(Y_test, Y_pred.round())\n",
    "plt.imshow(confusion_matrix(Y_test, Y_pred.round()), cmap=\"binary\", interpolation=\"None\")\n",
    "plt.title(\"Confusion Matrix\")\n",
    "plt.xlabel(\"Predicted\")\n",
    "plt.ylabel(\"Actual\")\n",
    "plt.xticks([0, 1])\n",
    "plt.yticks([0, 1])\n",
    "plt.colorbar()\n",
    "plt.show()"
   ]
  }
 ],
 "metadata": {
  "kaggle": {
   "accelerator": "none",
   "dataSources": [],
   "dockerImageVersionId": 30698,
   "isGpuEnabled": false,
   "isInternetEnabled": true,
   "language": "python",
   "sourceType": "notebook"
  },
  "kernelspec": {
   "display_name": "Python 3",
   "language": "python",
   "name": "python3"
  },
  "language_info": {
   "codemirror_mode": {
    "name": "ipython",
    "version": 3
   },
   "file_extension": ".py",
   "mimetype": "text/x-python",
   "name": "python",
   "nbconvert_exporter": "python",
   "pygments_lexer": "ipython3",
   "version": "3.10.13"
  },
  "papermill": {
   "default_parameters": {},
   "duration": 268.24197,
   "end_time": "2024-05-15T09:53:04.092324",
   "environment_variables": {},
   "exception": null,
   "input_path": "__notebook__.ipynb",
   "output_path": "__notebook__.ipynb",
   "parameters": {},
   "start_time": "2024-05-15T09:48:35.850354",
   "version": "2.5.0"
  }
 },
 "nbformat": 4,
 "nbformat_minor": 5
}
