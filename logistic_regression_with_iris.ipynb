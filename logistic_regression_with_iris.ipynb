{
 "cells": [
  {
   "cell_type": "code",
   "execution_count": 1,
   "id": "ad7b08e5",
   "metadata": {
    "execution": {
     "iopub.execute_input": "2024-05-13T09:23:15.176497Z",
     "iopub.status.busy": "2024-05-13T09:23:15.176064Z",
     "iopub.status.idle": "2024-05-13T09:23:17.394308Z",
     "shell.execute_reply": "2024-05-13T09:23:17.393198Z"
    },
    "papermill": {
     "duration": 2.233744,
     "end_time": "2024-05-13T09:23:17.397125",
     "exception": false,
     "start_time": "2024-05-13T09:23:15.163381",
     "status": "completed"
    },
    "tags": []
   },
   "outputs": [],
   "source": [
    "import numpy as np\n",
    "import matplotlib.pyplot as plt\n",
    "from sklearn import datasets\n",
    "from sklearn.model_selection import train_test_split\n",
    "import sys\n",
    "import pandas as pd"
   ]
  },
  {
   "cell_type": "code",
   "execution_count": 2,
   "id": "cfc90544",
   "metadata": {
    "execution": {
     "iopub.execute_input": "2024-05-13T09:23:17.419015Z",
     "iopub.status.busy": "2024-05-13T09:23:17.418477Z",
     "iopub.status.idle": "2024-05-13T09:23:17.430342Z",
     "shell.execute_reply": "2024-05-13T09:23:17.429202Z"
    },
    "papermill": {
     "duration": 0.025811,
     "end_time": "2024-05-13T09:23:17.433041",
     "exception": false,
     "start_time": "2024-05-13T09:23:17.407230",
     "status": "completed"
    },
    "tags": []
   },
   "outputs": [],
   "source": [
    "iris = datasets.load_iris()\n",
    "x = iris.data\n",
    "y = iris.target"
   ]
  },
  {
   "cell_type": "code",
   "execution_count": 3,
   "id": "40788ed6",
   "metadata": {
    "execution": {
     "iopub.execute_input": "2024-05-13T09:23:17.455161Z",
     "iopub.status.busy": "2024-05-13T09:23:17.454278Z",
     "iopub.status.idle": "2024-05-13T09:23:17.462455Z",
     "shell.execute_reply": "2024-05-13T09:23:17.461335Z"
    },
    "papermill": {
     "duration": 0.021972,
     "end_time": "2024-05-13T09:23:17.465041",
     "exception": false,
     "start_time": "2024-05-13T09:23:17.443069",
     "status": "completed"
    },
    "tags": []
   },
   "outputs": [
    {
     "data": {
      "text/plain": [
       "(150,)"
      ]
     },
     "execution_count": 3,
     "metadata": {},
     "output_type": "execute_result"
    }
   ],
   "source": [
    "y.shape"
   ]
  },
  {
   "cell_type": "code",
   "execution_count": 4,
   "id": "3c0e8bb1",
   "metadata": {
    "execution": {
     "iopub.execute_input": "2024-05-13T09:23:17.487240Z",
     "iopub.status.busy": "2024-05-13T09:23:17.486834Z",
     "iopub.status.idle": "2024-05-13T09:23:17.494849Z",
     "shell.execute_reply": "2024-05-13T09:23:17.493784Z"
    },
    "papermill": {
     "duration": 0.02172,
     "end_time": "2024-05-13T09:23:17.497115",
     "exception": false,
     "start_time": "2024-05-13T09:23:17.475395",
     "status": "completed"
    },
    "tags": []
   },
   "outputs": [
    {
     "data": {
      "text/plain": [
       "array([0, 1, 2])"
      ]
     },
     "execution_count": 4,
     "metadata": {},
     "output_type": "execute_result"
    }
   ],
   "source": [
    "np.unique(y)"
   ]
  },
  {
   "cell_type": "code",
   "execution_count": 5,
   "id": "42736c08",
   "metadata": {
    "execution": {
     "iopub.execute_input": "2024-05-13T09:23:17.520506Z",
     "iopub.status.busy": "2024-05-13T09:23:17.519516Z",
     "iopub.status.idle": "2024-05-13T09:23:17.527119Z",
     "shell.execute_reply": "2024-05-13T09:23:17.526026Z"
    },
    "papermill": {
     "duration": 0.022091,
     "end_time": "2024-05-13T09:23:17.529703",
     "exception": false,
     "start_time": "2024-05-13T09:23:17.507612",
     "status": "completed"
    },
    "tags": []
   },
   "outputs": [
    {
     "data": {
      "text/plain": [
       "array([0, 0, 0, 0, 0, 0, 0, 0, 0, 0, 0, 0, 0, 0, 0, 0, 0, 0, 0, 0, 0, 0,\n",
       "       0, 0, 0, 0, 0, 0, 0, 0, 0, 0, 0, 0, 0, 0, 0, 0, 0, 0, 0, 0, 0, 0,\n",
       "       0, 0, 0, 0, 0, 0, 1, 1, 1, 1, 1, 1, 1, 1, 1, 1, 1, 1, 1, 1, 1, 1,\n",
       "       1, 1, 1, 1, 1, 1, 1, 1, 1, 1, 1, 1, 1, 1, 1, 1, 1, 1, 1, 1, 1, 1,\n",
       "       1, 1, 1, 1, 1, 1, 1, 1, 1, 1, 1, 1, 2, 2, 2, 2, 2, 2, 2, 2, 2, 2,\n",
       "       2, 2, 2, 2, 2, 2, 2, 2, 2, 2, 2, 2, 2, 2, 2, 2, 2, 2, 2, 2, 2, 2,\n",
       "       2, 2, 2, 2, 2, 2, 2, 2, 2, 2, 2, 2, 2, 2, 2, 2, 2, 2])"
      ]
     },
     "execution_count": 5,
     "metadata": {},
     "output_type": "execute_result"
    }
   ],
   "source": [
    "y"
   ]
  },
  {
   "cell_type": "markdown",
   "id": "368297f2",
   "metadata": {
    "papermill": {
     "duration": 0.010344,
     "end_time": "2024-05-13T09:23:17.550755",
     "exception": false,
     "start_time": "2024-05-13T09:23:17.540411",
     "status": "completed"
    },
    "tags": []
   },
   "source": [
    "# Model"
   ]
  },
  {
   "cell_type": "code",
   "execution_count": 6,
   "id": "b2716c59",
   "metadata": {
    "execution": {
     "iopub.execute_input": "2024-05-13T09:23:17.575718Z",
     "iopub.status.busy": "2024-05-13T09:23:17.574684Z",
     "iopub.status.idle": "2024-05-13T09:23:17.601799Z",
     "shell.execute_reply": "2024-05-13T09:23:17.600639Z"
    },
    "papermill": {
     "duration": 0.041726,
     "end_time": "2024-05-13T09:23:17.604334",
     "exception": false,
     "start_time": "2024-05-13T09:23:17.562608",
     "status": "completed"
    },
    "tags": []
   },
   "outputs": [],
   "source": [
    "class LogisticRegression:\n",
    "\n",
    "    def __init__(\n",
    "        self, lr=0.1, num_iter=1_000_000, verbose=False, multi_class=False\n",
    "    ):\n",
    "        self.lr = lr\n",
    "        self.num_iter = num_iter\n",
    "        self.verbose = verbose\n",
    "        self.multi_class = multi_class\n",
    "        self.weights = None\n",
    "        self.bias = None\n",
    "        self.x = None\n",
    "        self.y = None\n",
    "        self.classes_ = None\n",
    "        self.m = None\n",
    "        self.n = None\n",
    "        self.losses = []\n",
    "        self.accuracies = []\n",
    "\n",
    "    def softmax(self, x):\n",
    "        e_x = np.exp(x - np.max(x, axis=1, keepdims=True))\n",
    "        return e_x / e_x.sum(axis=1, keepdims=True)\n",
    "\n",
    "    def gradient_descent(self):\n",
    "        y_hat = self.predict(self.x)\n",
    "        dw = (1 / self.m) * np.dot(self.x.T, (y_hat - self.y))\n",
    "        db = (1 / self.m) * np.sum(y_hat - self.y)\n",
    "        self.weights -= self.lr * dw\n",
    "        self.bias -= self.lr * db\n",
    "\n",
    "    def predict(self, x):\n",
    "        z = np.dot(x, self.weights) + self.bias\n",
    "        predication = 1.0 / (1.0 + np.exp(-z))\n",
    "        return self.softmax(predication) if self.multi_class else predication\n",
    "\n",
    "    def plot(self):\n",
    "        plt.plot(self.losses)\n",
    "        plt.plot(self.accuracies)\n",
    "        plt.xlabel(\"Number of iterations\")\n",
    "        plt.ylabel(\"Loss\")\n",
    "        plt.legend([\"Loss\", \"Accuracy\"])\n",
    "        plt.show()\n",
    "\n",
    "    def loss(self):\n",
    "        y_hat = self.predict(self.x)\n",
    "        self.losses.append(\n",
    "            -np.mean(\n",
    "                self.y * np.log(y_hat + sys.float_info.min)\n",
    "                + (1 - self.y) * np.log(1 - y_hat + sys.float_info.min)\n",
    "            )\n",
    "        )\n",
    "        return self.losses[-1]\n",
    "\n",
    "    def accuracy(self):\n",
    "        y_hat = self.predict(self.x)\n",
    "        acc = np.mean(y_hat.argmax(axis=1) == self.y.argmax(axis=1)) if self.multi_class else np.mean(y_hat.round() == self.y)\n",
    "        self.accuracies.append(acc)\n",
    "\n",
    "    def fit(self, x, y):\n",
    "        self.x = x\n",
    "        self.y = y\n",
    "        best_loss = sys.float_info.max\n",
    "        patience = 10\n",
    "        self.m, self.n = x.shape\n",
    "        if self.multi_class:\n",
    "            self.classes_ = np.unique(self.y)\n",
    "            self.y = pd.get_dummies(self.y).to_numpy()\n",
    "            self.weights = (\n",
    "                np.random.rand(self.n, len(self.classes_))\n",
    "                if self.weights is None\n",
    "                else self.weights\n",
    "            )\n",
    "            self.bias = (\n",
    "                np.random.rand(len(self.classes_)) if self.bias is None else self.bias\n",
    "            )\n",
    "        else:\n",
    "            self.weights = np.random.rand(self.n) if self.weights is None else self.weights\n",
    "            self.bias = np.random.rand() if self.bias is None else self.bias\n",
    "        for _ in range(self.num_iter):\n",
    "            self.gradient_descent()\n",
    "            self.loss()\n",
    "            self.accuracy()\n",
    "            if self.losses[-1] < best_loss:\n",
    "                best_loss = self.losses[-1]\n",
    "                patience = 10\n",
    "            else:\n",
    "                patience -= 1\n",
    "                if patience == 0:\n",
    "                    break\n",
    "            if self.verbose:\n",
    "                print(f\"\\tLoss: {self.losses[-1]}\")\n",
    "                print(f\"\\tAccuracy: {self.accuracies[-1]}\")\n",
    "        print(f\"\\nFinal Loss: {self.losses[-1]}\")\n",
    "        print(f\"Final Accuracy: {self.accuracies[-1]}\")\n",
    "\n",
    "    def eval(self, x, y):\n",
    "        self.x = x\n",
    "        self.y = y\n",
    "        if self.multi_class:\n",
    "            self.y = pd.get_dummies(self.y).to_numpy()\n",
    "        self.accuracy()\n",
    "        print(f\"Accuracy: {self.accuracies[-1]}\")"
   ]
  },
  {
   "cell_type": "code",
   "execution_count": 7,
   "id": "a2af3bf7",
   "metadata": {
    "execution": {
     "iopub.execute_input": "2024-05-13T09:23:17.628527Z",
     "iopub.status.busy": "2024-05-13T09:23:17.627505Z",
     "iopub.status.idle": "2024-05-13T09:23:17.635562Z",
     "shell.execute_reply": "2024-05-13T09:23:17.634615Z"
    },
    "papermill": {
     "duration": 0.022571,
     "end_time": "2024-05-13T09:23:17.638191",
     "exception": false,
     "start_time": "2024-05-13T09:23:17.615620",
     "status": "completed"
    },
    "tags": []
   },
   "outputs": [],
   "source": [
    "x_train, x_test, y_train, y_test = train_test_split(\n",
    "    x, y, test_size=0.3, random_state=42\n",
    ")"
   ]
  },
  {
   "cell_type": "code",
   "execution_count": 8,
   "id": "cbdb3a2f",
   "metadata": {
    "execution": {
     "iopub.execute_input": "2024-05-13T09:23:17.662912Z",
     "iopub.status.busy": "2024-05-13T09:23:17.661850Z",
     "iopub.status.idle": "2024-05-13T09:23:17.670236Z",
     "shell.execute_reply": "2024-05-13T09:23:17.669142Z"
    },
    "papermill": {
     "duration": 0.023153,
     "end_time": "2024-05-13T09:23:17.672778",
     "exception": false,
     "start_time": "2024-05-13T09:23:17.649625",
     "status": "completed"
    },
    "tags": []
   },
   "outputs": [
    {
     "data": {
      "text/plain": [
       "array([0, 1, 2])"
      ]
     },
     "execution_count": 8,
     "metadata": {},
     "output_type": "execute_result"
    }
   ],
   "source": [
    "np.unique(y_train)"
   ]
  },
  {
   "cell_type": "code",
   "execution_count": 9,
   "id": "4f5b26cc",
   "metadata": {
    "execution": {
     "iopub.execute_input": "2024-05-13T09:23:17.697117Z",
     "iopub.status.busy": "2024-05-13T09:23:17.696709Z",
     "iopub.status.idle": "2024-05-13T09:23:17.702006Z",
     "shell.execute_reply": "2024-05-13T09:23:17.700912Z"
    },
    "papermill": {
     "duration": 0.020624,
     "end_time": "2024-05-13T09:23:17.704519",
     "exception": false,
     "start_time": "2024-05-13T09:23:17.683895",
     "status": "completed"
    },
    "tags": []
   },
   "outputs": [],
   "source": [
    "model = LogisticRegression(multi_class=True)"
   ]
  },
  {
   "cell_type": "markdown",
   "id": "9cd08e86",
   "metadata": {
    "papermill": {
     "duration": 0.01088,
     "end_time": "2024-05-13T09:23:17.726526",
     "exception": false,
     "start_time": "2024-05-13T09:23:17.715646",
     "status": "completed"
    },
    "tags": []
   },
   "source": [
    "# Standardization"
   ]
  },
  {
   "cell_type": "code",
   "execution_count": 10,
   "id": "68eecb2d",
   "metadata": {
    "execution": {
     "iopub.execute_input": "2024-05-13T09:23:17.750632Z",
     "iopub.status.busy": "2024-05-13T09:23:17.750189Z",
     "iopub.status.idle": "2024-05-13T09:23:17.756003Z",
     "shell.execute_reply": "2024-05-13T09:23:17.754917Z"
    },
    "papermill": {
     "duration": 0.020666,
     "end_time": "2024-05-13T09:23:17.758418",
     "exception": false,
     "start_time": "2024-05-13T09:23:17.737752",
     "status": "completed"
    },
    "tags": []
   },
   "outputs": [],
   "source": [
    "x_train = (x_train - x_train.mean()) / x_train.std()\n",
    "x_test = (x_test - x_test.mean()) / x_test.std()"
   ]
  },
  {
   "cell_type": "markdown",
   "id": "43dc3be9",
   "metadata": {
    "papermill": {
     "duration": 0.010899,
     "end_time": "2024-05-13T09:23:17.780657",
     "exception": false,
     "start_time": "2024-05-13T09:23:17.769758",
     "status": "completed"
    },
    "tags": []
   },
   "source": [
    "# Train"
   ]
  },
  {
   "cell_type": "code",
   "execution_count": 11,
   "id": "49c83249",
   "metadata": {
    "execution": {
     "iopub.execute_input": "2024-05-13T09:23:17.804635Z",
     "iopub.status.busy": "2024-05-13T09:23:17.804224Z",
     "iopub.status.idle": "2024-05-13T09:23:24.354304Z",
     "shell.execute_reply": "2024-05-13T09:23:24.353046Z"
    },
    "papermill": {
     "duration": 6.56525,
     "end_time": "2024-05-13T09:23:24.356923",
     "exception": false,
     "start_time": "2024-05-13T09:23:17.791673",
     "status": "completed"
    },
    "tags": []
   },
   "outputs": [
    {
     "name": "stderr",
     "output_type": "stream",
     "text": [
      "/tmp/ipykernel_18/3621363436.py:33: RuntimeWarning: overflow encountered in exp\n",
      "  predication = 1.0 / (1.0 + np.exp(-z))\n"
     ]
    },
    {
     "name": "stdout",
     "output_type": "stream",
     "text": [
      "\n",
      "Final Loss: 0.47158859193006525\n",
      "Final Accuracy: 0.6476190476190476\n"
     ]
    }
   ],
   "source": [
    "model.fit(x_train, y_train)"
   ]
  },
  {
   "cell_type": "code",
   "execution_count": 12,
   "id": "f0ca7629",
   "metadata": {
    "execution": {
     "iopub.execute_input": "2024-05-13T09:23:24.381551Z",
     "iopub.status.busy": "2024-05-13T09:23:24.381098Z",
     "iopub.status.idle": "2024-05-13T09:23:24.861685Z",
     "shell.execute_reply": "2024-05-13T09:23:24.860493Z"
    },
    "papermill": {
     "duration": 0.495739,
     "end_time": "2024-05-13T09:23:24.864085",
     "exception": false,
     "start_time": "2024-05-13T09:23:24.368346",
     "status": "completed"
    },
    "tags": []
   },
   "outputs": [
    {
     "data": {
      "image/png": "[encoded data removed]",
      "text/plain": [
       "<Figure size 640x480 with 1 Axes>"
      ]
     },
     "metadata": {},
     "output_type": "display_data"
    }
   ],
   "source": [
    "model.plot()"
   ]
  },
  {
   "cell_type": "code",
   "execution_count": 13,
   "id": "e0310e73",
   "metadata": {
    "execution": {
     "iopub.execute_input": "2024-05-13T09:23:24.889825Z",
     "iopub.status.busy": "2024-05-13T09:23:24.889399Z",
     "iopub.status.idle": "2024-05-13T09:23:24.896995Z",
     "shell.execute_reply": "2024-05-13T09:23:24.895907Z"
    },
    "papermill": {
     "duration": 0.024872,
     "end_time": "2024-05-13T09:23:24.900966",
     "exception": false,
     "start_time": "2024-05-13T09:23:24.876094",
     "status": "completed"
    },
    "tags": []
   },
   "outputs": [
    {
     "name": "stdout",
     "output_type": "stream",
     "text": [
      "Accuracy: 0.7111111111111111\n"
     ]
    },
    {
     "name": "stderr",
     "output_type": "stream",
     "text": [
      "/tmp/ipykernel_18/3621363436.py:33: RuntimeWarning: overflow encountered in exp\n",
      "  predication = 1.0 / (1.0 + np.exp(-z))\n"
     ]
    }
   ],
   "source": [
    "model.eval(x_test, y_test)"
   ]
  },
  {
   "cell_type": "markdown",
   "id": "d31ca0b4",
   "metadata": {
    "papermill": {
     "duration": 0.012153,
     "end_time": "2024-05-13T09:23:24.925319",
     "exception": false,
     "start_time": "2024-05-13T09:23:24.913166",
     "status": "completed"
    },
    "tags": []
   },
   "source": [
    "# Group samples of class 2 and class 3 together to form new class (Class II)"
   ]
  },
  {
   "cell_type": "code",
   "execution_count": 14,
   "id": "7ea3b384",
   "metadata": {
    "execution": {
     "iopub.execute_input": "2024-05-13T09:23:24.951380Z",
     "iopub.status.busy": "2024-05-13T09:23:24.950969Z",
     "iopub.status.idle": "2024-05-13T09:23:24.961797Z",
     "shell.execute_reply": "2024-05-13T09:23:24.960814Z"
    },
    "papermill": {
     "duration": 0.026624,
     "end_time": "2024-05-13T09:23:24.964276",
     "exception": false,
     "start_time": "2024-05-13T09:23:24.937652",
     "status": "completed"
    },
    "tags": []
   },
   "outputs": [],
   "source": [
    "Y_train = np.where(y_train == 2, 1, y_train)\n",
    "\n",
    "X_train_class1, X_test_class1, Y_train_class1, Y_test_class1 = train_test_split(\n",
    "    x_train[y_train == 0], Y_train[y_train == 0], test_size=0.2, random_state=42\n",
    ")\n",
    "X_train_class2, X_test_class2, Y_train_class2, Y_test_class2 = train_test_split(\n",
    "    x_train[y_train == 1], Y_train[y_train == 1], test_size=0.2, random_state=42\n",
    ")\n",
    "\n",
    "X_train = np.concatenate((X_train_class1, X_train_class2), axis=0)\n",
    "X_test = np.concatenate((X_test_class1, X_test_class2), axis=0)\n",
    "Y_train = np.concatenate((Y_train_class1, Y_train_class2), axis=0)\n",
    "Y_test = np.concatenate((Y_test_class1, Y_test_class2), axis=0)"
   ]
  },
  {
   "cell_type": "code",
   "execution_count": 15,
   "id": "a7210800",
   "metadata": {
    "execution": {
     "iopub.execute_input": "2024-05-13T09:23:24.990534Z",
     "iopub.status.busy": "2024-05-13T09:23:24.990103Z",
     "iopub.status.idle": "2024-05-13T09:23:24.996592Z",
     "shell.execute_reply": "2024-05-13T09:23:24.995517Z"
    },
    "papermill": {
     "duration": 0.022356,
     "end_time": "2024-05-13T09:23:24.998947",
     "exception": false,
     "start_time": "2024-05-13T09:23:24.976591",
     "status": "completed"
    },
    "tags": []
   },
   "outputs": [],
   "source": [
    "model = LogisticRegression()"
   ]
  },
  {
   "cell_type": "code",
   "execution_count": 16,
   "id": "ccb57fd4",
   "metadata": {
    "execution": {
     "iopub.execute_input": "2024-05-13T09:23:25.025576Z",
     "iopub.status.busy": "2024-05-13T09:23:25.025122Z",
     "iopub.status.idle": "2024-05-13T09:25:12.277733Z",
     "shell.execute_reply": "2024-05-13T09:25:12.276505Z"
    },
    "papermill": {
     "duration": 107.281567,
     "end_time": "2024-05-13T09:25:12.292922",
     "exception": false,
     "start_time": "2024-05-13T09:23:25.011355",
     "status": "completed"
    },
    "tags": []
   },
   "outputs": [
    {
     "name": "stdout",
     "output_type": "stream",
     "text": [
      "\n",
      "Final Loss: 5.832476924723526e-05\n",
      "Final Accuracy: 1.0\n"
     ]
    }
   ],
   "source": [
    "model.fit(\n",
    "    X_train,\n",
    "    Y_train\n",
    ")"
   ]
  },
  {
   "cell_type": "code",
   "execution_count": 17,
   "id": "8d86b562",
   "metadata": {
    "execution": {
     "iopub.execute_input": "2024-05-13T09:25:12.320022Z",
     "iopub.status.busy": "2024-05-13T09:25:12.319610Z",
     "iopub.status.idle": "2024-05-13T09:25:17.187144Z",
     "shell.execute_reply": "2024-05-13T09:25:17.185822Z"
    },
    "papermill": {
     "duration": 4.884036,
     "end_time": "2024-05-13T09:25:17.189835",
     "exception": false,
     "start_time": "2024-05-13T09:25:12.305799",
     "status": "completed"
    },
    "tags": []
   },
   "outputs": [
    {
     "data": {
      "image/png": "[encoded data removed]",
      "text/plain": [
       "<Figure size 640x480 with 1 Axes>"
      ]
     },
     "metadata": {},
     "output_type": "display_data"
    }
   ],
   "source": [
    "model.plot()"
   ]
  },
  {
   "cell_type": "code",
   "execution_count": 18,
   "id": "1dc45488",
   "metadata": {
    "execution": {
     "iopub.execute_input": "2024-05-13T09:25:17.217593Z",
     "iopub.status.busy": "2024-05-13T09:25:17.217144Z",
     "iopub.status.idle": "2024-05-13T09:25:17.223398Z",
     "shell.execute_reply": "2024-05-13T09:25:17.222345Z"
    },
    "papermill": {
     "duration": 0.023222,
     "end_time": "2024-05-13T09:25:17.225993",
     "exception": false,
     "start_time": "2024-05-13T09:25:17.202771",
     "status": "completed"
    },
    "tags": []
   },
   "outputs": [
    {
     "name": "stdout",
     "output_type": "stream",
     "text": [
      "Accuracy: 1.0\n"
     ]
    }
   ],
   "source": [
    "model.eval(X_test, Y_test)"
   ]
  },
  {
   "cell_type": "code",
   "execution_count": 19,
   "id": "3af42571",
   "metadata": {
    "execution": {
     "iopub.execute_input": "2024-05-13T09:25:17.254495Z",
     "iopub.status.busy": "2024-05-13T09:25:17.253625Z",
     "iopub.status.idle": "2024-05-13T09:25:17.258749Z",
     "shell.execute_reply": "2024-05-13T09:25:17.257525Z"
    },
    "papermill": {
     "duration": 0.02202,
     "end_time": "2024-05-13T09:25:17.261187",
     "exception": false,
     "start_time": "2024-05-13T09:25:17.239167",
     "status": "completed"
    },
    "tags": []
   },
   "outputs": [],
   "source": [
    "Y_pred = model.predict(X_test)"
   ]
  },
  {
   "cell_type": "code",
   "execution_count": 20,
   "id": "124348a6",
   "metadata": {
    "execution": {
     "iopub.execute_input": "2024-05-13T09:25:17.289421Z",
     "iopub.status.busy": "2024-05-13T09:25:17.288674Z",
     "iopub.status.idle": "2024-05-13T09:25:17.296073Z",
     "shell.execute_reply": "2024-05-13T09:25:17.294998Z"
    },
    "papermill": {
     "duration": 0.024245,
     "end_time": "2024-05-13T09:25:17.298550",
     "exception": false,
     "start_time": "2024-05-13T09:25:17.274305",
     "status": "completed"
    },
    "tags": []
   },
   "outputs": [
    {
     "data": {
      "text/plain": [
       "array([2.23461124e-06, 4.74271122e-05, 8.56505353e-06, 6.45510673e-07,\n",
       "       7.10433036e-06, 8.76366565e-07, 2.69243541e-04, 1.00000000e+00,\n",
       "       9.99999409e-01, 9.99999885e-01, 9.99999496e-01, 9.99999891e-01,\n",
       "       9.99998432e-01, 9.99999942e-01, 9.99999998e-01])"
      ]
     },
     "execution_count": 20,
     "metadata": {},
     "output_type": "execute_result"
    }
   ],
   "source": [
    "Y_pred"
   ]
  },
  {
   "cell_type": "markdown",
   "id": "2b6ecd8a",
   "metadata": {
    "papermill": {
     "duration": 0.013905,
     "end_time": "2024-05-13T09:25:17.326806",
     "exception": false,
     "start_time": "2024-05-13T09:25:17.312901",
     "status": "completed"
    },
    "tags": []
   },
   "source": [
    "# Group samples of class 1 and class 3 together to form new class (Class II)"
   ]
  },
  {
   "cell_type": "code",
   "execution_count": 21,
   "id": "56ca2482",
   "metadata": {
    "execution": {
     "iopub.execute_input": "2024-05-13T09:25:17.355889Z",
     "iopub.status.busy": "2024-05-13T09:25:17.354910Z",
     "iopub.status.idle": "2024-05-13T09:25:17.366345Z",
     "shell.execute_reply": "2024-05-13T09:25:17.365250Z"
    },
    "papermill": {
     "duration": 0.028814,
     "end_time": "2024-05-13T09:25:17.368936",
     "exception": false,
     "start_time": "2024-05-13T09:25:17.340122",
     "status": "completed"
    },
    "tags": []
   },
   "outputs": [],
   "source": [
    "Y_train = np.where(y_train == 2, 0, y_train)\n",
    "\n",
    "X_train_class1, X_test_class1, Y_train_class1, Y_test_class1 = train_test_split(\n",
    "    x_train[y_train == 0], Y_train[y_train == 0], test_size=0.2, random_state=42\n",
    ")\n",
    "X_train_class2, X_test_class2, Y_train_class2, Y_test_class2 = train_test_split(\n",
    "    x_train[y_train == 1], Y_train[y_train == 1], test_size=0.2, random_state=42\n",
    ")\n",
    "\n",
    "X_train = np.concatenate((X_train_class1, X_train_class2), axis=0)\n",
    "X_test = np.concatenate((X_test_class1, X_test_class2), axis=0)\n",
    "Y_train = np.concatenate((Y_train_class1, Y_train_class2), axis=0)\n",
    "Y_test = np.concatenate((Y_test_class1, Y_test_class2), axis=0)"
   ]
  },
  {
   "cell_type": "code",
   "execution_count": 22,
   "id": "b5b480d6",
   "metadata": {
    "execution": {
     "iopub.execute_input": "2024-05-13T09:25:17.398208Z",
     "iopub.status.busy": "2024-05-13T09:25:17.397371Z",
     "iopub.status.idle": "2024-05-13T09:25:17.480369Z",
     "shell.execute_reply": "2024-05-13T09:25:17.479184Z"
    },
    "papermill": {
     "duration": 0.100566,
     "end_time": "2024-05-13T09:25:17.482942",
     "exception": false,
     "start_time": "2024-05-13T09:25:17.382376",
     "status": "completed"
    },
    "tags": []
   },
   "outputs": [],
   "source": [
    "model = LogisticRegression()"
   ]
  },
  {
   "cell_type": "code",
   "execution_count": 23,
   "id": "0395920a",
   "metadata": {
    "execution": {
     "iopub.execute_input": "2024-05-13T09:25:17.511656Z",
     "iopub.status.busy": "2024-05-13T09:25:17.511230Z",
     "iopub.status.idle": "2024-05-13T09:27:03.986933Z",
     "shell.execute_reply": "2024-05-13T09:27:03.985728Z"
    },
    "papermill": {
     "duration": 106.506587,
     "end_time": "2024-05-13T09:27:04.002940",
     "exception": false,
     "start_time": "2024-05-13T09:25:17.496353",
     "status": "completed"
    },
    "tags": []
   },
   "outputs": [
    {
     "name": "stdout",
     "output_type": "stream",
     "text": [
      "\n",
      "Final Loss: 5.853227311317178e-05\n",
      "Final Accuracy: 1.0\n"
     ]
    }
   ],
   "source": [
    "model.fit(\n",
    "    X_train,\n",
    "    Y_train\n",
    ")"
   ]
  },
  {
   "cell_type": "code",
   "execution_count": 24,
   "id": "7cc5d37d",
   "metadata": {
    "execution": {
     "iopub.execute_input": "2024-05-13T09:27:04.031769Z",
     "iopub.status.busy": "2024-05-13T09:27:04.031325Z",
     "iopub.status.idle": "2024-05-13T09:27:08.883447Z",
     "shell.execute_reply": "2024-05-13T09:27:08.882244Z"
    },
    "papermill": {
     "duration": 4.869591,
     "end_time": "2024-05-13T09:27:08.886064",
     "exception": false,
     "start_time": "2024-05-13T09:27:04.016473",
     "status": "completed"
    },
    "tags": []
   },
   "outputs": [
    {
     "data": {
      "image/png": "[encoded data removed]",
      "text/plain": [
       "<Figure size 640x480 with 1 Axes>"
      ]
     },
     "metadata": {},
     "output_type": "display_data"
    }
   ],
   "source": [
    "model.plot()"
   ]
  },
  {
   "cell_type": "code",
   "execution_count": 25,
   "id": "ec3de420",
   "metadata": {
    "execution": {
     "iopub.execute_input": "2024-05-13T09:27:08.916250Z",
     "iopub.status.busy": "2024-05-13T09:27:08.915844Z",
     "iopub.status.idle": "2024-05-13T09:27:08.921674Z",
     "shell.execute_reply": "2024-05-13T09:27:08.920597Z"
    },
    "papermill": {
     "duration": 0.02391,
     "end_time": "2024-05-13T09:27:08.924275",
     "exception": false,
     "start_time": "2024-05-13T09:27:08.900365",
     "status": "completed"
    },
    "tags": []
   },
   "outputs": [
    {
     "name": "stdout",
     "output_type": "stream",
     "text": [
      "Accuracy: 1.0\n"
     ]
    }
   ],
   "source": [
    "model.eval(X_test, Y_test)"
   ]
  },
  {
   "cell_type": "code",
   "execution_count": 26,
   "id": "08f39024",
   "metadata": {
    "execution": {
     "iopub.execute_input": "2024-05-13T09:27:08.954938Z",
     "iopub.status.busy": "2024-05-13T09:27:08.954514Z",
     "iopub.status.idle": "2024-05-13T09:27:08.959622Z",
     "shell.execute_reply": "2024-05-13T09:27:08.958485Z"
    },
    "papermill": {
     "duration": 0.023203,
     "end_time": "2024-05-13T09:27:08.962081",
     "exception": false,
     "start_time": "2024-05-13T09:27:08.938878",
     "status": "completed"
    },
    "tags": []
   },
   "outputs": [],
   "source": [
    "Y_pred = model.predict(X_test)"
   ]
  },
  {
   "cell_type": "code",
   "execution_count": 27,
   "id": "59c15296",
   "metadata": {
    "execution": {
     "iopub.execute_input": "2024-05-13T09:27:08.993071Z",
     "iopub.status.busy": "2024-05-13T09:27:08.992107Z",
     "iopub.status.idle": "2024-05-13T09:27:08.999382Z",
     "shell.execute_reply": "2024-05-13T09:27:08.998376Z"
    },
    "papermill": {
     "duration": 0.025262,
     "end_time": "2024-05-13T09:27:09.001875",
     "exception": false,
     "start_time": "2024-05-13T09:27:08.976613",
     "status": "completed"
    },
    "tags": []
   },
   "outputs": [
    {
     "data": {
      "text/plain": [
       "array([2.21216733e-06, 4.45216878e-05, 8.35082817e-06, 6.46711539e-07,\n",
       "       7.06236662e-06, 8.37354379e-07, 2.75386950e-04, 1.00000000e+00,\n",
       "       9.99999433e-01, 9.99999891e-01, 9.99999485e-01, 9.99999892e-01,\n",
       "       9.99998375e-01, 9.99999942e-01, 9.99999998e-01])"
      ]
     },
     "execution_count": 27,
     "metadata": {},
     "output_type": "execute_result"
    }
   ],
   "source": [
    "Y_pred"
   ]
  },
  {
   "cell_type": "markdown",
   "id": "63305f0b",
   "metadata": {
    "papermill": {
     "duration": 0.015202,
     "end_time": "2024-05-13T09:27:09.032226",
     "exception": false,
     "start_time": "2024-05-13T09:27:09.017024",
     "status": "completed"
    },
    "tags": []
   },
   "source": [
    "# Group samples of class 1 and class 2 together to form new class (Class II)"
   ]
  },
  {
   "cell_type": "code",
   "execution_count": 28,
   "id": "213ec69c",
   "metadata": {
    "execution": {
     "iopub.execute_input": "2024-05-13T09:27:09.063219Z",
     "iopub.status.busy": "2024-05-13T09:27:09.062806Z",
     "iopub.status.idle": "2024-05-13T09:27:09.073388Z",
     "shell.execute_reply": "2024-05-13T09:27:09.072507Z"
    },
    "papermill": {
     "duration": 0.02887,
     "end_time": "2024-05-13T09:27:09.075796",
     "exception": false,
     "start_time": "2024-05-13T09:27:09.046926",
     "status": "completed"
    },
    "tags": []
   },
   "outputs": [],
   "source": [
    "Y_train = np.where(y_train == 1, 0, y_train)\n",
    "\n",
    "X_train_class1, X_test_class1, Y_train_class1, Y_test_class1 = train_test_split(\n",
    "    x_train[y_train == 0], Y_train[y_train == 0], test_size=0.2, random_state=42\n",
    ")\n",
    "X_train_class2, X_test_class2, Y_train_class2, Y_test_class2 = train_test_split(\n",
    "    x_train[y_train == 1], Y_train[y_train == 1], test_size=0.2, random_state=42\n",
    ")\n",
    "\n",
    "X_train = np.concatenate((X_train_class1, X_train_class2), axis=0)\n",
    "X_test = np.concatenate((X_test_class1, X_test_class2), axis=0)\n",
    "Y_train = np.concatenate((Y_train_class1, Y_train_class2), axis=0)\n",
    "Y_test = np.concatenate((Y_test_class1, Y_test_class2), axis=0)"
   ]
  },
  {
   "cell_type": "code",
   "execution_count": 29,
   "id": "fef77c3d",
   "metadata": {
    "execution": {
     "iopub.execute_input": "2024-05-13T09:27:09.107427Z",
     "iopub.status.busy": "2024-05-13T09:27:09.106502Z",
     "iopub.status.idle": "2024-05-13T09:27:09.186377Z",
     "shell.execute_reply": "2024-05-13T09:27:09.185229Z"
    },
    "papermill": {
     "duration": 0.098452,
     "end_time": "2024-05-13T09:27:09.188954",
     "exception": false,
     "start_time": "2024-05-13T09:27:09.090502",
     "status": "completed"
    },
    "tags": []
   },
   "outputs": [],
   "source": [
    "model = LogisticRegression()"
   ]
  },
  {
   "cell_type": "code",
   "execution_count": 30,
   "id": "0600ce8a",
   "metadata": {
    "execution": {
     "iopub.execute_input": "2024-05-13T09:27:09.220141Z",
     "iopub.status.busy": "2024-05-13T09:27:09.219726Z",
     "iopub.status.idle": "2024-05-13T09:28:55.737314Z",
     "shell.execute_reply": "2024-05-13T09:28:55.736137Z"
    },
    "papermill": {
     "duration": 106.551255,
     "end_time": "2024-05-13T09:28:55.754979",
     "exception": false,
     "start_time": "2024-05-13T09:27:09.203724",
     "status": "completed"
    },
    "tags": []
   },
   "outputs": [
    {
     "name": "stdout",
     "output_type": "stream",
     "text": [
      "\n",
      "Final Loss: 2.7633237043334526e-06\n",
      "Final Accuracy: 1.0\n"
     ]
    }
   ],
   "source": [
    "model.fit(\n",
    "    X_train,\n",
    "    Y_train\n",
    ")"
   ]
  },
  {
   "cell_type": "code",
   "execution_count": 31,
   "id": "7743eadc",
   "metadata": {
    "execution": {
     "iopub.execute_input": "2024-05-13T09:28:55.786634Z",
     "iopub.status.busy": "2024-05-13T09:28:55.786220Z",
     "iopub.status.idle": "2024-05-13T09:29:00.681623Z",
     "shell.execute_reply": "2024-05-13T09:29:00.680583Z"
    },
    "papermill": {
     "duration": 4.914101,
     "end_time": "2024-05-13T09:29:00.684059",
     "exception": false,
     "start_time": "2024-05-13T09:28:55.769958",
     "status": "completed"
    },
    "tags": []
   },
   "outputs": [
    {
     "data": {
      "image/png": "[encoded data removed]",
      "text/plain": [
       "<Figure size 640x480 with 1 Axes>"
      ]
     },
     "metadata": {},
     "output_type": "display_data"
    }
   ],
   "source": [
    "model.plot()"
   ]
  },
  {
   "cell_type": "code",
   "execution_count": 32,
   "id": "41b26062",
   "metadata": {
    "execution": {
     "iopub.execute_input": "2024-05-13T09:29:00.716598Z",
     "iopub.status.busy": "2024-05-13T09:29:00.716187Z",
     "iopub.status.idle": "2024-05-13T09:29:00.722269Z",
     "shell.execute_reply": "2024-05-13T09:29:00.721015Z"
    },
    "papermill": {
     "duration": 0.025896,
     "end_time": "2024-05-13T09:29:00.725320",
     "exception": false,
     "start_time": "2024-05-13T09:29:00.699424",
     "status": "completed"
    },
    "tags": []
   },
   "outputs": [
    {
     "name": "stdout",
     "output_type": "stream",
     "text": [
      "Accuracy: 1.0\n"
     ]
    }
   ],
   "source": [
    "model.eval(X_test, Y_test)"
   ]
  },
  {
   "cell_type": "code",
   "execution_count": 33,
   "id": "78ab8fa3",
   "metadata": {
    "execution": {
     "iopub.execute_input": "2024-05-13T09:29:00.759165Z",
     "iopub.status.busy": "2024-05-13T09:29:00.758504Z",
     "iopub.status.idle": "2024-05-13T09:29:00.764027Z",
     "shell.execute_reply": "2024-05-13T09:29:00.762932Z"
    },
    "papermill": {
     "duration": 0.025161,
     "end_time": "2024-05-13T09:29:00.766695",
     "exception": false,
     "start_time": "2024-05-13T09:29:00.741534",
     "status": "completed"
    },
    "tags": []
   },
   "outputs": [],
   "source": [
    "Y_pred = model.predict(X_test)"
   ]
  },
  {
   "cell_type": "code",
   "execution_count": 34,
   "id": "ab37ec1d",
   "metadata": {
    "execution": {
     "iopub.execute_input": "2024-05-13T09:29:00.801400Z",
     "iopub.status.busy": "2024-05-13T09:29:00.800518Z",
     "iopub.status.idle": "2024-05-13T09:29:00.807972Z",
     "shell.execute_reply": "2024-05-13T09:29:00.806858Z"
    },
    "papermill": {
     "duration": 0.027209,
     "end_time": "2024-05-13T09:29:00.810630",
     "exception": false,
     "start_time": "2024-05-13T09:29:00.783421",
     "status": "completed"
    },
    "tags": []
   },
   "outputs": [
    {
     "data": {
      "text/plain": [
       "array([1.06589187e-06, 2.83917329e-06, 1.09364080e-06, 2.10666555e-06,\n",
       "       1.83636340e-06, 6.51480484e-07, 5.16204091e-07, 5.59039703e-06,\n",
       "       2.86321247e-06, 1.64606638e-06, 5.69285046e-06, 2.04108715e-06,\n",
       "       1.20334884e-05, 4.86867575e-06, 3.19298776e-06])"
      ]
     },
     "execution_count": 34,
     "metadata": {},
     "output_type": "execute_result"
    }
   ],
   "source": [
    "Y_pred"
   ]
  }
 ],
 "metadata": {
  "kaggle": {
   "accelerator": "none",
   "dataSources": [],
   "isGpuEnabled": false,
   "isInternetEnabled": true,
   "language": "python",
   "sourceType": "notebook"
  },
  "kernelspec": {
   "display_name": "base",
   "language": "python",
   "name": "python3"
  },
  "language_info": {
   "codemirror_mode": {
    "name": "ipython",
    "version": 3
   },
   "file_extension": ".py",
   "mimetype": "text/x-python",
   "name": "python",
   "nbconvert_exporter": "python",
   "pygments_lexer": "ipython3",
   "version": "3.10.13"
  },
  "papermill": {
   "default_parameters": {},
   "duration": 349.592182,
   "end_time": "2024-05-13T09:29:01.716518",
   "environment_variables": {},
   "exception": null,
   "input_path": "__notebook__.ipynb",
   "output_path": "__notebook__.ipynb",
   "parameters": {},
   "start_time": "2024-05-13T09:23:12.124336",
   "version": "2.5.0"
  }
 },
 "nbformat": 4,
 "nbformat_minor": 5
}
