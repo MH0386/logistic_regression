{
 "cells": [
  {
   "cell_type": "code",
   "execution_count": 1,
   "id": "0e58baff",
   "metadata": {
    "execution": {
     "iopub.execute_input": "2024-05-15T07:42:36.293655Z",
     "iopub.status.busy": "2024-05-15T07:42:36.293072Z",
     "iopub.status.idle": "2024-05-15T07:42:38.417736Z",
     "shell.execute_reply": "2024-05-15T07:42:38.416126Z"
    },
    "papermill": {
     "duration": 2.136132,
     "end_time": "2024-05-15T07:42:38.420231",
     "exception": false,
     "start_time": "2024-05-15T07:42:36.284099",
     "status": "completed"
    },
    "tags": []
   },
   "outputs": [],
   "source": [
    "import numpy as np\n",
    "import matplotlib.pyplot as plt\n",
    "from sklearn import datasets\n",
    "from sklearn.model_selection import train_test_split\n",
    "import sys\n",
    "import pandas as pd"
   ]
  },
  {
   "cell_type": "code",
   "execution_count": 2,
   "id": "c7cbc6fb",
   "metadata": {
    "execution": {
     "iopub.execute_input": "2024-05-15T07:42:38.437635Z",
     "iopub.status.busy": "2024-05-15T07:42:38.436444Z",
     "iopub.status.idle": "2024-05-15T07:42:38.447857Z",
     "shell.execute_reply": "2024-05-15T07:42:38.446751Z"
    },
    "papermill": {
     "duration": 0.022981,
     "end_time": "2024-05-15T07:42:38.450782",
     "exception": false,
     "start_time": "2024-05-15T07:42:38.427801",
     "status": "completed"
    },
    "tags": []
   },
   "outputs": [],
   "source": [
    "iris = datasets.load_iris()\n",
    "x = iris.data\n",
    "y = iris.target"
   ]
  },
  {
   "cell_type": "code",
   "execution_count": 3,
   "id": "1da58b35",
   "metadata": {
    "execution": {
     "iopub.execute_input": "2024-05-15T07:42:38.467952Z",
     "iopub.status.busy": "2024-05-15T07:42:38.467293Z",
     "iopub.status.idle": "2024-05-15T07:42:38.474116Z",
     "shell.execute_reply": "2024-05-15T07:42:38.473147Z"
    },
    "papermill": {
     "duration": 0.017558,
     "end_time": "2024-05-15T07:42:38.475927",
     "exception": false,
     "start_time": "2024-05-15T07:42:38.458369",
     "status": "completed"
    },
    "tags": []
   },
   "outputs": [
    {
     "data": {
      "text/plain": [
       "(150,)"
      ]
     },
     "execution_count": 3,
     "metadata": {},
     "output_type": "execute_result"
    }
   ],
   "source": [
    "y.shape"
   ]
  },
  {
   "cell_type": "code",
   "execution_count": 4,
   "id": "0742ccba",
   "metadata": {
    "execution": {
     "iopub.execute_input": "2024-05-15T07:42:38.492772Z",
     "iopub.status.busy": "2024-05-15T07:42:38.492441Z",
     "iopub.status.idle": "2024-05-15T07:42:38.499517Z",
     "shell.execute_reply": "2024-05-15T07:42:38.498494Z"
    },
    "papermill": {
     "duration": 0.017844,
     "end_time": "2024-05-15T07:42:38.501336",
     "exception": false,
     "start_time": "2024-05-15T07:42:38.483492",
     "status": "completed"
    },
    "tags": []
   },
   "outputs": [
    {
     "data": {
      "text/plain": [
       "array([0, 1, 2])"
      ]
     },
     "execution_count": 4,
     "metadata": {},
     "output_type": "execute_result"
    }
   ],
   "source": [
    "np.unique(y)"
   ]
  },
  {
   "cell_type": "code",
   "execution_count": 5,
   "id": "89da9ab1",
   "metadata": {
    "execution": {
     "iopub.execute_input": "2024-05-15T07:42:38.517713Z",
     "iopub.status.busy": "2024-05-15T07:42:38.517262Z",
     "iopub.status.idle": "2024-05-15T07:42:38.522501Z",
     "shell.execute_reply": "2024-05-15T07:42:38.521863Z"
    },
    "papermill": {
     "duration": 0.015126,
     "end_time": "2024-05-15T07:42:38.524061",
     "exception": false,
     "start_time": "2024-05-15T07:42:38.508935",
     "status": "completed"
    },
    "tags": []
   },
   "outputs": [
    {
     "data": {
      "text/plain": [
       "array([0, 0, 0, 0, 0, 0, 0, 0, 0, 0, 0, 0, 0, 0, 0, 0, 0, 0, 0, 0, 0, 0,\n",
       "       0, 0, 0, 0, 0, 0, 0, 0, 0, 0, 0, 0, 0, 0, 0, 0, 0, 0, 0, 0, 0, 0,\n",
       "       0, 0, 0, 0, 0, 0, 1, 1, 1, 1, 1, 1, 1, 1, 1, 1, 1, 1, 1, 1, 1, 1,\n",
       "       1, 1, 1, 1, 1, 1, 1, 1, 1, 1, 1, 1, 1, 1, 1, 1, 1, 1, 1, 1, 1, 1,\n",
       "       1, 1, 1, 1, 1, 1, 1, 1, 1, 1, 1, 1, 2, 2, 2, 2, 2, 2, 2, 2, 2, 2,\n",
       "       2, 2, 2, 2, 2, 2, 2, 2, 2, 2, 2, 2, 2, 2, 2, 2, 2, 2, 2, 2, 2, 2,\n",
       "       2, 2, 2, 2, 2, 2, 2, 2, 2, 2, 2, 2, 2, 2, 2, 2, 2, 2])"
      ]
     },
     "execution_count": 5,
     "metadata": {},
     "output_type": "execute_result"
    }
   ],
   "source": [
    "y"
   ]
  },
  {
   "cell_type": "markdown",
   "id": "7d449af8",
   "metadata": {
    "papermill": {
     "duration": 0.006946,
     "end_time": "2024-05-15T07:42:38.539120",
     "exception": false,
     "start_time": "2024-05-15T07:42:38.532174",
     "status": "completed"
    },
    "tags": []
   },
   "source": [
    "# Model\n"
   ]
  },
  {
   "cell_type": "code",
   "execution_count": 6,
   "id": "2411d5e7",
   "metadata": {
    "execution": {
     "iopub.execute_input": "2024-05-15T07:42:38.555477Z",
     "iopub.status.busy": "2024-05-15T07:42:38.554987Z",
     "iopub.status.idle": "2024-05-15T07:42:38.573400Z",
     "shell.execute_reply": "2024-05-15T07:42:38.572764Z"
    },
    "papermill": {
     "duration": 0.028924,
     "end_time": "2024-05-15T07:42:38.575217",
     "exception": false,
     "start_time": "2024-05-15T07:42:38.546293",
     "status": "completed"
    },
    "tags": []
   },
   "outputs": [],
   "source": [
    "class LogisticRegression:\n",
    "\n",
    "    def __init__(\n",
    "        self,\n",
    "        lr=0.1,\n",
    "        num_iter=1_000_000,\n",
    "        verbose=False,\n",
    "        multi_class=False,\n",
    "        least_squares=False,\n",
    "    ):\n",
    "        self.lr = lr\n",
    "        self.num_iter = num_iter\n",
    "        self.verbose = verbose\n",
    "        self.least_squares = least_squares\n",
    "        self.multi_class = multi_class\n",
    "        self.weights = None\n",
    "        self.bias = None\n",
    "        self.x = None\n",
    "        self.y = None\n",
    "        self.classes_ = None\n",
    "        self.m = None\n",
    "        self.n = None\n",
    "        self.losses = []\n",
    "        self.accuracies = []\n",
    "\n",
    "    def softmax(self, x):\n",
    "        e_x = np.exp(x - np.max(x, axis=1, keepdims=True))\n",
    "        return e_x / e_x.sum(axis=1, keepdims=True)\n",
    "\n",
    "    def gradient_descent(self):\n",
    "        y_hat = self.predict(self.x)\n",
    "        dw = (1 / self.m) * np.dot(self.x.T, (y_hat - self.y))\n",
    "        db = (1 / self.m) * np.sum(y_hat - self.y)\n",
    "        self.weights -= self.lr * dw\n",
    "        self.bias -= self.lr * db\n",
    "\n",
    "    def predict(self, x):\n",
    "        if self.least_squares:\n",
    "            x = np.c_[np.ones(x.shape[0]), x]\n",
    "            return np.dot(x, self.weights)\n",
    "        z = np.dot(x, self.weights) + self.bias\n",
    "        predication = 1.0 / (1.0 + np.exp(-z))\n",
    "        return self.softmax(predication) if self.multi_class else predication\n",
    "\n",
    "    def plot(self):\n",
    "        plt.plot(self.losses)\n",
    "        plt.plot(self.accuracies)\n",
    "        plt.xlabel(\"Number of iterations\")\n",
    "        plt.ylabel(\"Loss\")\n",
    "        plt.legend([\"Loss\", \"Accuracy\"])\n",
    "        plt.show()\n",
    "\n",
    "    def loss(self):\n",
    "        y_hat = self.predict(self.x)\n",
    "        self.losses.append(\n",
    "            -np.mean(\n",
    "                self.y * np.log(y_hat + sys.float_info.min)\n",
    "                + (1 - self.y) * np.log(1 - y_hat + sys.float_info.min)\n",
    "            )\n",
    "        )\n",
    "        return self.losses[-1]\n",
    "\n",
    "    def accuracy(self):\n",
    "        y_hat = self.predict(self.x)\n",
    "        acc = (\n",
    "            np.mean(y_hat.argmax(axis=1) == self.y.argmax(axis=1))\n",
    "            if self.multi_class\n",
    "            else np.mean(y_hat.round() == self.y)\n",
    "        )\n",
    "        self.accuracies.append(acc)\n",
    "\n",
    "    def fit(self, x, y):\n",
    "        self.x = x\n",
    "        self.y = y\n",
    "        if self.least_squares:\n",
    "            self.least_squares_technique()\n",
    "            return\n",
    "        best_loss = sys.float_info.max\n",
    "        patience = 10\n",
    "        self.m, self.n = x.shape\n",
    "        if self.multi_class:\n",
    "            self.classes_ = np.unique(self.y)\n",
    "            self.y = pd.get_dummies(self.y).to_numpy()\n",
    "            self.weights = (\n",
    "                np.random.rand(self.n, len(self.classes_))\n",
    "                if self.weights is None\n",
    "                else self.weights\n",
    "            )\n",
    "            self.bias = (\n",
    "                np.random.rand(len(self.classes_)) if self.bias is None else self.bias\n",
    "            )\n",
    "        else:\n",
    "            self.weights = (\n",
    "                np.random.rand(self.n) if self.weights is None else self.weights\n",
    "            )\n",
    "            self.bias = np.random.rand() if self.bias is None else self.bias\n",
    "        for _ in range(self.num_iter):\n",
    "            self.gradient_descent()\n",
    "            self.loss()\n",
    "            self.accuracy()\n",
    "            if self.losses[-1] < best_loss:\n",
    "                best_loss = self.losses[-1]\n",
    "                patience = 10\n",
    "            else:\n",
    "                patience -= 1\n",
    "                if patience == 0:\n",
    "                    break\n",
    "            if self.verbose:\n",
    "                print(f\"\\tLoss: {self.losses[-1]}\")\n",
    "                print(f\"\\tAccuracy: {self.accuracies[-1]}\")\n",
    "        print(f\"\\nFinal Loss: {self.losses[-1]}\")\n",
    "        print(f\"Final Accuracy: {self.accuracies[-1]}\")\n",
    "\n",
    "    def eval(self, x, y):\n",
    "        self.x = x\n",
    "        self.y = y\n",
    "        if self.multi_class:\n",
    "            self.y = pd.get_dummies(self.y).to_numpy()\n",
    "        self.accuracy()\n",
    "        print(f\"Accuracy: {self.accuracies[-1]}\")\n",
    "\n",
    "    def least_squares_technique(self):\n",
    "        self.x = np.c_[np.ones(self.x.shape[0]), self.x]\n",
    "        self.weights = np.dot(\n",
    "            np.dot(np.linalg.inv(np.dot(self.x.T, self.x)), self.x.T), self.y\n",
    "        )"
   ]
  },
  {
   "cell_type": "code",
   "execution_count": 7,
   "id": "fbf0bb15",
   "metadata": {
    "execution": {
     "iopub.execute_input": "2024-05-15T07:42:38.591409Z",
     "iopub.status.busy": "2024-05-15T07:42:38.591127Z",
     "iopub.status.idle": "2024-05-15T07:42:38.598373Z",
     "shell.execute_reply": "2024-05-15T07:42:38.597135Z"
    },
    "papermill": {
     "duration": 0.017414,
     "end_time": "2024-05-15T07:42:38.600275",
     "exception": false,
     "start_time": "2024-05-15T07:42:38.582861",
     "status": "completed"
    },
    "tags": []
   },
   "outputs": [],
   "source": [
    "x_train, x_test, y_train, y_test = train_test_split(\n",
    "    x, y, test_size=0.3, random_state=42\n",
    ")"
   ]
  },
  {
   "cell_type": "code",
   "execution_count": 8,
   "id": "8c66e317",
   "metadata": {
    "execution": {
     "iopub.execute_input": "2024-05-15T07:42:38.616455Z",
     "iopub.status.busy": "2024-05-15T07:42:38.615965Z",
     "iopub.status.idle": "2024-05-15T07:42:38.621454Z",
     "shell.execute_reply": "2024-05-15T07:42:38.620757Z"
    },
    "papermill": {
     "duration": 0.015432,
     "end_time": "2024-05-15T07:42:38.623038",
     "exception": false,
     "start_time": "2024-05-15T07:42:38.607606",
     "status": "completed"
    },
    "tags": []
   },
   "outputs": [
    {
     "data": {
      "text/plain": [
       "array([0, 1, 2])"
      ]
     },
     "execution_count": 8,
     "metadata": {},
     "output_type": "execute_result"
    }
   ],
   "source": [
    "np.unique(y_train)"
   ]
  },
  {
   "cell_type": "code",
   "execution_count": 9,
   "id": "0ef51bb9",
   "metadata": {
    "execution": {
     "iopub.execute_input": "2024-05-15T07:42:38.641877Z",
     "iopub.status.busy": "2024-05-15T07:42:38.641183Z",
     "iopub.status.idle": "2024-05-15T07:42:38.645404Z",
     "shell.execute_reply": "2024-05-15T07:42:38.644818Z"
    },
    "papermill": {
     "duration": 0.016652,
     "end_time": "2024-05-15T07:42:38.647076",
     "exception": false,
     "start_time": "2024-05-15T07:42:38.630424",
     "status": "completed"
    },
    "tags": []
   },
   "outputs": [],
   "source": [
    "model = LogisticRegression(least_squares=True)"
   ]
  },
  {
   "cell_type": "code",
   "execution_count": 10,
   "id": "88a4df49",
   "metadata": {
    "execution": {
     "iopub.execute_input": "2024-05-15T07:42:38.665085Z",
     "iopub.status.busy": "2024-05-15T07:42:38.664660Z",
     "iopub.status.idle": "2024-05-15T07:42:38.676898Z",
     "shell.execute_reply": "2024-05-15T07:42:38.675939Z"
    },
    "papermill": {
     "duration": 0.024108,
     "end_time": "2024-05-15T07:42:38.679443",
     "exception": false,
     "start_time": "2024-05-15T07:42:38.655335",
     "status": "completed"
    },
    "tags": []
   },
   "outputs": [],
   "source": [
    "model.fit(x_train, y_train)"
   ]
  },
  {
   "cell_type": "code",
   "execution_count": 11,
   "id": "206039a7",
   "metadata": {
    "execution": {
     "iopub.execute_input": "2024-05-15T07:42:38.700262Z",
     "iopub.status.busy": "2024-05-15T07:42:38.699747Z",
     "iopub.status.idle": "2024-05-15T07:42:38.705723Z",
     "shell.execute_reply": "2024-05-15T07:42:38.704871Z"
    },
    "papermill": {
     "duration": 0.020863,
     "end_time": "2024-05-15T07:42:38.708901",
     "exception": false,
     "start_time": "2024-05-15T07:42:38.688038",
     "status": "completed"
    },
    "tags": []
   },
   "outputs": [
    {
     "name": "stdout",
     "output_type": "stream",
     "text": [
      "Accuracy: 1.0\n"
     ]
    }
   ],
   "source": [
    "model.eval(x_test, y_test)"
   ]
  },
  {
   "cell_type": "code",
   "execution_count": 12,
   "id": "28933771",
   "metadata": {
    "execution": {
     "iopub.execute_input": "2024-05-15T07:42:38.730675Z",
     "iopub.status.busy": "2024-05-15T07:42:38.730278Z",
     "iopub.status.idle": "2024-05-15T07:42:38.734458Z",
     "shell.execute_reply": "2024-05-15T07:42:38.733669Z"
    },
    "papermill": {
     "duration": 0.01723,
     "end_time": "2024-05-15T07:42:38.736226",
     "exception": false,
     "start_time": "2024-05-15T07:42:38.718996",
     "status": "completed"
    },
    "tags": []
   },
   "outputs": [],
   "source": [
    "model = LogisticRegression(multi_class=True)"
   ]
  },
  {
   "cell_type": "markdown",
   "id": "b26cac8f",
   "metadata": {
    "papermill": {
     "duration": 0.009101,
     "end_time": "2024-05-15T07:42:38.755341",
     "exception": false,
     "start_time": "2024-05-15T07:42:38.746240",
     "status": "completed"
    },
    "tags": []
   },
   "source": [
    "# Standardization\n"
   ]
  },
  {
   "cell_type": "code",
   "execution_count": 13,
   "id": "c8eb383c",
   "metadata": {
    "execution": {
     "iopub.execute_input": "2024-05-15T07:42:38.776896Z",
     "iopub.status.busy": "2024-05-15T07:42:38.776487Z",
     "iopub.status.idle": "2024-05-15T07:42:38.781405Z",
     "shell.execute_reply": "2024-05-15T07:42:38.780590Z"
    },
    "papermill": {
     "duration": 0.017908,
     "end_time": "2024-05-15T07:42:38.783242",
     "exception": false,
     "start_time": "2024-05-15T07:42:38.765334",
     "status": "completed"
    },
    "tags": []
   },
   "outputs": [],
   "source": [
    "x_train = (x_train - x_train.mean()) / x_train.std()\n",
    "x_test = (x_test - x_test.mean()) / x_test.std()"
   ]
  },
  {
   "cell_type": "markdown",
   "id": "c376e8d0",
   "metadata": {
    "papermill": {
     "duration": 0.007433,
     "end_time": "2024-05-15T07:42:38.800448",
     "exception": false,
     "start_time": "2024-05-15T07:42:38.793015",
     "status": "completed"
    },
    "tags": []
   },
   "source": [
    "# Train\n"
   ]
  },
  {
   "cell_type": "code",
   "execution_count": 14,
   "id": "149cce26",
   "metadata": {
    "execution": {
     "iopub.execute_input": "2024-05-15T07:42:38.817331Z",
     "iopub.status.busy": "2024-05-15T07:42:38.816956Z",
     "iopub.status.idle": "2024-05-15T07:42:42.694017Z",
     "shell.execute_reply": "2024-05-15T07:42:42.692295Z"
    },
    "papermill": {
     "duration": 3.889487,
     "end_time": "2024-05-15T07:42:42.697563",
     "exception": false,
     "start_time": "2024-05-15T07:42:38.808076",
     "status": "completed"
    },
    "tags": []
   },
   "outputs": [
    {
     "name": "stderr",
     "output_type": "stream",
     "text": [
      "/tmp/ipykernel_18/372245163.py:42: RuntimeWarning: overflow encountered in exp\n",
      "  predication = 1.0 / (1.0 + np.exp(-z))\n"
     ]
    },
    {
     "name": "stdout",
     "output_type": "stream",
     "text": [
      "\n",
      "Final Loss: 0.47165730559558544\n",
      "Final Accuracy: 0.6666666666666666\n"
     ]
    }
   ],
   "source": [
    "model.fit(x_train, y_train)"
   ]
  },
  {
   "cell_type": "code",
   "execution_count": 15,
   "id": "e5fa00c0",
   "metadata": {
    "execution": {
     "iopub.execute_input": "2024-05-15T07:42:42.720560Z",
     "iopub.status.busy": "2024-05-15T07:42:42.720139Z",
     "iopub.status.idle": "2024-05-15T07:42:43.052231Z",
     "shell.execute_reply": "2024-05-15T07:42:43.051129Z"
    },
    "papermill": {
     "duration": 0.347394,
     "end_time": "2024-05-15T07:42:43.054902",
     "exception": false,
     "start_time": "2024-05-15T07:42:42.707508",
     "status": "completed"
    },
    "tags": []
   },
   "outputs": [
    {
     "data": {
      "image/png": "[encoded data removed]",
      "text/plain": [
       "<Figure size 640x480 with 1 Axes>"
      ]
     },
     "metadata": {},
     "output_type": "display_data"
    }
   ],
   "source": [
    "model.plot()"
   ]
  },
  {
   "cell_type": "code",
   "execution_count": 16,
   "id": "96b13ce2",
   "metadata": {
    "execution": {
     "iopub.execute_input": "2024-05-15T07:42:43.073903Z",
     "iopub.status.busy": "2024-05-15T07:42:43.073430Z",
     "iopub.status.idle": "2024-05-15T07:42:43.081179Z",
     "shell.execute_reply": "2024-05-15T07:42:43.079846Z"
    },
    "papermill": {
     "duration": 0.019608,
     "end_time": "2024-05-15T07:42:43.083366",
     "exception": false,
     "start_time": "2024-05-15T07:42:43.063758",
     "status": "completed"
    },
    "tags": []
   },
   "outputs": [
    {
     "name": "stdout",
     "output_type": "stream",
     "text": [
      "Accuracy: 0.7333333333333333\n"
     ]
    },
    {
     "name": "stderr",
     "output_type": "stream",
     "text": [
      "/tmp/ipykernel_18/372245163.py:42: RuntimeWarning: overflow encountered in exp\n",
      "  predication = 1.0 / (1.0 + np.exp(-z))\n"
     ]
    }
   ],
   "source": [
    "model.eval(x_test, y_test)"
   ]
  },
  {
   "cell_type": "markdown",
   "id": "3279cb9a",
   "metadata": {
    "papermill": {
     "duration": 0.011101,
     "end_time": "2024-05-15T07:42:43.104245",
     "exception": false,
     "start_time": "2024-05-15T07:42:43.093144",
     "status": "completed"
    },
    "tags": []
   },
   "source": [
    "# Group samples of class 2 and class 3 together to form new class (Class II)\n"
   ]
  },
  {
   "cell_type": "code",
   "execution_count": 17,
   "id": "fc27f91b",
   "metadata": {
    "execution": {
     "iopub.execute_input": "2024-05-15T07:42:43.124339Z",
     "iopub.status.busy": "2024-05-15T07:42:43.123901Z",
     "iopub.status.idle": "2024-05-15T07:42:43.133764Z",
     "shell.execute_reply": "2024-05-15T07:42:43.132659Z"
    },
    "papermill": {
     "duration": 0.022365,
     "end_time": "2024-05-15T07:42:43.135969",
     "exception": false,
     "start_time": "2024-05-15T07:42:43.113604",
     "status": "completed"
    },
    "tags": []
   },
   "outputs": [],
   "source": [
    "Y_train = np.where(y_train == 2, 1, y_train)\n",
    "\n",
    "X_train_class1, X_test_class1, Y_train_class1, Y_test_class1 = train_test_split(\n",
    "    x_train[y_train == 0], Y_train[y_train == 0], test_size=0.2, random_state=42\n",
    ")\n",
    "X_train_class2, X_test_class2, Y_train_class2, Y_test_class2 = train_test_split(\n",
    "    x_train[y_train == 1], Y_train[y_train == 1], test_size=0.2, random_state=42\n",
    ")\n",
    "\n",
    "X_train = np.concatenate((X_train_class1, X_train_class2), axis=0)\n",
    "X_test = np.concatenate((X_test_class1, X_test_class2), axis=0)\n",
    "Y_train = np.concatenate((Y_train_class1, Y_train_class2), axis=0)\n",
    "Y_test = np.concatenate((Y_test_class1, Y_test_class2), axis=0)"
   ]
  },
  {
   "cell_type": "code",
   "execution_count": 18,
   "id": "3d009ef8",
   "metadata": {
    "execution": {
     "iopub.execute_input": "2024-05-15T07:42:43.158803Z",
     "iopub.status.busy": "2024-05-15T07:42:43.158391Z",
     "iopub.status.idle": "2024-05-15T07:42:43.164120Z",
     "shell.execute_reply": "2024-05-15T07:42:43.162893Z"
    },
    "papermill": {
     "duration": 0.018636,
     "end_time": "2024-05-15T07:42:43.166876",
     "exception": false,
     "start_time": "2024-05-15T07:42:43.148240",
     "status": "completed"
    },
    "tags": []
   },
   "outputs": [],
   "source": [
    "model = LogisticRegression()"
   ]
  },
  {
   "cell_type": "code",
   "execution_count": 19,
   "id": "ce2ba46e",
   "metadata": {
    "execution": {
     "iopub.execute_input": "2024-05-15T07:42:43.187759Z",
     "iopub.status.busy": "2024-05-15T07:42:43.187343Z",
     "iopub.status.idle": "2024-05-15T07:43:38.740601Z",
     "shell.execute_reply": "2024-05-15T07:43:38.739624Z"
    },
    "papermill": {
     "duration": 55.574231,
     "end_time": "2024-05-15T07:43:38.751178",
     "exception": false,
     "start_time": "2024-05-15T07:42:43.176947",
     "status": "completed"
    },
    "tags": []
   },
   "outputs": [
    {
     "name": "stdout",
     "output_type": "stream",
     "text": [
      "\n",
      "Final Loss: 5.821661279358381e-05\n",
      "Final Accuracy: 1.0\n"
     ]
    }
   ],
   "source": [
    "model.fit(X_train, Y_train)"
   ]
  },
  {
   "cell_type": "code",
   "execution_count": 20,
   "id": "b26975b2",
   "metadata": {
    "execution": {
     "iopub.execute_input": "2024-05-15T07:43:38.772146Z",
     "iopub.status.busy": "2024-05-15T07:43:38.769146Z",
     "iopub.status.idle": "2024-05-15T07:43:43.117390Z",
     "shell.execute_reply": "2024-05-15T07:43:43.116530Z"
    },
    "papermill": {
     "duration": 4.359809,
     "end_time": "2024-05-15T07:43:43.119176",
     "exception": false,
     "start_time": "2024-05-15T07:43:38.759367",
     "status": "completed"
    },
    "tags": []
   },
   "outputs": [
    {
     "data": {
      "image/png": "[encoded data removed]",
      "text/plain": [
       "<Figure size 640x480 with 1 Axes>"
      ]
     },
     "metadata": {},
     "output_type": "display_data"
    }
   ],
   "source": [
    "model.plot()"
   ]
  },
  {
   "cell_type": "code",
   "execution_count": 21,
   "id": "083083ab",
   "metadata": {
    "execution": {
     "iopub.execute_input": "2024-05-15T07:43:43.137895Z",
     "iopub.status.busy": "2024-05-15T07:43:43.137249Z",
     "iopub.status.idle": "2024-05-15T07:43:43.144351Z",
     "shell.execute_reply": "2024-05-15T07:43:43.142818Z"
    },
    "papermill": {
     "duration": 0.018218,
     "end_time": "2024-05-15T07:43:43.146104",
     "exception": false,
     "start_time": "2024-05-15T07:43:43.127886",
     "status": "completed"
    },
    "tags": []
   },
   "outputs": [
    {
     "name": "stdout",
     "output_type": "stream",
     "text": [
      "Accuracy: 1.0\n"
     ]
    }
   ],
   "source": [
    "model.eval(X_test, Y_test)"
   ]
  },
  {
   "cell_type": "code",
   "execution_count": 22,
   "id": "cb571ef0",
   "metadata": {
    "execution": {
     "iopub.execute_input": "2024-05-15T07:43:43.164362Z",
     "iopub.status.busy": "2024-05-15T07:43:43.164047Z",
     "iopub.status.idle": "2024-05-15T07:43:43.168683Z",
     "shell.execute_reply": "2024-05-15T07:43:43.167784Z"
    },
    "papermill": {
     "duration": 0.015896,
     "end_time": "2024-05-15T07:43:43.170497",
     "exception": false,
     "start_time": "2024-05-15T07:43:43.154601",
     "status": "completed"
    },
    "tags": []
   },
   "outputs": [],
   "source": [
    "Y_pred = model.predict(X_test)"
   ]
  },
  {
   "cell_type": "code",
   "execution_count": 23,
   "id": "b6e6ef5e",
   "metadata": {
    "execution": {
     "iopub.execute_input": "2024-05-15T07:43:43.188660Z",
     "iopub.status.busy": "2024-05-15T07:43:43.188369Z",
     "iopub.status.idle": "2024-05-15T07:43:43.194748Z",
     "shell.execute_reply": "2024-05-15T07:43:43.193853Z"
    },
    "papermill": {
     "duration": 0.017631,
     "end_time": "2024-05-15T07:43:43.196551",
     "exception": false,
     "start_time": "2024-05-15T07:43:43.178920",
     "status": "completed"
    },
    "tags": []
   },
   "outputs": [
    {
     "data": {
      "text/plain": [
       "array([2.21836119e-06, 4.68668722e-05, 8.82462241e-06, 5.62246621e-07,\n",
       "       6.58078401e-06, 9.85772701e-07, 3.01748116e-04, 1.00000000e+00,\n",
       "       9.99999468e-01, 9.99999903e-01, 9.99999544e-01, 9.99999913e-01,\n",
       "       9.99998439e-01, 9.99999948e-01, 9.99999998e-01])"
      ]
     },
     "execution_count": 23,
     "metadata": {},
     "output_type": "execute_result"
    }
   ],
   "source": [
    "Y_pred"
   ]
  },
  {
   "cell_type": "markdown",
   "id": "d5826348",
   "metadata": {
    "papermill": {
     "duration": 0.008322,
     "end_time": "2024-05-15T07:43:43.213198",
     "exception": false,
     "start_time": "2024-05-15T07:43:43.204876",
     "status": "completed"
    },
    "tags": []
   },
   "source": [
    "# Group samples of class 1 and class 3 together to form new class (Class II)\n"
   ]
  },
  {
   "cell_type": "code",
   "execution_count": 24,
   "id": "5660cd8f",
   "metadata": {
    "execution": {
     "iopub.execute_input": "2024-05-15T07:43:43.231688Z",
     "iopub.status.busy": "2024-05-15T07:43:43.231325Z",
     "iopub.status.idle": "2024-05-15T07:43:43.240733Z",
     "shell.execute_reply": "2024-05-15T07:43:43.238872Z"
    },
    "papermill": {
     "duration": 0.022239,
     "end_time": "2024-05-15T07:43:43.243753",
     "exception": false,
     "start_time": "2024-05-15T07:43:43.221514",
     "status": "completed"
    },
    "tags": []
   },
   "outputs": [],
   "source": [
    "Y_train = np.where(y_train == 2, 0, y_train)\n",
    "\n",
    "X_train_class1, X_test_class1, Y_train_class1, Y_test_class1 = train_test_split(\n",
    "    x_train[y_train == 0], Y_train[y_train == 0], test_size=0.2, random_state=42\n",
    ")\n",
    "X_train_class2, X_test_class2, Y_train_class2, Y_test_class2 = train_test_split(\n",
    "    x_train[y_train == 1], Y_train[y_train == 1], test_size=0.2, random_state=42\n",
    ")\n",
    "\n",
    "X_train = np.concatenate((X_train_class1, X_train_class2), axis=0)\n",
    "X_test = np.concatenate((X_test_class1, X_test_class2), axis=0)\n",
    "Y_train = np.concatenate((Y_train_class1, Y_train_class2), axis=0)\n",
    "Y_test = np.concatenate((Y_test_class1, Y_test_class2), axis=0)"
   ]
  },
  {
   "cell_type": "code",
   "execution_count": 25,
   "id": "003e66d9",
   "metadata": {
    "execution": {
     "iopub.execute_input": "2024-05-15T07:43:43.263708Z",
     "iopub.status.busy": "2024-05-15T07:43:43.263325Z",
     "iopub.status.idle": "2024-05-15T07:43:43.296299Z",
     "shell.execute_reply": "2024-05-15T07:43:43.294521Z"
    },
    "papermill": {
     "duration": 0.045888,
     "end_time": "2024-05-15T07:43:43.299242",
     "exception": false,
     "start_time": "2024-05-15T07:43:43.253354",
     "status": "completed"
    },
    "tags": []
   },
   "outputs": [],
   "source": [
    "model = LogisticRegression()"
   ]
  },
  {
   "cell_type": "code",
   "execution_count": 26,
   "id": "3fc538bd",
   "metadata": {
    "execution": {
     "iopub.execute_input": "2024-05-15T07:43:43.320178Z",
     "iopub.status.busy": "2024-05-15T07:43:43.319797Z",
     "iopub.status.idle": "2024-05-15T07:44:38.282910Z",
     "shell.execute_reply": "2024-05-15T07:44:38.281546Z"
    },
    "papermill": {
     "duration": 54.9845,
     "end_time": "2024-05-15T07:44:38.293515",
     "exception": false,
     "start_time": "2024-05-15T07:43:43.309015",
     "status": "completed"
    },
    "tags": []
   },
   "outputs": [
    {
     "name": "stdout",
     "output_type": "stream",
     "text": [
      "\n",
      "Final Loss: 5.835133432874775e-05\n",
      "Final Accuracy: 1.0\n"
     ]
    }
   ],
   "source": [
    "model.fit(X_train, Y_train)"
   ]
  },
  {
   "cell_type": "code",
   "execution_count": 27,
   "id": "a89a0102",
   "metadata": {
    "execution": {
     "iopub.execute_input": "2024-05-15T07:44:38.317140Z",
     "iopub.status.busy": "2024-05-15T07:44:38.315684Z",
     "iopub.status.idle": "2024-05-15T07:44:42.716224Z",
     "shell.execute_reply": "2024-05-15T07:44:42.715361Z"
    },
    "papermill": {
     "duration": 4.414935,
     "end_time": "2024-05-15T07:44:42.718002",
     "exception": false,
     "start_time": "2024-05-15T07:44:38.303067",
     "status": "completed"
    },
    "tags": []
   },
   "outputs": [
    {
     "data": {
      "image/png": "[encoded data removed]",
      "text/plain": [
       "<Figure size 640x480 with 1 Axes>"
      ]
     },
     "metadata": {},
     "output_type": "display_data"
    }
   ],
   "source": [
    "model.plot()"
   ]
  },
  {
   "cell_type": "code",
   "execution_count": 28,
   "id": "cb10fe37",
   "metadata": {
    "execution": {
     "iopub.execute_input": "2024-05-15T07:44:42.738388Z",
     "iopub.status.busy": "2024-05-15T07:44:42.737984Z",
     "iopub.status.idle": "2024-05-15T07:44:42.744611Z",
     "shell.execute_reply": "2024-05-15T07:44:42.743112Z"
    },
    "papermill": {
     "duration": 0.020005,
     "end_time": "2024-05-15T07:44:42.747475",
     "exception": false,
     "start_time": "2024-05-15T07:44:42.727470",
     "status": "completed"
    },
    "tags": []
   },
   "outputs": [
    {
     "name": "stdout",
     "output_type": "stream",
     "text": [
      "Accuracy: 1.0\n"
     ]
    }
   ],
   "source": [
    "model.eval(X_test, Y_test)"
   ]
  },
  {
   "cell_type": "code",
   "execution_count": 29,
   "id": "bc038fae",
   "metadata": {
    "execution": {
     "iopub.execute_input": "2024-05-15T07:44:42.768449Z",
     "iopub.status.busy": "2024-05-15T07:44:42.768074Z",
     "iopub.status.idle": "2024-05-15T07:44:42.773791Z",
     "shell.execute_reply": "2024-05-15T07:44:42.772487Z"
    },
    "papermill": {
     "duration": 0.018664,
     "end_time": "2024-05-15T07:44:42.776428",
     "exception": false,
     "start_time": "2024-05-15T07:44:42.757764",
     "status": "completed"
    },
    "tags": []
   },
   "outputs": [],
   "source": [
    "Y_pred = model.predict(X_test)"
   ]
  },
  {
   "cell_type": "code",
   "execution_count": 30,
   "id": "1705cc44",
   "metadata": {
    "execution": {
     "iopub.execute_input": "2024-05-15T07:44:42.798642Z",
     "iopub.status.busy": "2024-05-15T07:44:42.798330Z",
     "iopub.status.idle": "2024-05-15T07:44:42.805463Z",
     "shell.execute_reply": "2024-05-15T07:44:42.804399Z"
    },
    "papermill": {
     "duration": 0.019951,
     "end_time": "2024-05-15T07:44:42.807241",
     "exception": false,
     "start_time": "2024-05-15T07:44:42.787290",
     "status": "completed"
    },
    "tags": []
   },
   "outputs": [
    {
     "data": {
      "text/plain": [
       "array([2.27936058e-06, 4.69121808e-05, 8.86303426e-06, 6.28095221e-07,\n",
       "       7.05928878e-06, 9.11735537e-07, 2.75503583e-04, 1.00000000e+00,\n",
       "       9.99999435e-01, 9.99999894e-01, 9.99999532e-01, 9.99999897e-01,\n",
       "       9.99998494e-01, 9.99999945e-01, 9.99999998e-01])"
      ]
     },
     "execution_count": 30,
     "metadata": {},
     "output_type": "execute_result"
    }
   ],
   "source": [
    "Y_pred"
   ]
  },
  {
   "cell_type": "markdown",
   "id": "2ef1a52c",
   "metadata": {
    "papermill": {
     "duration": 0.009087,
     "end_time": "2024-05-15T07:44:42.826111",
     "exception": false,
     "start_time": "2024-05-15T07:44:42.817024",
     "status": "completed"
    },
    "tags": []
   },
   "source": [
    "# Group samples of class 1 and class 2 together to form new class (Class II)\n"
   ]
  },
  {
   "cell_type": "code",
   "execution_count": 31,
   "id": "fd64dfb8",
   "metadata": {
    "execution": {
     "iopub.execute_input": "2024-05-15T07:44:42.848211Z",
     "iopub.status.busy": "2024-05-15T07:44:42.847493Z",
     "iopub.status.idle": "2024-05-15T07:44:42.856616Z",
     "shell.execute_reply": "2024-05-15T07:44:42.855419Z"
    },
    "papermill": {
     "duration": 0.023442,
     "end_time": "2024-05-15T07:44:42.858984",
     "exception": false,
     "start_time": "2024-05-15T07:44:42.835542",
     "status": "completed"
    },
    "tags": []
   },
   "outputs": [],
   "source": [
    "Y_train = np.where(y_train == 1, 0, y_train)\n",
    "\n",
    "X_train_class1, X_test_class1, Y_train_class1, Y_test_class1 = train_test_split(\n",
    "    x_train[y_train == 0], Y_train[y_train == 0], test_size=0.2, random_state=42\n",
    ")\n",
    "X_train_class2, X_test_class2, Y_train_class2, Y_test_class2 = train_test_split(\n",
    "    x_train[y_train == 1], Y_train[y_train == 1], test_size=0.2, random_state=42\n",
    ")\n",
    "\n",
    "X_train = np.concatenate((X_train_class1, X_train_class2), axis=0)\n",
    "X_test = np.concatenate((X_test_class1, X_test_class2), axis=0)\n",
    "Y_train = np.concatenate((Y_train_class1, Y_train_class2), axis=0)\n",
    "Y_test = np.concatenate((Y_test_class1, Y_test_class2), axis=0)"
   ]
  },
  {
   "cell_type": "code",
   "execution_count": 32,
   "id": "27eddd48",
   "metadata": {
    "execution": {
     "iopub.execute_input": "2024-05-15T07:44:42.944756Z",
     "iopub.status.busy": "2024-05-15T07:44:42.943991Z",
     "iopub.status.idle": "2024-05-15T07:44:42.970314Z",
     "shell.execute_reply": "2024-05-15T07:44:42.969333Z"
    },
    "papermill": {
     "duration": 0.039943,
     "end_time": "2024-05-15T07:44:42.972602",
     "exception": false,
     "start_time": "2024-05-15T07:44:42.932659",
     "status": "completed"
    },
    "tags": []
   },
   "outputs": [],
   "source": [
    "model = LogisticRegression()"
   ]
  },
  {
   "cell_type": "code",
   "execution_count": 33,
   "id": "76107094",
   "metadata": {
    "execution": {
     "iopub.execute_input": "2024-05-15T07:44:42.994367Z",
     "iopub.status.busy": "2024-05-15T07:44:42.993932Z",
     "iopub.status.idle": "2024-05-15T07:45:38.047128Z",
     "shell.execute_reply": "2024-05-15T07:45:38.046195Z"
    },
    "papermill": {
     "duration": 55.076753,
     "end_time": "2024-05-15T07:45:38.059264",
     "exception": false,
     "start_time": "2024-05-15T07:44:42.982511",
     "status": "completed"
    },
    "tags": []
   },
   "outputs": [
    {
     "name": "stdout",
     "output_type": "stream",
     "text": [
      "\n",
      "Final Loss: 2.7557802980085773e-06\n",
      "Final Accuracy: 1.0\n"
     ]
    }
   ],
   "source": [
    "model.fit(X_train, Y_train)"
   ]
  },
  {
   "cell_type": "code",
   "execution_count": 34,
   "id": "0c5c302c",
   "metadata": {
    "execution": {
     "iopub.execute_input": "2024-05-15T07:45:38.080775Z",
     "iopub.status.busy": "2024-05-15T07:45:38.080422Z",
     "iopub.status.idle": "2024-05-15T07:45:42.304298Z",
     "shell.execute_reply": "2024-05-15T07:45:42.303015Z"
    },
    "papermill": {
     "duration": 4.237953,
     "end_time": "2024-05-15T07:45:42.307445",
     "exception": false,
     "start_time": "2024-05-15T07:45:38.069492",
     "status": "completed"
    },
    "tags": []
   },
   "outputs": [
    {
     "data": {
      "image/png": "[encoded data removed]",
      "text/plain": [
       "<Figure size 640x480 with 1 Axes>"
      ]
     },
     "metadata": {},
     "output_type": "display_data"
    }
   ],
   "source": [
    "model.plot()"
   ]
  },
  {
   "cell_type": "code",
   "execution_count": 35,
   "id": "d2af4f2e",
   "metadata": {
    "execution": {
     "iopub.execute_input": "2024-05-15T07:45:42.335302Z",
     "iopub.status.busy": "2024-05-15T07:45:42.334196Z",
     "iopub.status.idle": "2024-05-15T07:45:42.341157Z",
     "shell.execute_reply": "2024-05-15T07:45:42.339896Z"
    },
    "papermill": {
     "duration": 0.021598,
     "end_time": "2024-05-15T07:45:42.343203",
     "exception": false,
     "start_time": "2024-05-15T07:45:42.321605",
     "status": "completed"
    },
    "tags": []
   },
   "outputs": [
    {
     "name": "stdout",
     "output_type": "stream",
     "text": [
      "Accuracy: 1.0\n"
     ]
    }
   ],
   "source": [
    "model.eval(X_test, Y_test)"
   ]
  },
  {
   "cell_type": "code",
   "execution_count": 36,
   "id": "82a03268",
   "metadata": {
    "execution": {
     "iopub.execute_input": "2024-05-15T07:45:42.366767Z",
     "iopub.status.busy": "2024-05-15T07:45:42.365794Z",
     "iopub.status.idle": "2024-05-15T07:45:42.371658Z",
     "shell.execute_reply": "2024-05-15T07:45:42.370581Z"
    },
    "papermill": {
     "duration": 0.019808,
     "end_time": "2024-05-15T07:45:42.373550",
     "exception": false,
     "start_time": "2024-05-15T07:45:42.353742",
     "status": "completed"
    },
    "tags": []
   },
   "outputs": [],
   "source": [
    "Y_pred = model.predict(X_test)"
   ]
  },
  {
   "cell_type": "code",
   "execution_count": 37,
   "id": "bacd99b8",
   "metadata": {
    "execution": {
     "iopub.execute_input": "2024-05-15T07:45:42.397580Z",
     "iopub.status.busy": "2024-05-15T07:45:42.396335Z",
     "iopub.status.idle": "2024-05-15T07:45:42.404278Z",
     "shell.execute_reply": "2024-05-15T07:45:42.403077Z"
    },
    "papermill": {
     "duration": 0.022869,
     "end_time": "2024-05-15T07:45:42.407166",
     "exception": false,
     "start_time": "2024-05-15T07:45:42.384297",
     "status": "completed"
    },
    "tags": []
   },
   "outputs": [
    {
     "data": {
      "text/plain": [
       "array([1.15360019e-06, 3.16982610e-06, 1.20432655e-06, 2.16696783e-06,\n",
       "       1.92118658e-06, 7.67962055e-07, 5.67021301e-07, 5.29116206e-06,\n",
       "       2.74245008e-06, 1.58245446e-06, 5.60743463e-06, 2.09266639e-06,\n",
       "       1.16139004e-05, 4.68962723e-06, 3.16695519e-06])"
      ]
     },
     "execution_count": 37,
     "metadata": {},
     "output_type": "execute_result"
    }
   ],
   "source": [
    "Y_pred"
   ]
  }
 ],
 "metadata": {
  "kaggle": {
   "accelerator": "none",
   "dataSources": [],
   "dockerImageVersionId": 30698,
   "isGpuEnabled": false,
   "isInternetEnabled": true,
   "language": "python",
   "sourceType": "notebook"
  },
  "kernelspec": {
   "display_name": "Python 3",
   "language": "python",
   "name": "python3"
  },
  "language_info": {
   "codemirror_mode": {
    "name": "ipython",
    "version": 3
   },
   "file_extension": ".py",
   "mimetype": "text/x-python",
   "name": "python",
   "nbconvert_exporter": "python",
   "pygments_lexer": "ipython3",
   "version": "3.10.13"
  },
  "papermill": {
   "default_parameters": {},
   "duration": 189.402603,
   "end_time": "2024-05-15T07:45:43.244674",
   "environment_variables": {},
   "exception": null,
   "input_path": "__notebook__.ipynb",
   "output_path": "__notebook__.ipynb",
   "parameters": {},
   "start_time": "2024-05-15T07:42:33.842071",
   "version": "2.5.0"
  }
 },
 "nbformat": 4,
 "nbformat_minor": 5
}
