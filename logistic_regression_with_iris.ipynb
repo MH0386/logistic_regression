{
 "cells": [
  {
   "cell_type": "code",
   "execution_count": 1,
   "id": "0cd4994d",
   "metadata": {
    "execution": {
     "iopub.execute_input": "2024-05-15T09:04:45.034379Z",
     "iopub.status.busy": "2024-05-15T09:04:45.033643Z",
     "iopub.status.idle": "2024-05-15T09:04:47.112318Z",
     "shell.execute_reply": "2024-05-15T09:04:47.111182Z"
    },
    "papermill": {
     "duration": 2.09384,
     "end_time": "2024-05-15T09:04:47.115212",
     "exception": false,
     "start_time": "2024-05-15T09:04:45.021372",
     "status": "completed"
    },
    "tags": []
   },
   "outputs": [],
   "source": [
    "import numpy as np\n",
    "import matplotlib.pyplot as plt\n",
    "from sklearn import datasets\n",
    "from sklearn.metrics import confusion_matrix\n",
    "from sklearn.model_selection import train_test_split\n",
    "import sys\n",
    "import pandas as pd"
   ]
  },
  {
   "cell_type": "code",
   "execution_count": 2,
   "id": "e7b75873",
   "metadata": {
    "execution": {
     "iopub.execute_input": "2024-05-15T09:04:47.138642Z",
     "iopub.status.busy": "2024-05-15T09:04:47.137488Z",
     "iopub.status.idle": "2024-05-15T09:04:47.149410Z",
     "shell.execute_reply": "2024-05-15T09:04:47.148332Z"
    },
    "papermill": {
     "duration": 0.02619,
     "end_time": "2024-05-15T09:04:47.152017",
     "exception": false,
     "start_time": "2024-05-15T09:04:47.125827",
     "status": "completed"
    },
    "tags": []
   },
   "outputs": [],
   "source": [
    "iris = datasets.load_iris()\n",
    "x = iris.data\n",
    "y = iris.target"
   ]
  },
  {
   "cell_type": "code",
   "execution_count": 3,
   "id": "578b017c",
   "metadata": {
    "execution": {
     "iopub.execute_input": "2024-05-15T09:04:47.175399Z",
     "iopub.status.busy": "2024-05-15T09:04:47.174401Z",
     "iopub.status.idle": "2024-05-15T09:04:47.182239Z",
     "shell.execute_reply": "2024-05-15T09:04:47.181192Z"
    },
    "papermill": {
     "duration": 0.021906,
     "end_time": "2024-05-15T09:04:47.184628",
     "exception": false,
     "start_time": "2024-05-15T09:04:47.162722",
     "status": "completed"
    },
    "tags": []
   },
   "outputs": [
    {
     "data": {
      "text/plain": [
       "(150,)"
      ]
     },
     "execution_count": 3,
     "metadata": {},
     "output_type": "execute_result"
    }
   ],
   "source": [
    "y.shape"
   ]
  },
  {
   "cell_type": "code",
   "execution_count": 4,
   "id": "df376e3b",
   "metadata": {
    "execution": {
     "iopub.execute_input": "2024-05-15T09:04:47.209297Z",
     "iopub.status.busy": "2024-05-15T09:04:47.208320Z",
     "iopub.status.idle": "2024-05-15T09:04:47.216337Z",
     "shell.execute_reply": "2024-05-15T09:04:47.215272Z"
    },
    "papermill": {
     "duration": 0.022242,
     "end_time": "2024-05-15T09:04:47.218598",
     "exception": false,
     "start_time": "2024-05-15T09:04:47.196356",
     "status": "completed"
    },
    "tags": []
   },
   "outputs": [
    {
     "data": {
      "text/plain": [
       "array([0, 1, 2])"
      ]
     },
     "execution_count": 4,
     "metadata": {},
     "output_type": "execute_result"
    }
   ],
   "source": [
    "np.unique(y)"
   ]
  },
  {
   "cell_type": "code",
   "execution_count": 5,
   "id": "d62d1c23",
   "metadata": {
    "execution": {
     "iopub.execute_input": "2024-05-15T09:04:47.242098Z",
     "iopub.status.busy": "2024-05-15T09:04:47.241379Z",
     "iopub.status.idle": "2024-05-15T09:04:47.248750Z",
     "shell.execute_reply": "2024-05-15T09:04:47.247483Z"
    },
    "papermill": {
     "duration": 0.021951,
     "end_time": "2024-05-15T09:04:47.251321",
     "exception": false,
     "start_time": "2024-05-15T09:04:47.229370",
     "status": "completed"
    },
    "tags": []
   },
   "outputs": [
    {
     "data": {
      "text/plain": [
       "array([0, 0, 0, 0, 0, 0, 0, 0, 0, 0, 0, 0, 0, 0, 0, 0, 0, 0, 0, 0, 0, 0,\n",
       "       0, 0, 0, 0, 0, 0, 0, 0, 0, 0, 0, 0, 0, 0, 0, 0, 0, 0, 0, 0, 0, 0,\n",
       "       0, 0, 0, 0, 0, 0, 1, 1, 1, 1, 1, 1, 1, 1, 1, 1, 1, 1, 1, 1, 1, 1,\n",
       "       1, 1, 1, 1, 1, 1, 1, 1, 1, 1, 1, 1, 1, 1, 1, 1, 1, 1, 1, 1, 1, 1,\n",
       "       1, 1, 1, 1, 1, 1, 1, 1, 1, 1, 1, 1, 2, 2, 2, 2, 2, 2, 2, 2, 2, 2,\n",
       "       2, 2, 2, 2, 2, 2, 2, 2, 2, 2, 2, 2, 2, 2, 2, 2, 2, 2, 2, 2, 2, 2,\n",
       "       2, 2, 2, 2, 2, 2, 2, 2, 2, 2, 2, 2, 2, 2, 2, 2, 2, 2])"
      ]
     },
     "execution_count": 5,
     "metadata": {},
     "output_type": "execute_result"
    }
   ],
   "source": [
    "y"
   ]
  },
  {
   "cell_type": "markdown",
   "id": "67fd87a7",
   "metadata": {
    "papermill": {
     "duration": 0.010579,
     "end_time": "2024-05-15T09:04:47.273173",
     "exception": false,
     "start_time": "2024-05-15T09:04:47.262594",
     "status": "completed"
    },
    "tags": []
   },
   "source": [
    "# Model\n"
   ]
  },
  {
   "cell_type": "code",
   "execution_count": 6,
   "id": "f5de1d2c",
   "metadata": {
    "execution": {
     "iopub.execute_input": "2024-05-15T09:04:47.297207Z",
     "iopub.status.busy": "2024-05-15T09:04:47.296829Z",
     "iopub.status.idle": "2024-05-15T09:04:47.318831Z",
     "shell.execute_reply": "2024-05-15T09:04:47.317610Z"
    },
    "papermill": {
     "duration": 0.03705,
     "end_time": "2024-05-15T09:04:47.321161",
     "exception": false,
     "start_time": "2024-05-15T09:04:47.284111",
     "status": "completed"
    },
    "tags": []
   },
   "outputs": [],
   "source": [
    "class LogisticRegression:\n",
    "\n",
    "    def __init__(\n",
    "        self,\n",
    "        lr=0.1,\n",
    "        num_iter=1_000_000,\n",
    "        verbose=False,\n",
    "        multi_class=False,\n",
    "        least_squares=False,\n",
    "    ):\n",
    "        self.lr = lr\n",
    "        self.num_iter = num_iter\n",
    "        self.verbose = verbose\n",
    "        self.least_squares = least_squares\n",
    "        self.multi_class = multi_class\n",
    "        self.weights = None\n",
    "        self.bias = None\n",
    "        self.x = None\n",
    "        self.y = None\n",
    "        self.classes_ = None\n",
    "        self.m = None\n",
    "        self.n = None\n",
    "        self.losses = []\n",
    "        self.accuracies = []\n",
    "\n",
    "    def softmax(self, x):\n",
    "        e_x = np.exp(x - np.max(x, axis=1, keepdims=True))\n",
    "        return e_x / e_x.sum(axis=1, keepdims=True)\n",
    "\n",
    "    def gradient_descent(self):\n",
    "        y_hat = self.predict(self.x)\n",
    "        dw = (1 / self.m) * np.dot(self.x.T, (y_hat - self.y))\n",
    "        db = (1 / self.m) * np.sum(y_hat - self.y)\n",
    "        self.weights -= self.lr * dw\n",
    "        self.bias -= self.lr * db\n",
    "\n",
    "    def predict(self, x):\n",
    "        if self.least_squares:\n",
    "            x = np.c_[np.ones(x.shape[0]), x]\n",
    "            return np.dot(x, self.weights)\n",
    "        z = np.dot(x, self.weights) + self.bias\n",
    "        predication = 1.0 / (1.0 + np.exp(-z))\n",
    "        return self.softmax(predication) if self.multi_class else predication\n",
    "\n",
    "    def plot(self):\n",
    "        plt.plot(self.losses)\n",
    "        plt.plot(self.accuracies)\n",
    "        plt.xlabel(\"Number of iterations\")\n",
    "        plt.ylabel(\"Loss\")\n",
    "        plt.legend([\"Loss\", \"Accuracy\"])\n",
    "        plt.show()\n",
    "\n",
    "    def loss(self):\n",
    "        y_hat = self.predict(self.x)\n",
    "        self.losses.append(\n",
    "            -np.mean(\n",
    "                self.y * np.log(y_hat + sys.float_info.min)\n",
    "                + (1 - self.y) * np.log(1 - y_hat + sys.float_info.min)\n",
    "            )\n",
    "        )\n",
    "        return self.losses[-1]\n",
    "\n",
    "    def accuracy(self):\n",
    "        y_hat = self.predict(self.x)\n",
    "        acc = (\n",
    "            np.mean(y_hat.argmax(axis=1) == self.y.argmax(axis=1))\n",
    "            if self.multi_class\n",
    "            else np.mean(y_hat.round() == self.y)\n",
    "        )\n",
    "        self.accuracies.append(acc)\n",
    "\n",
    "    def fit(self, x, y):\n",
    "        self.x = x\n",
    "        self.y = y\n",
    "        if self.least_squares:\n",
    "            self.least_squares_technique()\n",
    "            return\n",
    "        best_loss = sys.float_info.max\n",
    "        patience = 10\n",
    "        self.m, self.n = x.shape\n",
    "        if self.multi_class:\n",
    "            self.classes_ = np.unique(self.y)\n",
    "            self.y = pd.get_dummies(self.y).to_numpy()\n",
    "            self.weights = (\n",
    "                np.random.rand(self.n, len(self.classes_))\n",
    "                if self.weights is None\n",
    "                else self.weights\n",
    "            )\n",
    "            self.bias = (\n",
    "                np.random.rand(len(self.classes_)) if self.bias is None else self.bias\n",
    "            )\n",
    "        else:\n",
    "            self.weights = (\n",
    "                np.random.rand(self.n) if self.weights is None else self.weights\n",
    "            )\n",
    "            self.bias = np.random.rand() if self.bias is None else self.bias\n",
    "        for _ in range(self.num_iter):\n",
    "            self.gradient_descent()\n",
    "            self.loss()\n",
    "            self.accuracy()\n",
    "\n",
    "            if self.losses[-1] < best_loss:\n",
    "                best_loss = self.losses[-1]\n",
    "                patience = 10\n",
    "            else:\n",
    "                patience -= 1\n",
    "                if patience == 0:\n",
    "                    break\n",
    "                \n",
    "            if self.verbose:\n",
    "                print(f\"\\tLoss: {self.losses[-1]}\")\n",
    "                print(f\"\\tAccuracy: {self.accuracies[-1]}\")\n",
    "        print(f\"\\nFinal Loss: {self.losses[-1]}\")\n",
    "        print(f\"Final Accuracy: {self.accuracies[-1]}\")\n",
    "\n",
    "    def eval(self, x, y):\n",
    "        self.x = x\n",
    "        self.y = y\n",
    "        if self.multi_class:\n",
    "            self.y = pd.get_dummies(self.y).to_numpy()\n",
    "        self.accuracy()\n",
    "        print(f\"Accuracy: {self.accuracies[-1]}\")\n",
    "\n",
    "    def least_squares_technique(self):\n",
    "        self.x = np.c_[np.ones(self.x.shape[0]), self.x]\n",
    "        self.weights = np.dot(\n",
    "            np.dot(np.linalg.inv(np.dot(self.x.T, self.x)), self.x.T), self.y\n",
    "        )"
   ]
  },
  {
   "cell_type": "code",
   "execution_count": 7,
   "id": "e7079b4a",
   "metadata": {
    "execution": {
     "iopub.execute_input": "2024-05-15T09:04:47.345803Z",
     "iopub.status.busy": "2024-05-15T09:04:47.344998Z",
     "iopub.status.idle": "2024-05-15T09:04:47.351697Z",
     "shell.execute_reply": "2024-05-15T09:04:47.350652Z"
    },
    "papermill": {
     "duration": 0.021076,
     "end_time": "2024-05-15T09:04:47.353941",
     "exception": false,
     "start_time": "2024-05-15T09:04:47.332865",
     "status": "completed"
    },
    "tags": []
   },
   "outputs": [
    {
     "data": {
      "text/plain": [
       "array([0, 1, 2])"
      ]
     },
     "execution_count": 7,
     "metadata": {},
     "output_type": "execute_result"
    }
   ],
   "source": [
    "np.unique(y)"
   ]
  },
  {
   "cell_type": "code",
   "execution_count": 8,
   "id": "818b5378",
   "metadata": {
    "execution": {
     "iopub.execute_input": "2024-05-15T09:04:47.377986Z",
     "iopub.status.busy": "2024-05-15T09:04:47.377179Z",
     "iopub.status.idle": "2024-05-15T09:04:47.383537Z",
     "shell.execute_reply": "2024-05-15T09:04:47.382554Z"
    },
    "papermill": {
     "duration": 0.020646,
     "end_time": "2024-05-15T09:04:47.385662",
     "exception": false,
     "start_time": "2024-05-15T09:04:47.365016",
     "status": "completed"
    },
    "tags": []
   },
   "outputs": [
    {
     "data": {
      "text/plain": [
       "(150,)"
      ]
     },
     "execution_count": 8,
     "metadata": {},
     "output_type": "execute_result"
    }
   ],
   "source": [
    "y.shape"
   ]
  },
  {
   "cell_type": "markdown",
   "id": "01a106ee",
   "metadata": {
    "papermill": {
     "duration": 0.011001,
     "end_time": "2024-05-15T09:04:47.407913",
     "exception": false,
     "start_time": "2024-05-15T09:04:47.396912",
     "status": "completed"
    },
    "tags": []
   },
   "source": [
    "# With Least Squares Technique"
   ]
  },
  {
   "cell_type": "markdown",
   "id": "eae79a60",
   "metadata": {
    "papermill": {
     "duration": 0.010898,
     "end_time": "2024-05-15T09:04:47.430050",
     "exception": false,
     "start_time": "2024-05-15T09:04:47.419152",
     "status": "completed"
    },
    "tags": []
   },
   "source": [
    "# Group samples of class 2 and class 3 together to form new class"
   ]
  },
  {
   "cell_type": "code",
   "execution_count": 9,
   "id": "22e1ddf1",
   "metadata": {
    "execution": {
     "iopub.execute_input": "2024-05-15T09:04:47.454464Z",
     "iopub.status.busy": "2024-05-15T09:04:47.453654Z",
     "iopub.status.idle": "2024-05-15T09:04:47.465927Z",
     "shell.execute_reply": "2024-05-15T09:04:47.464974Z"
    },
    "papermill": {
     "duration": 0.027002,
     "end_time": "2024-05-15T09:04:47.468262",
     "exception": false,
     "start_time": "2024-05-15T09:04:47.441260",
     "status": "completed"
    },
    "tags": []
   },
   "outputs": [],
   "source": [
    "Y_train = np.where(y == 2, 1, y)\n",
    "\n",
    "X_train_class1, X_test_class1, Y_train_class1, Y_test_class1 = train_test_split(\n",
    "    x[Y_train == 0], Y_train[Y_train == 0], test_size=0.2, random_state=42\n",
    ")\n",
    "X_train_class2, X_test_class2, Y_train_class2, Y_test_class2 = train_test_split(\n",
    "    x[Y_train == 1], Y_train[Y_train == 1], test_size=0.2, random_state=42\n",
    ")\n",
    "\n",
    "X_train = np.concatenate((X_train_class1, X_train_class2), axis=0)\n",
    "X_test = np.concatenate((X_test_class1, X_test_class2), axis=0)\n",
    "Y_train = np.concatenate((Y_train_class1, Y_train_class2), axis=0)\n",
    "Y_test = np.concatenate((Y_test_class1, Y_test_class2), axis=0)"
   ]
  },
  {
   "cell_type": "code",
   "execution_count": 10,
   "id": "5b1476a8",
   "metadata": {
    "execution": {
     "iopub.execute_input": "2024-05-15T09:04:47.493625Z",
     "iopub.status.busy": "2024-05-15T09:04:47.492601Z",
     "iopub.status.idle": "2024-05-15T09:04:47.500329Z",
     "shell.execute_reply": "2024-05-15T09:04:47.499194Z"
    },
    "papermill": {
     "duration": 0.022534,
     "end_time": "2024-05-15T09:04:47.502654",
     "exception": false,
     "start_time": "2024-05-15T09:04:47.480120",
     "status": "completed"
    },
    "tags": []
   },
   "outputs": [
    {
     "data": {
      "text/plain": [
       "(array([0, 1]), (40, 4), (10, 4), (80, 4), (20, 4))"
      ]
     },
     "execution_count": 10,
     "metadata": {},
     "output_type": "execute_result"
    }
   ],
   "source": [
    "np.unique(Y_train), X_train_class1.shape, X_test_class1.shape, X_train_class2.shape, X_test_class2.shape"
   ]
  },
  {
   "cell_type": "code",
   "execution_count": 11,
   "id": "689738b9",
   "metadata": {
    "execution": {
     "iopub.execute_input": "2024-05-15T09:04:47.527254Z",
     "iopub.status.busy": "2024-05-15T09:04:47.526511Z",
     "iopub.status.idle": "2024-05-15T09:04:47.531396Z",
     "shell.execute_reply": "2024-05-15T09:04:47.530353Z"
    },
    "papermill": {
     "duration": 0.019633,
     "end_time": "2024-05-15T09:04:47.533674",
     "exception": false,
     "start_time": "2024-05-15T09:04:47.514041",
     "status": "completed"
    },
    "tags": []
   },
   "outputs": [],
   "source": [
    "model = LogisticRegression(least_squares=True)"
   ]
  },
  {
   "cell_type": "code",
   "execution_count": 12,
   "id": "dd12dab9",
   "metadata": {
    "execution": {
     "iopub.execute_input": "2024-05-15T09:04:47.558958Z",
     "iopub.status.busy": "2024-05-15T09:04:47.557982Z",
     "iopub.status.idle": "2024-05-15T09:04:47.568392Z",
     "shell.execute_reply": "2024-05-15T09:04:47.567108Z"
    },
    "papermill": {
     "duration": 0.026826,
     "end_time": "2024-05-15T09:04:47.572009",
     "exception": false,
     "start_time": "2024-05-15T09:04:47.545183",
     "status": "completed"
    },
    "tags": []
   },
   "outputs": [],
   "source": [
    "model.fit(X_train, Y_train)"
   ]
  },
  {
   "cell_type": "code",
   "execution_count": 13,
   "id": "ee078d3b",
   "metadata": {
    "execution": {
     "iopub.execute_input": "2024-05-15T09:04:47.612858Z",
     "iopub.status.busy": "2024-05-15T09:04:47.612250Z",
     "iopub.status.idle": "2024-05-15T09:04:47.620490Z",
     "shell.execute_reply": "2024-05-15T09:04:47.619094Z"
    },
    "papermill": {
     "duration": 0.032733,
     "end_time": "2024-05-15T09:04:47.624187",
     "exception": false,
     "start_time": "2024-05-15T09:04:47.591454",
     "status": "completed"
    },
    "tags": []
   },
   "outputs": [
    {
     "name": "stdout",
     "output_type": "stream",
     "text": [
      "Accuracy: 1.0\n"
     ]
    }
   ],
   "source": [
    "model.eval(X_test, Y_test)"
   ]
  },
  {
   "cell_type": "code",
   "execution_count": 14,
   "id": "ed37ac68",
   "metadata": {
    "execution": {
     "iopub.execute_input": "2024-05-15T09:04:47.666402Z",
     "iopub.status.busy": "2024-05-15T09:04:47.665845Z",
     "iopub.status.idle": "2024-05-15T09:04:47.672084Z",
     "shell.execute_reply": "2024-05-15T09:04:47.670803Z"
    },
    "papermill": {
     "duration": 0.033429,
     "end_time": "2024-05-15T09:04:47.677922",
     "exception": false,
     "start_time": "2024-05-15T09:04:47.644493",
     "status": "completed"
    },
    "tags": []
   },
   "outputs": [],
   "source": [
    "Y_pred = model.predict(X_test)"
   ]
  },
  {
   "cell_type": "code",
   "execution_count": 15,
   "id": "2fff094f",
   "metadata": {
    "execution": {
     "iopub.execute_input": "2024-05-15T09:04:47.707655Z",
     "iopub.status.busy": "2024-05-15T09:04:47.706618Z",
     "iopub.status.idle": "2024-05-15T09:04:48.096955Z",
     "shell.execute_reply": "2024-05-15T09:04:48.095852Z"
    },
    "papermill": {
     "duration": 0.405798,
     "end_time": "2024-05-15T09:04:48.099412",
     "exception": false,
     "start_time": "2024-05-15T09:04:47.693614",
     "status": "completed"
    },
    "tags": []
   },
   "outputs": [
    {
     "data": {
      "image/png": "[encoded data removed]",
      "text/plain": [
       "<Figure size 640x480 with 2 Axes>"
      ]
     },
     "metadata": {},
     "output_type": "display_data"
    }
   ],
   "source": [
    "confusion_matrix(Y_test, Y_pred.round())\n",
    "plt.imshow(confusion_matrix(Y_test, Y_pred.round()), cmap=\"binary\", interpolation=\"None\")\n",
    "plt.title(\"Confusion Matrix\")\n",
    "plt.xlabel(\"Predicted\")\n",
    "plt.ylabel(\"Actual\")\n",
    "plt.xticks([0, 1])\n",
    "plt.yticks([0, 1])\n",
    "plt.colorbar()\n",
    "plt.show()"
   ]
  },
  {
   "cell_type": "markdown",
   "id": "1b018829",
   "metadata": {
    "papermill": {
     "duration": 0.011809,
     "end_time": "2024-05-15T09:04:48.123481",
     "exception": false,
     "start_time": "2024-05-15T09:04:48.111672",
     "status": "completed"
    },
    "tags": []
   },
   "source": [
    "# Group samples of class 1 and class 3 together to form new class"
   ]
  },
  {
   "cell_type": "code",
   "execution_count": 16,
   "id": "3df098b5",
   "metadata": {
    "execution": {
     "iopub.execute_input": "2024-05-15T09:04:48.150106Z",
     "iopub.status.busy": "2024-05-15T09:04:48.149349Z",
     "iopub.status.idle": "2024-05-15T09:04:48.159234Z",
     "shell.execute_reply": "2024-05-15T09:04:48.158332Z"
    },
    "papermill": {
     "duration": 0.025658,
     "end_time": "2024-05-15T09:04:48.161589",
     "exception": false,
     "start_time": "2024-05-15T09:04:48.135931",
     "status": "completed"
    },
    "tags": []
   },
   "outputs": [],
   "source": [
    "Y_train = np.where(y == 2, 0, y)\n",
    "\n",
    "X_train_class1, X_test_class1, Y_train_class1, Y_test_class1 = train_test_split(\n",
    "    x[Y_train == 0], Y_train[Y_train == 0], test_size=0.2, random_state=42\n",
    ")\n",
    "X_train_class2, X_test_class2, Y_train_class2, Y_test_class2 = train_test_split(\n",
    "    x[Y_train == 1], Y_train[Y_train == 1], test_size=0.2, random_state=42\n",
    ")\n",
    "\n",
    "X_train = np.concatenate((X_train_class1, X_train_class2), axis=0)\n",
    "X_test = np.concatenate((X_test_class1, X_test_class2), axis=0)\n",
    "Y_train = np.concatenate((Y_train_class1, Y_train_class2), axis=0)\n",
    "Y_test = np.concatenate((Y_test_class1, Y_test_class2), axis=0)"
   ]
  },
  {
   "cell_type": "code",
   "execution_count": 17,
   "id": "55b4204f",
   "metadata": {
    "execution": {
     "iopub.execute_input": "2024-05-15T09:04:48.187993Z",
     "iopub.status.busy": "2024-05-15T09:04:48.187262Z",
     "iopub.status.idle": "2024-05-15T09:04:48.194896Z",
     "shell.execute_reply": "2024-05-15T09:04:48.193842Z"
    },
    "papermill": {
     "duration": 0.023233,
     "end_time": "2024-05-15T09:04:48.197042",
     "exception": false,
     "start_time": "2024-05-15T09:04:48.173809",
     "status": "completed"
    },
    "tags": []
   },
   "outputs": [
    {
     "data": {
      "text/plain": [
       "(array([0, 1]), (80, 4), (20, 4), (40, 4), (10, 4))"
      ]
     },
     "execution_count": 17,
     "metadata": {},
     "output_type": "execute_result"
    }
   ],
   "source": [
    "np.unique(Y_train), X_train_class1.shape, X_test_class1.shape, X_train_class2.shape, X_test_class2.shape"
   ]
  },
  {
   "cell_type": "code",
   "execution_count": 18,
   "id": "b6baeca9",
   "metadata": {
    "execution": {
     "iopub.execute_input": "2024-05-15T09:04:48.283113Z",
     "iopub.status.busy": "2024-05-15T09:04:48.282259Z",
     "iopub.status.idle": "2024-05-15T09:04:48.287374Z",
     "shell.execute_reply": "2024-05-15T09:04:48.286293Z"
    },
    "papermill": {
     "duration": 0.08026,
     "end_time": "2024-05-15T09:04:48.289635",
     "exception": false,
     "start_time": "2024-05-15T09:04:48.209375",
     "status": "completed"
    },
    "tags": []
   },
   "outputs": [],
   "source": [
    "model = LogisticRegression(least_squares=True)"
   ]
  },
  {
   "cell_type": "code",
   "execution_count": 19,
   "id": "b0c1d9fc",
   "metadata": {
    "execution": {
     "iopub.execute_input": "2024-05-15T09:04:48.316246Z",
     "iopub.status.busy": "2024-05-15T09:04:48.315598Z",
     "iopub.status.idle": "2024-05-15T09:04:48.322468Z",
     "shell.execute_reply": "2024-05-15T09:04:48.321272Z"
    },
    "papermill": {
     "duration": 0.026778,
     "end_time": "2024-05-15T09:04:48.328869",
     "exception": false,
     "start_time": "2024-05-15T09:04:48.302091",
     "status": "completed"
    },
    "tags": []
   },
   "outputs": [],
   "source": [
    "model.fit(X_train, Y_train)"
   ]
  },
  {
   "cell_type": "code",
   "execution_count": 20,
   "id": "3cc51951",
   "metadata": {
    "execution": {
     "iopub.execute_input": "2024-05-15T09:04:48.377472Z",
     "iopub.status.busy": "2024-05-15T09:04:48.375916Z",
     "iopub.status.idle": "2024-05-15T09:04:48.383699Z",
     "shell.execute_reply": "2024-05-15T09:04:48.382487Z"
    },
    "papermill": {
     "duration": 0.033731,
     "end_time": "2024-05-15T09:04:48.386996",
     "exception": false,
     "start_time": "2024-05-15T09:04:48.353265",
     "status": "completed"
    },
    "tags": []
   },
   "outputs": [
    {
     "name": "stdout",
     "output_type": "stream",
     "text": [
      "Accuracy: 0.8\n"
     ]
    }
   ],
   "source": [
    "model.eval(X_test, Y_test)"
   ]
  },
  {
   "cell_type": "code",
   "execution_count": 21,
   "id": "22153a42",
   "metadata": {
    "execution": {
     "iopub.execute_input": "2024-05-15T09:04:48.431702Z",
     "iopub.status.busy": "2024-05-15T09:04:48.431120Z",
     "iopub.status.idle": "2024-05-15T09:04:48.437737Z",
     "shell.execute_reply": "2024-05-15T09:04:48.436384Z"
    },
    "papermill": {
     "duration": 0.032431,
     "end_time": "2024-05-15T09:04:48.440658",
     "exception": false,
     "start_time": "2024-05-15T09:04:48.408227",
     "status": "completed"
    },
    "tags": []
   },
   "outputs": [],
   "source": [
    "Y_pred = model.predict(X_test)"
   ]
  },
  {
   "cell_type": "code",
   "execution_count": 22,
   "id": "fab251e6",
   "metadata": {
    "execution": {
     "iopub.execute_input": "2024-05-15T09:04:48.467771Z",
     "iopub.status.busy": "2024-05-15T09:04:48.467347Z",
     "iopub.status.idle": "2024-05-15T09:04:48.699669Z",
     "shell.execute_reply": "2024-05-15T09:04:48.698578Z"
    },
    "papermill": {
     "duration": 0.248731,
     "end_time": "2024-05-15T09:04:48.702062",
     "exception": false,
     "start_time": "2024-05-15T09:04:48.453331",
     "status": "completed"
    },
    "tags": []
   },
   "outputs": [
    {
     "data": {
      "image/png": "[encoded data removed]",
      "text/plain": [
       "<Figure size 640x480 with 2 Axes>"
      ]
     },
     "metadata": {},
     "output_type": "display_data"
    }
   ],
   "source": [
    "confusion_matrix(Y_test, Y_pred.round())\n",
    "plt.imshow(confusion_matrix(Y_test, Y_pred.round()), cmap=\"binary\", interpolation=\"None\")\n",
    "plt.title(\"Confusion Matrix\")\n",
    "plt.xlabel(\"Predicted\")\n",
    "plt.ylabel(\"Actual\")\n",
    "plt.xticks([0, 1])\n",
    "plt.yticks([0, 1])\n",
    "plt.colorbar()\n",
    "plt.show()"
   ]
  },
  {
   "cell_type": "markdown",
   "id": "bc9f5ce6",
   "metadata": {
    "papermill": {
     "duration": 0.012631,
     "end_time": "2024-05-15T09:04:48.727639",
     "exception": false,
     "start_time": "2024-05-15T09:04:48.715008",
     "status": "completed"
    },
    "tags": []
   },
   "source": [
    "# Group samples of class 1 and class 2 together to form new class"
   ]
  },
  {
   "cell_type": "code",
   "execution_count": 23,
   "id": "4f69f6a5",
   "metadata": {
    "execution": {
     "iopub.execute_input": "2024-05-15T09:04:48.755754Z",
     "iopub.status.busy": "2024-05-15T09:04:48.754808Z",
     "iopub.status.idle": "2024-05-15T09:04:48.763980Z",
     "shell.execute_reply": "2024-05-15T09:04:48.763086Z"
    },
    "papermill": {
     "duration": 0.025873,
     "end_time": "2024-05-15T09:04:48.766365",
     "exception": false,
     "start_time": "2024-05-15T09:04:48.740492",
     "status": "completed"
    },
    "tags": []
   },
   "outputs": [],
   "source": [
    "Y_train = np.where(y == 1, 0, y)\n",
    "Y_train = np.where(y == 2, 1, Y_train)\n",
    "\n",
    "X_train_class1, X_test_class1, Y_train_class1, Y_test_class1 = train_test_split(\n",
    "    x[Y_train == 0], Y_train[Y_train == 0], test_size=0.2, random_state=42\n",
    ")\n",
    "X_train_class2, X_test_class2, Y_train_class2, Y_test_class2 = train_test_split(\n",
    "    x[Y_train == 1], Y_train[Y_train == 1], test_size=0.2, random_state=42\n",
    ")\n",
    "\n",
    "X_train = np.concatenate((X_train_class1, X_train_class2), axis=0)\n",
    "X_test = np.concatenate((X_test_class1, X_test_class2), axis=0)\n",
    "Y_train = np.concatenate((Y_train_class1, Y_train_class2), axis=0)\n",
    "Y_test = np.concatenate((Y_test_class1, Y_test_class2), axis=0)"
   ]
  },
  {
   "cell_type": "code",
   "execution_count": 24,
   "id": "2875f6c0",
   "metadata": {
    "execution": {
     "iopub.execute_input": "2024-05-15T09:04:48.795127Z",
     "iopub.status.busy": "2024-05-15T09:04:48.794709Z",
     "iopub.status.idle": "2024-05-15T09:04:48.802344Z",
     "shell.execute_reply": "2024-05-15T09:04:48.801301Z"
    },
    "papermill": {
     "duration": 0.024824,
     "end_time": "2024-05-15T09:04:48.804542",
     "exception": false,
     "start_time": "2024-05-15T09:04:48.779718",
     "status": "completed"
    },
    "tags": []
   },
   "outputs": [
    {
     "data": {
      "text/plain": [
       "(array([0, 1]), (80, 4), (20, 4), (40, 4), (10, 4))"
      ]
     },
     "execution_count": 24,
     "metadata": {},
     "output_type": "execute_result"
    }
   ],
   "source": [
    "np.unique(Y_train), X_train_class1.shape, X_test_class1.shape, X_train_class2.shape, X_test_class2.shape"
   ]
  },
  {
   "cell_type": "code",
   "execution_count": 25,
   "id": "569d91dc",
   "metadata": {
    "execution": {
     "iopub.execute_input": "2024-05-15T09:04:48.833029Z",
     "iopub.status.busy": "2024-05-15T09:04:48.832062Z",
     "iopub.status.idle": "2024-05-15T09:04:48.836891Z",
     "shell.execute_reply": "2024-05-15T09:04:48.835884Z"
    },
    "papermill": {
     "duration": 0.021457,
     "end_time": "2024-05-15T09:04:48.839158",
     "exception": false,
     "start_time": "2024-05-15T09:04:48.817701",
     "status": "completed"
    },
    "tags": []
   },
   "outputs": [],
   "source": [
    "model = LogisticRegression(least_squares=True)"
   ]
  },
  {
   "cell_type": "code",
   "execution_count": 26,
   "id": "540684f7",
   "metadata": {
    "execution": {
     "iopub.execute_input": "2024-05-15T09:04:48.867241Z",
     "iopub.status.busy": "2024-05-15T09:04:48.866837Z",
     "iopub.status.idle": "2024-05-15T09:04:48.877153Z",
     "shell.execute_reply": "2024-05-15T09:04:48.875610Z"
    },
    "papermill": {
     "duration": 0.028261,
     "end_time": "2024-05-15T09:04:48.880610",
     "exception": false,
     "start_time": "2024-05-15T09:04:48.852349",
     "status": "completed"
    },
    "tags": []
   },
   "outputs": [],
   "source": [
    "model.fit(X_train, Y_train)"
   ]
  },
  {
   "cell_type": "code",
   "execution_count": 27,
   "id": "5936fd18",
   "metadata": {
    "execution": {
     "iopub.execute_input": "2024-05-15T09:04:48.926425Z",
     "iopub.status.busy": "2024-05-15T09:04:48.925849Z",
     "iopub.status.idle": "2024-05-15T09:04:48.933716Z",
     "shell.execute_reply": "2024-05-15T09:04:48.932411Z"
    },
    "papermill": {
     "duration": 0.034078,
     "end_time": "2024-05-15T09:04:48.936667",
     "exception": false,
     "start_time": "2024-05-15T09:04:48.902589",
     "status": "completed"
    },
    "tags": []
   },
   "outputs": [
    {
     "name": "stdout",
     "output_type": "stream",
     "text": [
      "Accuracy: 0.9\n"
     ]
    }
   ],
   "source": [
    "model.eval(X_test, Y_test)"
   ]
  },
  {
   "cell_type": "code",
   "execution_count": 28,
   "id": "28170540",
   "metadata": {
    "execution": {
     "iopub.execute_input": "2024-05-15T09:04:48.983610Z",
     "iopub.status.busy": "2024-05-15T09:04:48.982966Z",
     "iopub.status.idle": "2024-05-15T09:04:48.989308Z",
     "shell.execute_reply": "2024-05-15T09:04:48.988102Z"
    },
    "papermill": {
     "duration": 0.033564,
     "end_time": "2024-05-15T09:04:48.992562",
     "exception": false,
     "start_time": "2024-05-15T09:04:48.958998",
     "status": "completed"
    },
    "tags": []
   },
   "outputs": [],
   "source": [
    "Y_pred = model.predict(X_test)"
   ]
  },
  {
   "cell_type": "code",
   "execution_count": 29,
   "id": "364d54b9",
   "metadata": {
    "execution": {
     "iopub.execute_input": "2024-05-15T09:04:49.021805Z",
     "iopub.status.busy": "2024-05-15T09:04:49.020991Z",
     "iopub.status.idle": "2024-05-15T09:04:49.297042Z",
     "shell.execute_reply": "2024-05-15T09:04:49.295993Z"
    },
    "papermill": {
     "duration": 0.293313,
     "end_time": "2024-05-15T09:04:49.299379",
     "exception": false,
     "start_time": "2024-05-15T09:04:49.006066",
     "status": "completed"
    },
    "tags": []
   },
   "outputs": [
    {
     "data": {
      "image/png": "[encoded data removed]",
      "text/plain": [
       "<Figure size 640x480 with 2 Axes>"
      ]
     },
     "metadata": {},
     "output_type": "display_data"
    }
   ],
   "source": [
    "confusion_matrix(Y_test, Y_pred.round())\n",
    "plt.imshow(confusion_matrix(Y_test, Y_pred.round()), cmap=\"binary\")\n",
    "plt.title(\"Confusion Matrix\")\n",
    "plt.xlabel(\"Predicted\")\n",
    "plt.ylabel(\"Actual\")\n",
    "plt.xticks([0, 1])\n",
    "plt.yticks([0, 1])\n",
    "plt.colorbar()\n",
    "plt.show()"
   ]
  },
  {
   "cell_type": "markdown",
   "id": "28b0b471",
   "metadata": {
    "papermill": {
     "duration": 0.013417,
     "end_time": "2024-05-15T09:04:49.326849",
     "exception": false,
     "start_time": "2024-05-15T09:04:49.313432",
     "status": "completed"
    },
    "tags": []
   },
   "source": [
    "# With Gradient Descent"
   ]
  },
  {
   "cell_type": "code",
   "execution_count": 30,
   "id": "1d894260",
   "metadata": {
    "execution": {
     "iopub.execute_input": "2024-05-15T09:04:49.356773Z",
     "iopub.status.busy": "2024-05-15T09:04:49.356005Z",
     "iopub.status.idle": "2024-05-15T09:04:49.361928Z",
     "shell.execute_reply": "2024-05-15T09:04:49.360834Z"
    },
    "papermill": {
     "duration": 0.023115,
     "end_time": "2024-05-15T09:04:49.364138",
     "exception": false,
     "start_time": "2024-05-15T09:04:49.341023",
     "status": "completed"
    },
    "tags": []
   },
   "outputs": [],
   "source": [
    "x_train, x_test, y_train, y_test = train_test_split(\n",
    "    x, y, test_size=0.3, random_state=42\n",
    ")"
   ]
  },
  {
   "cell_type": "code",
   "execution_count": 31,
   "id": "3535b30c",
   "metadata": {
    "execution": {
     "iopub.execute_input": "2024-05-15T09:04:49.393895Z",
     "iopub.status.busy": "2024-05-15T09:04:49.393193Z",
     "iopub.status.idle": "2024-05-15T09:04:49.398289Z",
     "shell.execute_reply": "2024-05-15T09:04:49.397162Z"
    },
    "papermill": {
     "duration": 0.022503,
     "end_time": "2024-05-15T09:04:49.400471",
     "exception": false,
     "start_time": "2024-05-15T09:04:49.377968",
     "status": "completed"
    },
    "tags": []
   },
   "outputs": [],
   "source": [
    "model = LogisticRegression(multi_class=True)"
   ]
  },
  {
   "cell_type": "markdown",
   "id": "9e862843",
   "metadata": {
    "papermill": {
     "duration": 0.01356,
     "end_time": "2024-05-15T09:04:49.428149",
     "exception": false,
     "start_time": "2024-05-15T09:04:49.414589",
     "status": "completed"
    },
    "tags": []
   },
   "source": [
    "# Standardization\n"
   ]
  },
  {
   "cell_type": "code",
   "execution_count": 32,
   "id": "fb81ad6d",
   "metadata": {
    "execution": {
     "iopub.execute_input": "2024-05-15T09:04:49.458784Z",
     "iopub.status.busy": "2024-05-15T09:04:49.457705Z",
     "iopub.status.idle": "2024-05-15T09:04:49.463370Z",
     "shell.execute_reply": "2024-05-15T09:04:49.462367Z"
    },
    "papermill": {
     "duration": 0.023404,
     "end_time": "2024-05-15T09:04:49.465507",
     "exception": false,
     "start_time": "2024-05-15T09:04:49.442103",
     "status": "completed"
    },
    "tags": []
   },
   "outputs": [],
   "source": [
    "x_train = (x_train - x_train.mean()) / x_train.std()\n",
    "x_test = (x_test - x_test.mean()) / x_test.std()"
   ]
  },
  {
   "cell_type": "markdown",
   "id": "6bfd1423",
   "metadata": {
    "papermill": {
     "duration": 0.013578,
     "end_time": "2024-05-15T09:04:49.493195",
     "exception": false,
     "start_time": "2024-05-15T09:04:49.479617",
     "status": "completed"
    },
    "tags": []
   },
   "source": [
    "# Train\n"
   ]
  },
  {
   "cell_type": "code",
   "execution_count": 33,
   "id": "4ed5a2fa",
   "metadata": {
    "execution": {
     "iopub.execute_input": "2024-05-15T09:04:49.523247Z",
     "iopub.status.busy": "2024-05-15T09:04:49.522423Z",
     "iopub.status.idle": "2024-05-15T09:04:53.515796Z",
     "shell.execute_reply": "2024-05-15T09:04:53.514613Z"
    },
    "papermill": {
     "duration": 4.011264,
     "end_time": "2024-05-15T09:04:53.518417",
     "exception": false,
     "start_time": "2024-05-15T09:04:49.507153",
     "status": "completed"
    },
    "tags": []
   },
   "outputs": [
    {
     "name": "stderr",
     "output_type": "stream",
     "text": [
      "/tmp/ipykernel_18/2022181573.py:42: RuntimeWarning: overflow encountered in exp\n",
      "  predication = 1.0 / (1.0 + np.exp(-z))\n"
     ]
    },
    {
     "name": "stdout",
     "output_type": "stream",
     "text": [
      "\n",
      "Final Loss: 0.47071610434586925\n",
      "Final Accuracy: 0.6666666666666666\n"
     ]
    }
   ],
   "source": [
    "model.fit(x_train, y_train)"
   ]
  },
  {
   "cell_type": "code",
   "execution_count": 34,
   "id": "a57b51d3",
   "metadata": {
    "execution": {
     "iopub.execute_input": "2024-05-15T09:04:53.548612Z",
     "iopub.status.busy": "2024-05-15T09:04:53.548186Z",
     "iopub.status.idle": "2024-05-15T09:04:53.827474Z",
     "shell.execute_reply": "2024-05-15T09:04:53.826336Z"
    },
    "papermill": {
     "duration": 0.297241,
     "end_time": "2024-05-15T09:04:53.829949",
     "exception": false,
     "start_time": "2024-05-15T09:04:53.532708",
     "status": "completed"
    },
    "tags": []
   },
   "outputs": [
    {
     "data": {
      "image/png": "[encoded data removed]",
      "text/plain": [
       "<Figure size 640x480 with 1 Axes>"
      ]
     },
     "metadata": {},
     "output_type": "display_data"
    }
   ],
   "source": [
    "model.plot()"
   ]
  },
  {
   "cell_type": "code",
   "execution_count": 35,
   "id": "14d0cc21",
   "metadata": {
    "execution": {
     "iopub.execute_input": "2024-05-15T09:04:53.861665Z",
     "iopub.status.busy": "2024-05-15T09:04:53.860870Z",
     "iopub.status.idle": "2024-05-15T09:04:53.868453Z",
     "shell.execute_reply": "2024-05-15T09:04:53.867444Z"
    },
    "papermill": {
     "duration": 0.026969,
     "end_time": "2024-05-15T09:04:53.871671",
     "exception": false,
     "start_time": "2024-05-15T09:04:53.844702",
     "status": "completed"
    },
    "tags": []
   },
   "outputs": [
    {
     "name": "stdout",
     "output_type": "stream",
     "text": [
      "Accuracy: 0.7111111111111111\n"
     ]
    },
    {
     "name": "stderr",
     "output_type": "stream",
     "text": [
      "/tmp/ipykernel_18/2022181573.py:42: RuntimeWarning: overflow encountered in exp\n",
      "  predication = 1.0 / (1.0 + np.exp(-z))\n"
     ]
    }
   ],
   "source": [
    "model.eval(x_test, y_test)"
   ]
  },
  {
   "cell_type": "markdown",
   "id": "de0e2fc6",
   "metadata": {
    "papermill": {
     "duration": 0.014334,
     "end_time": "2024-05-15T09:04:53.900626",
     "exception": false,
     "start_time": "2024-05-15T09:04:53.886292",
     "status": "completed"
    },
    "tags": []
   },
   "source": [
    "# Group samples of class 2 and class 3 together to form new class"
   ]
  },
  {
   "cell_type": "code",
   "execution_count": 36,
   "id": "69117f6f",
   "metadata": {
    "execution": {
     "iopub.execute_input": "2024-05-15T09:04:53.931960Z",
     "iopub.status.busy": "2024-05-15T09:04:53.931507Z",
     "iopub.status.idle": "2024-05-15T09:04:53.940908Z",
     "shell.execute_reply": "2024-05-15T09:04:53.939972Z"
    },
    "papermill": {
     "duration": 0.027827,
     "end_time": "2024-05-15T09:04:53.943118",
     "exception": false,
     "start_time": "2024-05-15T09:04:53.915291",
     "status": "completed"
    },
    "tags": []
   },
   "outputs": [],
   "source": [
    "Y_train = np.where(y == 2, 1, y)\n",
    "\n",
    "X_train_class1, X_test_class1, Y_train_class1, Y_test_class1 = train_test_split(\n",
    "    x[Y_train == 0], Y_train[Y_train == 0], test_size=0.2, random_state=42\n",
    ")\n",
    "X_train_class2, X_test_class2, Y_train_class2, Y_test_class2 = train_test_split(\n",
    "    x[Y_train == 1], Y_train[Y_train == 1], test_size=0.2, random_state=42\n",
    ")\n",
    "\n",
    "X_train = np.concatenate((X_train_class1, X_train_class2), axis=0)\n",
    "X_test = np.concatenate((X_test_class1, X_test_class2), axis=0)\n",
    "Y_train = np.concatenate((Y_train_class1, Y_train_class2), axis=0)\n",
    "Y_test = np.concatenate((Y_test_class1, Y_test_class2), axis=0)"
   ]
  },
  {
   "cell_type": "code",
   "execution_count": 37,
   "id": "5d08ba47",
   "metadata": {
    "execution": {
     "iopub.execute_input": "2024-05-15T09:04:53.974776Z",
     "iopub.status.busy": "2024-05-15T09:04:53.974359Z",
     "iopub.status.idle": "2024-05-15T09:04:53.979608Z",
     "shell.execute_reply": "2024-05-15T09:04:53.978581Z"
    },
    "papermill": {
     "duration": 0.023766,
     "end_time": "2024-05-15T09:04:53.981867",
     "exception": false,
     "start_time": "2024-05-15T09:04:53.958101",
     "status": "completed"
    },
    "tags": []
   },
   "outputs": [],
   "source": [
    "model = LogisticRegression()"
   ]
  },
  {
   "cell_type": "code",
   "execution_count": 38,
   "id": "5a04f427",
   "metadata": {
    "execution": {
     "iopub.execute_input": "2024-05-15T09:04:54.013879Z",
     "iopub.status.busy": "2024-05-15T09:04:54.012929Z",
     "iopub.status.idle": "2024-05-15T09:06:15.110004Z",
     "shell.execute_reply": "2024-05-15T09:06:15.108845Z"
    },
    "papermill": {
     "duration": 81.129928,
     "end_time": "2024-05-15T09:06:15.126706",
     "exception": false,
     "start_time": "2024-05-15T09:04:53.996778",
     "status": "completed"
    },
    "tags": []
   },
   "outputs": [
    {
     "name": "stdout",
     "output_type": "stream",
     "text": [
      "\n",
      "Final Loss: 1.385531448393651e-05\n",
      "Final Accuracy: 1.0\n"
     ]
    }
   ],
   "source": [
    "model.fit(X_train, Y_train)"
   ]
  },
  {
   "cell_type": "code",
   "execution_count": 39,
   "id": "59fef277",
   "metadata": {
    "execution": {
     "iopub.execute_input": "2024-05-15T09:06:15.158422Z",
     "iopub.status.busy": "2024-05-15T09:06:15.157987Z",
     "iopub.status.idle": "2024-05-15T09:06:16.860008Z",
     "shell.execute_reply": "2024-05-15T09:06:16.858829Z"
    },
    "papermill": {
     "duration": 1.720928,
     "end_time": "2024-05-15T09:06:16.862476",
     "exception": false,
     "start_time": "2024-05-15T09:06:15.141548",
     "status": "completed"
    },
    "tags": []
   },
   "outputs": [
    {
     "data": {
      "image/png": "[encoded data removed]",
      "text/plain": [
       "<Figure size 640x480 with 1 Axes>"
      ]
     },
     "metadata": {},
     "output_type": "display_data"
    }
   ],
   "source": [
    "model.plot()"
   ]
  },
  {
   "cell_type": "code",
   "execution_count": 40,
   "id": "77564dde",
   "metadata": {
    "execution": {
     "iopub.execute_input": "2024-05-15T09:06:16.895593Z",
     "iopub.status.busy": "2024-05-15T09:06:16.894446Z",
     "iopub.status.idle": "2024-05-15T09:06:16.901173Z",
     "shell.execute_reply": "2024-05-15T09:06:16.899728Z"
    },
    "papermill": {
     "duration": 0.025394,
     "end_time": "2024-05-15T09:06:16.903351",
     "exception": false,
     "start_time": "2024-05-15T09:06:16.877957",
     "status": "completed"
    },
    "tags": []
   },
   "outputs": [
    {
     "name": "stdout",
     "output_type": "stream",
     "text": [
      "Accuracy: 1.0\n"
     ]
    }
   ],
   "source": [
    "model.eval(X_test, Y_test)"
   ]
  },
  {
   "cell_type": "code",
   "execution_count": 41,
   "id": "698d7010",
   "metadata": {
    "execution": {
     "iopub.execute_input": "2024-05-15T09:06:16.937024Z",
     "iopub.status.busy": "2024-05-15T09:06:16.936623Z",
     "iopub.status.idle": "2024-05-15T09:06:16.941667Z",
     "shell.execute_reply": "2024-05-15T09:06:16.940565Z"
    },
    "papermill": {
     "duration": 0.024558,
     "end_time": "2024-05-15T09:06:16.943772",
     "exception": false,
     "start_time": "2024-05-15T09:06:16.919214",
     "status": "completed"
    },
    "tags": []
   },
   "outputs": [],
   "source": [
    "Y_pred = model.predict(X_test)"
   ]
  },
  {
   "cell_type": "markdown",
   "id": "5175ff21",
   "metadata": {
    "papermill": {
     "duration": 0.015176,
     "end_time": "2024-05-15T09:06:16.974502",
     "exception": false,
     "start_time": "2024-05-15T09:06:16.959326",
     "status": "completed"
    },
    "tags": []
   },
   "source": [
    "# Group samples of class 1 and class 3 together to form new class"
   ]
  },
  {
   "cell_type": "code",
   "execution_count": 42,
   "id": "1ba7c20d",
   "metadata": {
    "execution": {
     "iopub.execute_input": "2024-05-15T09:06:17.007212Z",
     "iopub.status.busy": "2024-05-15T09:06:17.006828Z",
     "iopub.status.idle": "2024-05-15T09:06:17.016283Z",
     "shell.execute_reply": "2024-05-15T09:06:17.015376Z"
    },
    "papermill": {
     "duration": 0.028698,
     "end_time": "2024-05-15T09:06:17.018727",
     "exception": false,
     "start_time": "2024-05-15T09:06:16.990029",
     "status": "completed"
    },
    "tags": []
   },
   "outputs": [],
   "source": [
    "Y_train = np.where(y == 2, 0, y)\n",
    "\n",
    "X_train_class1, X_test_class1, Y_train_class1, Y_test_class1 = train_test_split(\n",
    "    x[Y_train == 0], Y_train[Y_train == 0], test_size=0.2, random_state=42\n",
    ")\n",
    "X_train_class2, X_test_class2, Y_train_class2, Y_test_class2 = train_test_split(\n",
    "    x[Y_train == 1], Y_train[Y_train == 1], test_size=0.2, random_state=42\n",
    ")\n",
    "\n",
    "X_train = np.concatenate((X_train_class1, X_train_class2), axis=0)\n",
    "X_test = np.concatenate((X_test_class1, X_test_class2), axis=0)\n",
    "Y_train = np.concatenate((Y_train_class1, Y_train_class2), axis=0)\n",
    "Y_test = np.concatenate((Y_test_class1, Y_test_class2), axis=0)"
   ]
  },
  {
   "cell_type": "code",
   "execution_count": 43,
   "id": "848c3339",
   "metadata": {
    "execution": {
     "iopub.execute_input": "2024-05-15T09:06:17.052649Z",
     "iopub.status.busy": "2024-05-15T09:06:17.051647Z",
     "iopub.status.idle": "2024-05-15T09:06:17.088121Z",
     "shell.execute_reply": "2024-05-15T09:06:17.086960Z"
    },
    "papermill": {
     "duration": 0.055767,
     "end_time": "2024-05-15T09:06:17.090458",
     "exception": false,
     "start_time": "2024-05-15T09:06:17.034691",
     "status": "completed"
    },
    "tags": []
   },
   "outputs": [],
   "source": [
    "model = LogisticRegression()"
   ]
  },
  {
   "cell_type": "code",
   "execution_count": 44,
   "id": "8f4abb41",
   "metadata": {
    "execution": {
     "iopub.execute_input": "2024-05-15T09:06:17.123570Z",
     "iopub.status.busy": "2024-05-15T09:06:17.123149Z",
     "iopub.status.idle": "2024-05-15T09:06:25.796249Z",
     "shell.execute_reply": "2024-05-15T09:06:25.794677Z"
    },
    "papermill": {
     "duration": 8.692595,
     "end_time": "2024-05-15T09:06:25.798835",
     "exception": false,
     "start_time": "2024-05-15T09:06:17.106240",
     "status": "completed"
    },
    "tags": []
   },
   "outputs": [
    {
     "name": "stdout",
     "output_type": "stream",
     "text": [
      "\n",
      "Final Loss: 0.5071257298771129\n",
      "Final Accuracy: 0.7166666666666667\n"
     ]
    }
   ],
   "source": [
    "model.fit(X_train, Y_train)"
   ]
  },
  {
   "cell_type": "code",
   "execution_count": 45,
   "id": "a1dec609",
   "metadata": {
    "execution": {
     "iopub.execute_input": "2024-05-15T09:06:25.832785Z",
     "iopub.status.busy": "2024-05-15T09:06:25.831928Z",
     "iopub.status.idle": "2024-05-15T09:06:26.238836Z",
     "shell.execute_reply": "2024-05-15T09:06:26.237758Z"
    },
    "papermill": {
     "duration": 0.42644,
     "end_time": "2024-05-15T09:06:26.241287",
     "exception": false,
     "start_time": "2024-05-15T09:06:25.814847",
     "status": "completed"
    },
    "tags": []
   },
   "outputs": [
    {
     "data": {
      "image/png": "[encoded data removed]",
      "text/plain": [
       "<Figure size 640x480 with 1 Axes>"
      ]
     },
     "metadata": {},
     "output_type": "display_data"
    }
   ],
   "source": [
    "model.plot()"
   ]
  },
  {
   "cell_type": "code",
   "execution_count": 46,
   "id": "326e55af",
   "metadata": {
    "execution": {
     "iopub.execute_input": "2024-05-15T09:06:26.276551Z",
     "iopub.status.busy": "2024-05-15T09:06:26.275432Z",
     "iopub.status.idle": "2024-05-15T09:06:26.282453Z",
     "shell.execute_reply": "2024-05-15T09:06:26.281188Z"
    },
    "papermill": {
     "duration": 0.027022,
     "end_time": "2024-05-15T09:06:26.284695",
     "exception": false,
     "start_time": "2024-05-15T09:06:26.257673",
     "status": "completed"
    },
    "tags": []
   },
   "outputs": [
    {
     "name": "stdout",
     "output_type": "stream",
     "text": [
      "Accuracy: 0.8\n"
     ]
    }
   ],
   "source": [
    "model.eval(X_test, Y_test)"
   ]
  },
  {
   "cell_type": "code",
   "execution_count": 47,
   "id": "e541662f",
   "metadata": {
    "execution": {
     "iopub.execute_input": "2024-05-15T09:06:26.319822Z",
     "iopub.status.busy": "2024-05-15T09:06:26.318745Z",
     "iopub.status.idle": "2024-05-15T09:06:26.324449Z",
     "shell.execute_reply": "2024-05-15T09:06:26.323332Z"
    },
    "papermill": {
     "duration": 0.025813,
     "end_time": "2024-05-15T09:06:26.326797",
     "exception": false,
     "start_time": "2024-05-15T09:06:26.300984",
     "status": "completed"
    },
    "tags": []
   },
   "outputs": [],
   "source": [
    "Y_pred = model.predict(X_test)"
   ]
  },
  {
   "cell_type": "markdown",
   "id": "a6baab9e",
   "metadata": {
    "papermill": {
     "duration": 0.016206,
     "end_time": "2024-05-15T09:06:26.359439",
     "exception": false,
     "start_time": "2024-05-15T09:06:26.343233",
     "status": "completed"
    },
    "tags": []
   },
   "source": [
    "# Group samples of class 1 and class 2 together to form new class"
   ]
  },
  {
   "cell_type": "code",
   "execution_count": 48,
   "id": "be1ab530",
   "metadata": {
    "execution": {
     "iopub.execute_input": "2024-05-15T09:06:26.394932Z",
     "iopub.status.busy": "2024-05-15T09:06:26.394077Z",
     "iopub.status.idle": "2024-05-15T09:06:26.406688Z",
     "shell.execute_reply": "2024-05-15T09:06:26.404895Z"
    },
    "papermill": {
     "duration": 0.033389,
     "end_time": "2024-05-15T09:06:26.409325",
     "exception": false,
     "start_time": "2024-05-15T09:06:26.375936",
     "status": "completed"
    },
    "tags": []
   },
   "outputs": [],
   "source": [
    "Y_train = np.where(y == 1, 0, y)\n",
    "Y_train = np.where(y == 2, 1, Y_train)\n",
    "\n",
    "X_train_class1, X_test_class1, Y_train_class1, Y_test_class1 = train_test_split(\n",
    "    x[Y_train == 0], Y_train[Y_train == 0], test_size=0.2, random_state=42\n",
    ")\n",
    "X_train_class2, X_test_class2, Y_train_class2, Y_test_class2 = train_test_split(\n",
    "    x[Y_train == 1], Y_train[Y_train == 1], test_size=0.2, random_state=42\n",
    ")\n",
    "\n",
    "X_train = np.concatenate((X_train_class1, X_train_class2), axis=0)\n",
    "X_test = np.concatenate((X_test_class1, X_test_class2), axis=0)\n",
    "Y_train = np.concatenate((Y_train_class1, Y_train_class2), axis=0)\n",
    "Y_test = np.concatenate((Y_test_class1, Y_test_class2), axis=0)"
   ]
  },
  {
   "cell_type": "code",
   "execution_count": 49,
   "id": "aafef046",
   "metadata": {
    "execution": {
     "iopub.execute_input": "2024-05-15T09:06:26.444398Z",
     "iopub.status.busy": "2024-05-15T09:06:26.444001Z",
     "iopub.status.idle": "2024-05-15T09:06:26.454081Z",
     "shell.execute_reply": "2024-05-15T09:06:26.452941Z"
    },
    "papermill": {
     "duration": 0.030417,
     "end_time": "2024-05-15T09:06:26.456539",
     "exception": false,
     "start_time": "2024-05-15T09:06:26.426122",
     "status": "completed"
    },
    "tags": []
   },
   "outputs": [],
   "source": [
    "model = LogisticRegression()"
   ]
  },
  {
   "cell_type": "code",
   "execution_count": 50,
   "id": "d0421fd3",
   "metadata": {
    "execution": {
     "iopub.execute_input": "2024-05-15T09:06:26.493121Z",
     "iopub.status.busy": "2024-05-15T09:06:26.492159Z",
     "iopub.status.idle": "2024-05-15T09:07:47.944722Z",
     "shell.execute_reply": "2024-05-15T09:07:47.943585Z"
    },
    "papermill": {
     "duration": 81.48946,
     "end_time": "2024-05-15T09:07:47.962953",
     "exception": false,
     "start_time": "2024-05-15T09:06:26.473493",
     "status": "completed"
    },
    "tags": []
   },
   "outputs": [
    {
     "name": "stdout",
     "output_type": "stream",
     "text": [
      "\n",
      "Final Loss: 0.0065732300564060485\n",
      "Final Accuracy: 1.0\n"
     ]
    }
   ],
   "source": [
    "model.fit(X_train, Y_train)"
   ]
  },
  {
   "cell_type": "code",
   "execution_count": 51,
   "id": "de90679d",
   "metadata": {
    "execution": {
     "iopub.execute_input": "2024-05-15T09:07:47.997103Z",
     "iopub.status.busy": "2024-05-15T09:07:47.996716Z",
     "iopub.status.idle": "2024-05-15T09:07:49.704730Z",
     "shell.execute_reply": "2024-05-15T09:07:49.703652Z"
    },
    "papermill": {
     "duration": 1.728065,
     "end_time": "2024-05-15T09:07:49.707086",
     "exception": false,
     "start_time": "2024-05-15T09:07:47.979021",
     "status": "completed"
    },
    "tags": []
   },
   "outputs": [
    {
     "data": {
      "image/png": "[encoded data removed]",
      "text/plain": [
       "<Figure size 640x480 with 1 Axes>"
      ]
     },
     "metadata": {},
     "output_type": "display_data"
    }
   ],
   "source": [
    "model.plot()"
   ]
  },
  {
   "cell_type": "code",
   "execution_count": 52,
   "id": "ce74bcd4",
   "metadata": {
    "execution": {
     "iopub.execute_input": "2024-05-15T09:07:49.745399Z",
     "iopub.status.busy": "2024-05-15T09:07:49.744646Z",
     "iopub.status.idle": "2024-05-15T09:07:49.750370Z",
     "shell.execute_reply": "2024-05-15T09:07:49.749329Z"
    },
    "papermill": {
     "duration": 0.026787,
     "end_time": "2024-05-15T09:07:49.752681",
     "exception": false,
     "start_time": "2024-05-15T09:07:49.725894",
     "status": "completed"
    },
    "tags": []
   },
   "outputs": [
    {
     "name": "stdout",
     "output_type": "stream",
     "text": [
      "Accuracy: 0.9333333333333333\n"
     ]
    }
   ],
   "source": [
    "model.eval(X_test, Y_test)"
   ]
  },
  {
   "cell_type": "code",
   "execution_count": 53,
   "id": "18a4bde9",
   "metadata": {
    "execution": {
     "iopub.execute_input": "2024-05-15T09:07:49.788920Z",
     "iopub.status.busy": "2024-05-15T09:07:49.787946Z",
     "iopub.status.idle": "2024-05-15T09:07:49.792844Z",
     "shell.execute_reply": "2024-05-15T09:07:49.791788Z"
    },
    "papermill": {
     "duration": 0.025339,
     "end_time": "2024-05-15T09:07:49.795066",
     "exception": false,
     "start_time": "2024-05-15T09:07:49.769727",
     "status": "completed"
    },
    "tags": []
   },
   "outputs": [],
   "source": [
    "Y_pred = model.predict(X_test)"
   ]
  }
 ],
 "metadata": {
  "kaggle": {
   "accelerator": "none",
   "dataSources": [],
   "dockerImageVersionId": 30698,
   "isGpuEnabled": false,
   "isInternetEnabled": true,
   "language": "python",
   "sourceType": "notebook"
  },
  "kernelspec": {
   "display_name": "base",
   "language": "python",
   "name": "python3"
  },
  "language_info": {
   "codemirror_mode": {
    "name": "ipython",
    "version": 3
   },
   "file_extension": ".py",
   "mimetype": "text/x-python",
   "name": "python",
   "nbconvert_exporter": "python",
   "pygments_lexer": "ipython3",
   "version": "3.10.13"
  },
  "papermill": {
   "default_parameters": {},
   "duration": 188.243612,
   "end_time": "2024-05-15T09:07:50.534708",
   "environment_variables": {},
   "exception": null,
   "input_path": "__notebook__.ipynb",
   "output_path": "__notebook__.ipynb",
   "parameters": {},
   "start_time": "2024-05-15T09:04:42.291096",
   "version": "2.5.0"
  }
 },
 "nbformat": 4,
 "nbformat_minor": 5
}
