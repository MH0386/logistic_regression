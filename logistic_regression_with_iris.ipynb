{
 "cells": [
  {
   "cell_type": "code",
   "execution_count": 1,
   "id": "45f454ab",
   "metadata": {
    "execution": {
     "iopub.execute_input": "2024-05-15T08:51:45.910172Z",
     "iopub.status.busy": "2024-05-15T08:51:45.909725Z",
     "iopub.status.idle": "2024-05-15T08:51:48.624527Z",
     "shell.execute_reply": "2024-05-15T08:51:48.623047Z"
    },
    "papermill": {
     "duration": 2.737302,
     "end_time": "2024-05-15T08:51:48.628140",
     "exception": false,
     "start_time": "2024-05-15T08:51:45.890838",
     "status": "completed"
    },
    "tags": []
   },
   "outputs": [],
   "source": [
    "import numpy as np\n",
    "import matplotlib.pyplot as plt\n",
    "from sklearn import datasets\n",
    "from sklearn.metrics import confusion_matrix\n",
    "from sklearn.model_selection import train_test_split\n",
    "import sys\n",
    "import pandas as pd"
   ]
  },
  {
   "cell_type": "code",
   "execution_count": 2,
   "id": "fecd40d4",
   "metadata": {
    "execution": {
     "iopub.execute_input": "2024-05-15T08:51:48.663341Z",
     "iopub.status.busy": "2024-05-15T08:51:48.662656Z",
     "iopub.status.idle": "2024-05-15T08:51:48.677944Z",
     "shell.execute_reply": "2024-05-15T08:51:48.676182Z"
    },
    "papermill": {
     "duration": 0.036538,
     "end_time": "2024-05-15T08:51:48.681217",
     "exception": false,
     "start_time": "2024-05-15T08:51:48.644679",
     "status": "completed"
    },
    "tags": []
   },
   "outputs": [],
   "source": [
    "iris = datasets.load_iris()\n",
    "x = iris.data\n",
    "y = iris.target"
   ]
  },
  {
   "cell_type": "code",
   "execution_count": 3,
   "id": "71945856",
   "metadata": {
    "execution": {
     "iopub.execute_input": "2024-05-15T08:51:48.716070Z",
     "iopub.status.busy": "2024-05-15T08:51:48.715546Z",
     "iopub.status.idle": "2024-05-15T08:51:48.725475Z",
     "shell.execute_reply": "2024-05-15T08:51:48.724101Z"
    },
    "papermill": {
     "duration": 0.030368,
     "end_time": "2024-05-15T08:51:48.728184",
     "exception": false,
     "start_time": "2024-05-15T08:51:48.697816",
     "status": "completed"
    },
    "tags": []
   },
   "outputs": [
    {
     "data": {
      "text/plain": [
       "(150,)"
      ]
     },
     "execution_count": 3,
     "metadata": {},
     "output_type": "execute_result"
    }
   ],
   "source": [
    "y.shape"
   ]
  },
  {
   "cell_type": "code",
   "execution_count": 4,
   "id": "636aca92",
   "metadata": {
    "execution": {
     "iopub.execute_input": "2024-05-15T08:51:48.765099Z",
     "iopub.status.busy": "2024-05-15T08:51:48.764641Z",
     "iopub.status.idle": "2024-05-15T08:51:48.775679Z",
     "shell.execute_reply": "2024-05-15T08:51:48.774008Z"
    },
    "papermill": {
     "duration": 0.032209,
     "end_time": "2024-05-15T08:51:48.778466",
     "exception": false,
     "start_time": "2024-05-15T08:51:48.746257",
     "status": "completed"
    },
    "tags": []
   },
   "outputs": [
    {
     "data": {
      "text/plain": [
       "array([0, 1, 2])"
      ]
     },
     "execution_count": 4,
     "metadata": {},
     "output_type": "execute_result"
    }
   ],
   "source": [
    "np.unique(y)"
   ]
  },
  {
   "cell_type": "code",
   "execution_count": 5,
   "id": "8b25b1f6",
   "metadata": {
    "execution": {
     "iopub.execute_input": "2024-05-15T08:51:48.815399Z",
     "iopub.status.busy": "2024-05-15T08:51:48.814928Z",
     "iopub.status.idle": "2024-05-15T08:51:48.824318Z",
     "shell.execute_reply": "2024-05-15T08:51:48.822546Z"
    },
    "papermill": {
     "duration": 0.03084,
     "end_time": "2024-05-15T08:51:48.827163",
     "exception": false,
     "start_time": "2024-05-15T08:51:48.796323",
     "status": "completed"
    },
    "tags": []
   },
   "outputs": [
    {
     "data": {
      "text/plain": [
       "array([0, 0, 0, 0, 0, 0, 0, 0, 0, 0, 0, 0, 0, 0, 0, 0, 0, 0, 0, 0, 0, 0,\n",
       "       0, 0, 0, 0, 0, 0, 0, 0, 0, 0, 0, 0, 0, 0, 0, 0, 0, 0, 0, 0, 0, 0,\n",
       "       0, 0, 0, 0, 0, 0, 1, 1, 1, 1, 1, 1, 1, 1, 1, 1, 1, 1, 1, 1, 1, 1,\n",
       "       1, 1, 1, 1, 1, 1, 1, 1, 1, 1, 1, 1, 1, 1, 1, 1, 1, 1, 1, 1, 1, 1,\n",
       "       1, 1, 1, 1, 1, 1, 1, 1, 1, 1, 1, 1, 2, 2, 2, 2, 2, 2, 2, 2, 2, 2,\n",
       "       2, 2, 2, 2, 2, 2, 2, 2, 2, 2, 2, 2, 2, 2, 2, 2, 2, 2, 2, 2, 2, 2,\n",
       "       2, 2, 2, 2, 2, 2, 2, 2, 2, 2, 2, 2, 2, 2, 2, 2, 2, 2])"
      ]
     },
     "execution_count": 5,
     "metadata": {},
     "output_type": "execute_result"
    }
   ],
   "source": [
    "y"
   ]
  },
  {
   "cell_type": "markdown",
   "id": "a51261ec",
   "metadata": {
    "papermill": {
     "duration": 0.016654,
     "end_time": "2024-05-15T08:51:48.860805",
     "exception": false,
     "start_time": "2024-05-15T08:51:48.844151",
     "status": "completed"
    },
    "tags": []
   },
   "source": [
    "# Model\n"
   ]
  },
  {
   "cell_type": "code",
   "execution_count": 6,
   "id": "c5d4ce14",
   "metadata": {
    "execution": {
     "iopub.execute_input": "2024-05-15T08:51:48.897295Z",
     "iopub.status.busy": "2024-05-15T08:51:48.896819Z",
     "iopub.status.idle": "2024-05-15T08:51:48.929455Z",
     "shell.execute_reply": "2024-05-15T08:51:48.928112Z"
    },
    "papermill": {
     "duration": 0.05489,
     "end_time": "2024-05-15T08:51:48.932768",
     "exception": false,
     "start_time": "2024-05-15T08:51:48.877878",
     "status": "completed"
    },
    "tags": []
   },
   "outputs": [],
   "source": [
    "class LogisticRegression:\n",
    "\n",
    "    def __init__(\n",
    "        self,\n",
    "        lr=0.1,\n",
    "        num_iter=1_000_000,\n",
    "        verbose=False,\n",
    "        multi_class=False,\n",
    "        least_squares=False,\n",
    "    ):\n",
    "        self.lr = lr\n",
    "        self.num_iter = num_iter\n",
    "        self.verbose = verbose\n",
    "        self.least_squares = least_squares\n",
    "        self.multi_class = multi_class\n",
    "        self.weights = None\n",
    "        self.bias = None\n",
    "        self.x = None\n",
    "        self.y = None\n",
    "        self.classes_ = None\n",
    "        self.m = None\n",
    "        self.n = None\n",
    "        self.losses = []\n",
    "        self.accuracies = []\n",
    "\n",
    "    def softmax(self, x):\n",
    "        e_x = np.exp(x - np.max(x, axis=1, keepdims=True))\n",
    "        return e_x / e_x.sum(axis=1, keepdims=True)\n",
    "\n",
    "    def gradient_descent(self):\n",
    "        y_hat = self.predict(self.x)\n",
    "        dw = (1 / self.m) * np.dot(self.x.T, (y_hat - self.y))\n",
    "        db = (1 / self.m) * np.sum(y_hat - self.y)\n",
    "        self.weights -= self.lr * dw\n",
    "        self.bias -= self.lr * db\n",
    "\n",
    "    def predict(self, x):\n",
    "        if self.least_squares:\n",
    "            x = np.c_[np.ones(x.shape[0]), x]\n",
    "            return np.dot(x, self.weights)\n",
    "        z = np.dot(x, self.weights) + self.bias\n",
    "        predication = 1.0 / (1.0 + np.exp(-z))\n",
    "        return self.softmax(predication) if self.multi_class else predication\n",
    "\n",
    "    def plot(self):\n",
    "        plt.plot(self.losses)\n",
    "        plt.plot(self.accuracies)\n",
    "        plt.xlabel(\"Number of iterations\")\n",
    "        plt.ylabel(\"Loss\")\n",
    "        plt.legend([\"Loss\", \"Accuracy\"])\n",
    "        plt.show()\n",
    "\n",
    "    def loss(self):\n",
    "        y_hat = self.predict(self.x)\n",
    "        self.losses.append(\n",
    "            -np.mean(\n",
    "                self.y * np.log(y_hat + sys.float_info.min)\n",
    "                + (1 - self.y) * np.log(1 - y_hat + sys.float_info.min)\n",
    "            )\n",
    "        )\n",
    "        return self.losses[-1]\n",
    "\n",
    "    def accuracy(self):\n",
    "        y_hat = self.predict(self.x)\n",
    "        acc = (\n",
    "            np.mean(y_hat.argmax(axis=1) == self.y.argmax(axis=1))\n",
    "            if self.multi_class\n",
    "            else np.mean(y_hat.round() == self.y)\n",
    "        )\n",
    "        self.accuracies.append(acc)\n",
    "\n",
    "    def fit(self, x, y):\n",
    "        self.x = x\n",
    "        self.y = y\n",
    "        if self.least_squares:\n",
    "            self.least_squares_technique()\n",
    "            return\n",
    "        best_loss = sys.float_info.max\n",
    "        patience = 10\n",
    "        self.m, self.n = x.shape\n",
    "        if self.multi_class:\n",
    "            self.classes_ = np.unique(self.y)\n",
    "            self.y = pd.get_dummies(self.y).to_numpy()\n",
    "            self.weights = (\n",
    "                np.random.rand(self.n, len(self.classes_))\n",
    "                if self.weights is None\n",
    "                else self.weights\n",
    "            )\n",
    "            self.bias = (\n",
    "                np.random.rand(len(self.classes_)) if self.bias is None else self.bias\n",
    "            )\n",
    "        else:\n",
    "            self.weights = (\n",
    "                np.random.rand(self.n) if self.weights is None else self.weights\n",
    "            )\n",
    "            self.bias = np.random.rand() if self.bias is None else self.bias\n",
    "        for _ in range(self.num_iter):\n",
    "            self.gradient_descent()\n",
    "            self.loss()\n",
    "            self.accuracy()\n",
    "            if self.losses[-1] < best_loss:\n",
    "                best_loss = self.losses[-1]\n",
    "                patience = 10\n",
    "            else:\n",
    "                patience -= 1\n",
    "                if patience == 0:\n",
    "                    break\n",
    "            if self.verbose:\n",
    "                print(f\"\\tLoss: {self.losses[-1]}\")\n",
    "                print(f\"\\tAccuracy: {self.accuracies[-1]}\")\n",
    "        print(f\"\\nFinal Loss: {self.losses[-1]}\")\n",
    "        print(f\"Final Accuracy: {self.accuracies[-1]}\")\n",
    "\n",
    "    def eval(self, x, y):\n",
    "        self.x = x\n",
    "        self.y = y\n",
    "        if self.multi_class:\n",
    "            self.y = pd.get_dummies(self.y).to_numpy()\n",
    "        self.accuracy()\n",
    "        print(f\"Accuracy: {self.accuracies[-1]}\")\n",
    "\n",
    "    def least_squares_technique(self):\n",
    "        self.x = np.c_[np.ones(self.x.shape[0]), self.x]\n",
    "        self.weights = np.dot(\n",
    "            np.dot(np.linalg.inv(np.dot(self.x.T, self.x)), self.x.T), self.y\n",
    "        )"
   ]
  },
  {
   "cell_type": "code",
   "execution_count": 7,
   "id": "83ac8a4e",
   "metadata": {
    "execution": {
     "iopub.execute_input": "2024-05-15T08:51:48.976187Z",
     "iopub.status.busy": "2024-05-15T08:51:48.975788Z",
     "iopub.status.idle": "2024-05-15T08:51:48.983700Z",
     "shell.execute_reply": "2024-05-15T08:51:48.982271Z"
    },
    "papermill": {
     "duration": 0.029322,
     "end_time": "2024-05-15T08:51:48.986595",
     "exception": false,
     "start_time": "2024-05-15T08:51:48.957273",
     "status": "completed"
    },
    "tags": []
   },
   "outputs": [
    {
     "data": {
      "text/plain": [
       "array([0, 1, 2])"
      ]
     },
     "execution_count": 7,
     "metadata": {},
     "output_type": "execute_result"
    }
   ],
   "source": [
    "np.unique(y)"
   ]
  },
  {
   "cell_type": "code",
   "execution_count": 8,
   "id": "b47bc8f0",
   "metadata": {
    "execution": {
     "iopub.execute_input": "2024-05-15T08:51:49.032427Z",
     "iopub.status.busy": "2024-05-15T08:51:49.031980Z",
     "iopub.status.idle": "2024-05-15T08:51:49.039911Z",
     "shell.execute_reply": "2024-05-15T08:51:49.038339Z"
    },
    "papermill": {
     "duration": 0.0321,
     "end_time": "2024-05-15T08:51:49.043067",
     "exception": false,
     "start_time": "2024-05-15T08:51:49.010967",
     "status": "completed"
    },
    "tags": []
   },
   "outputs": [
    {
     "data": {
      "text/plain": [
       "(150,)"
      ]
     },
     "execution_count": 8,
     "metadata": {},
     "output_type": "execute_result"
    }
   ],
   "source": [
    "y.shape"
   ]
  },
  {
   "cell_type": "markdown",
   "id": "15f702f8",
   "metadata": {
    "papermill": {
     "duration": 0.017376,
     "end_time": "2024-05-15T08:51:49.078527",
     "exception": false,
     "start_time": "2024-05-15T08:51:49.061151",
     "status": "completed"
    },
    "tags": []
   },
   "source": [
    "# With Least Squares Technique"
   ]
  },
  {
   "cell_type": "markdown",
   "id": "f2932689",
   "metadata": {
    "papermill": {
     "duration": 0.01685,
     "end_time": "2024-05-15T08:51:49.112999",
     "exception": false,
     "start_time": "2024-05-15T08:51:49.096149",
     "status": "completed"
    },
    "tags": []
   },
   "source": [
    "# Group samples of class 2 and class 3 together to form new class"
   ]
  },
  {
   "cell_type": "code",
   "execution_count": 9,
   "id": "a7c426dc",
   "metadata": {
    "execution": {
     "iopub.execute_input": "2024-05-15T08:51:49.150209Z",
     "iopub.status.busy": "2024-05-15T08:51:49.149805Z",
     "iopub.status.idle": "2024-05-15T08:51:49.162706Z",
     "shell.execute_reply": "2024-05-15T08:51:49.161409Z"
    },
    "papermill": {
     "duration": 0.03521,
     "end_time": "2024-05-15T08:51:49.165526",
     "exception": false,
     "start_time": "2024-05-15T08:51:49.130316",
     "status": "completed"
    },
    "tags": []
   },
   "outputs": [],
   "source": [
    "Y_train = np.where(y == 2, 1, y)\n",
    "\n",
    "X_train_class1, X_test_class1, Y_train_class1, Y_test_class1 = train_test_split(\n",
    "    x[Y_train == 0], Y_train[Y_train == 0], test_size=0.2, random_state=42\n",
    ")\n",
    "X_train_class2, X_test_class2, Y_train_class2, Y_test_class2 = train_test_split(\n",
    "    x[Y_train == 1], Y_train[Y_train == 1], test_size=0.2, random_state=42\n",
    ")\n",
    "\n",
    "X_train = np.concatenate((X_train_class1, X_train_class2), axis=0)\n",
    "X_test = np.concatenate((X_test_class1, X_test_class2), axis=0)\n",
    "Y_train = np.concatenate((Y_train_class1, Y_train_class2), axis=0)\n",
    "Y_test = np.concatenate((Y_test_class1, Y_test_class2), axis=0)"
   ]
  },
  {
   "cell_type": "code",
   "execution_count": 10,
   "id": "f44e099c",
   "metadata": {
    "execution": {
     "iopub.execute_input": "2024-05-15T08:51:49.203277Z",
     "iopub.status.busy": "2024-05-15T08:51:49.202876Z",
     "iopub.status.idle": "2024-05-15T08:51:49.211396Z",
     "shell.execute_reply": "2024-05-15T08:51:49.210364Z"
    },
    "papermill": {
     "duration": 0.029727,
     "end_time": "2024-05-15T08:51:49.213660",
     "exception": false,
     "start_time": "2024-05-15T08:51:49.183933",
     "status": "completed"
    },
    "tags": []
   },
   "outputs": [
    {
     "data": {
      "text/plain": [
       "(array([0, 1]), (40, 4), (10, 4), (80, 4), (20, 4))"
      ]
     },
     "execution_count": 10,
     "metadata": {},
     "output_type": "execute_result"
    }
   ],
   "source": [
    "np.unique(Y_train), X_train_class1.shape, X_test_class1.shape, X_train_class2.shape, X_test_class2.shape"
   ]
  },
  {
   "cell_type": "code",
   "execution_count": 11,
   "id": "c1664847",
   "metadata": {
    "execution": {
     "iopub.execute_input": "2024-05-15T08:51:49.250641Z",
     "iopub.status.busy": "2024-05-15T08:51:49.250137Z",
     "iopub.status.idle": "2024-05-15T08:51:49.256275Z",
     "shell.execute_reply": "2024-05-15T08:51:49.255044Z"
    },
    "papermill": {
     "duration": 0.027921,
     "end_time": "2024-05-15T08:51:49.258907",
     "exception": false,
     "start_time": "2024-05-15T08:51:49.230986",
     "status": "completed"
    },
    "tags": []
   },
   "outputs": [],
   "source": [
    "model = LogisticRegression(least_squares=True)"
   ]
  },
  {
   "cell_type": "code",
   "execution_count": 12,
   "id": "aa241553",
   "metadata": {
    "execution": {
     "iopub.execute_input": "2024-05-15T08:51:49.296781Z",
     "iopub.status.busy": "2024-05-15T08:51:49.296287Z",
     "iopub.status.idle": "2024-05-15T08:51:49.308034Z",
     "shell.execute_reply": "2024-05-15T08:51:49.306207Z"
    },
    "papermill": {
     "duration": 0.036736,
     "end_time": "2024-05-15T08:51:49.313752",
     "exception": false,
     "start_time": "2024-05-15T08:51:49.277016",
     "status": "completed"
    },
    "tags": []
   },
   "outputs": [],
   "source": [
    "model.fit(X_train, Y_train)"
   ]
  },
  {
   "cell_type": "code",
   "execution_count": 13,
   "id": "6c68e4af",
   "metadata": {
    "execution": {
     "iopub.execute_input": "2024-05-15T08:51:49.390287Z",
     "iopub.status.busy": "2024-05-15T08:51:49.389617Z",
     "iopub.status.idle": "2024-05-15T08:51:49.398752Z",
     "shell.execute_reply": "2024-05-15T08:51:49.397224Z"
    },
    "papermill": {
     "duration": 0.059118,
     "end_time": "2024-05-15T08:51:49.410061",
     "exception": false,
     "start_time": "2024-05-15T08:51:49.350943",
     "status": "completed"
    },
    "tags": []
   },
   "outputs": [
    {
     "name": "stdout",
     "output_type": "stream",
     "text": [
      "Accuracy: 1.0\n"
     ]
    }
   ],
   "source": [
    "model.eval(X_test, Y_test)"
   ]
  },
  {
   "cell_type": "code",
   "execution_count": 14,
   "id": "b51887ce",
   "metadata": {
    "execution": {
     "iopub.execute_input": "2024-05-15T08:51:49.457420Z",
     "iopub.status.busy": "2024-05-15T08:51:49.456977Z",
     "iopub.status.idle": "2024-05-15T08:51:49.462935Z",
     "shell.execute_reply": "2024-05-15T08:51:49.461771Z"
    },
    "papermill": {
     "duration": 0.028313,
     "end_time": "2024-05-15T08:51:49.465408",
     "exception": false,
     "start_time": "2024-05-15T08:51:49.437095",
     "status": "completed"
    },
    "tags": []
   },
   "outputs": [],
   "source": [
    "Y_pred = model.predict(X_test)"
   ]
  },
  {
   "cell_type": "code",
   "execution_count": 15,
   "id": "5d227354",
   "metadata": {
    "execution": {
     "iopub.execute_input": "2024-05-15T08:51:49.502863Z",
     "iopub.status.busy": "2024-05-15T08:51:49.502374Z",
     "iopub.status.idle": "2024-05-15T08:51:50.016483Z",
     "shell.execute_reply": "2024-05-15T08:51:50.015157Z"
    },
    "papermill": {
     "duration": 0.536034,
     "end_time": "2024-05-15T08:51:50.019107",
     "exception": false,
     "start_time": "2024-05-15T08:51:49.483073",
     "status": "completed"
    },
    "tags": []
   },
   "outputs": [
    {
     "data": {
      "image/png": "[encoded data removed]",
      "text/plain": [
       "<Figure size 640x480 with 2 Axes>"
      ]
     },
     "metadata": {},
     "output_type": "display_data"
    }
   ],
   "source": [
    "confusion_matrix(Y_test, Y_pred.round())\n",
    "plt.imshow(confusion_matrix(Y_test, Y_pred.round()), cmap=\"binary\", interpolation=\"None\")\n",
    "plt.title(\"Confusion Matrix\")\n",
    "plt.xlabel(\"Predicted\")\n",
    "plt.ylabel(\"Actual\")\n",
    "plt.xticks([0, 1])\n",
    "plt.yticks([0, 1])\n",
    "plt.colorbar()\n",
    "plt.show()"
   ]
  },
  {
   "cell_type": "markdown",
   "id": "cfc54e77",
   "metadata": {
    "papermill": {
     "duration": 0.017784,
     "end_time": "2024-05-15T08:51:50.054940",
     "exception": false,
     "start_time": "2024-05-15T08:51:50.037156",
     "status": "completed"
    },
    "tags": []
   },
   "source": [
    "# Group samples of class 1 and class 3 together to form new class"
   ]
  },
  {
   "cell_type": "code",
   "execution_count": 16,
   "id": "37bbe547",
   "metadata": {
    "execution": {
     "iopub.execute_input": "2024-05-15T08:51:50.093180Z",
     "iopub.status.busy": "2024-05-15T08:51:50.092799Z",
     "iopub.status.idle": "2024-05-15T08:51:50.103242Z",
     "shell.execute_reply": "2024-05-15T08:51:50.102244Z"
    },
    "papermill": {
     "duration": 0.032622,
     "end_time": "2024-05-15T08:51:50.105810",
     "exception": false,
     "start_time": "2024-05-15T08:51:50.073188",
     "status": "completed"
    },
    "tags": []
   },
   "outputs": [],
   "source": [
    "Y_train = np.where(y == 2, 0, y)\n",
    "\n",
    "X_train_class1, X_test_class1, Y_train_class1, Y_test_class1 = train_test_split(\n",
    "    x[Y_train == 0], Y_train[Y_train == 0], test_size=0.2, random_state=42\n",
    ")\n",
    "X_train_class2, X_test_class2, Y_train_class2, Y_test_class2 = train_test_split(\n",
    "    x[Y_train == 1], Y_train[Y_train == 1], test_size=0.2, random_state=42\n",
    ")\n",
    "\n",
    "X_train = np.concatenate((X_train_class1, X_train_class2), axis=0)\n",
    "X_test = np.concatenate((X_test_class1, X_test_class2), axis=0)\n",
    "Y_train = np.concatenate((Y_train_class1, Y_train_class2), axis=0)\n",
    "Y_test = np.concatenate((Y_test_class1, Y_test_class2), axis=0)"
   ]
  },
  {
   "cell_type": "code",
   "execution_count": 17,
   "id": "e94a1fa4",
   "metadata": {
    "execution": {
     "iopub.execute_input": "2024-05-15T08:51:50.145748Z",
     "iopub.status.busy": "2024-05-15T08:51:50.145059Z",
     "iopub.status.idle": "2024-05-15T08:51:50.152332Z",
     "shell.execute_reply": "2024-05-15T08:51:50.151173Z"
    },
    "papermill": {
     "duration": 0.0301,
     "end_time": "2024-05-15T08:51:50.154866",
     "exception": false,
     "start_time": "2024-05-15T08:51:50.124766",
     "status": "completed"
    },
    "tags": []
   },
   "outputs": [
    {
     "data": {
      "text/plain": [
       "(array([0, 1]), (80, 4), (20, 4), (40, 4), (10, 4))"
      ]
     },
     "execution_count": 17,
     "metadata": {},
     "output_type": "execute_result"
    }
   ],
   "source": [
    "np.unique(Y_train), X_train_class1.shape, X_test_class1.shape, X_train_class2.shape, X_test_class2.shape"
   ]
  },
  {
   "cell_type": "code",
   "execution_count": 18,
   "id": "75d6fd81",
   "metadata": {
    "execution": {
     "iopub.execute_input": "2024-05-15T08:51:50.295726Z",
     "iopub.status.busy": "2024-05-15T08:51:50.295228Z",
     "iopub.status.idle": "2024-05-15T08:51:50.300805Z",
     "shell.execute_reply": "2024-05-15T08:51:50.299783Z"
    },
    "papermill": {
     "duration": 0.129462,
     "end_time": "2024-05-15T08:51:50.303271",
     "exception": false,
     "start_time": "2024-05-15T08:51:50.173809",
     "status": "completed"
    },
    "tags": []
   },
   "outputs": [],
   "source": [
    "model = LogisticRegression(least_squares=True)"
   ]
  },
  {
   "cell_type": "code",
   "execution_count": 19,
   "id": "c497b268",
   "metadata": {
    "execution": {
     "iopub.execute_input": "2024-05-15T08:51:50.344336Z",
     "iopub.status.busy": "2024-05-15T08:51:50.343557Z",
     "iopub.status.idle": "2024-05-15T08:51:50.350225Z",
     "shell.execute_reply": "2024-05-15T08:51:50.348646Z"
    },
    "papermill": {
     "duration": 0.032879,
     "end_time": "2024-05-15T08:51:50.355741",
     "exception": false,
     "start_time": "2024-05-15T08:51:50.322862",
     "status": "completed"
    },
    "tags": []
   },
   "outputs": [],
   "source": [
    "model.fit(X_train, Y_train)"
   ]
  },
  {
   "cell_type": "code",
   "execution_count": 20,
   "id": "9a8e3c6e",
   "metadata": {
    "execution": {
     "iopub.execute_input": "2024-05-15T08:51:50.440355Z",
     "iopub.status.busy": "2024-05-15T08:51:50.439639Z",
     "iopub.status.idle": "2024-05-15T08:51:50.451822Z",
     "shell.execute_reply": "2024-05-15T08:51:50.450116Z"
    },
    "papermill": {
     "duration": 0.06437,
     "end_time": "2024-05-15T08:51:50.461154",
     "exception": false,
     "start_time": "2024-05-15T08:51:50.396784",
     "status": "completed"
    },
    "tags": []
   },
   "outputs": [
    {
     "name": "stdout",
     "output_type": "stream",
     "text": [
      "Accuracy: 0.8\n"
     ]
    }
   ],
   "source": [
    "model.eval(X_test, Y_test)"
   ]
  },
  {
   "cell_type": "code",
   "execution_count": 21,
   "id": "6a717905",
   "metadata": {
    "execution": {
     "iopub.execute_input": "2024-05-15T08:51:50.504631Z",
     "iopub.status.busy": "2024-05-15T08:51:50.504180Z",
     "iopub.status.idle": "2024-05-15T08:51:50.509325Z",
     "shell.execute_reply": "2024-05-15T08:51:50.508185Z"
    },
    "papermill": {
     "duration": 0.028124,
     "end_time": "2024-05-15T08:51:50.511797",
     "exception": false,
     "start_time": "2024-05-15T08:51:50.483673",
     "status": "completed"
    },
    "tags": []
   },
   "outputs": [],
   "source": [
    "Y_pred = model.predict(X_test)"
   ]
  },
  {
   "cell_type": "code",
   "execution_count": 22,
   "id": "d2114e09",
   "metadata": {
    "execution": {
     "iopub.execute_input": "2024-05-15T08:51:50.552833Z",
     "iopub.status.busy": "2024-05-15T08:51:50.551224Z",
     "iopub.status.idle": "2024-05-15T08:51:50.879245Z",
     "shell.execute_reply": "2024-05-15T08:51:50.877980Z"
    },
    "papermill": {
     "duration": 0.351341,
     "end_time": "2024-05-15T08:51:50.882330",
     "exception": false,
     "start_time": "2024-05-15T08:51:50.530989",
     "status": "completed"
    },
    "tags": []
   },
   "outputs": [
    {
     "data": {
      "image/png": "[encoded data removed]",
      "text/plain": [
       "<Figure size 640x480 with 2 Axes>"
      ]
     },
     "metadata": {},
     "output_type": "display_data"
    }
   ],
   "source": [
    "confusion_matrix(Y_test, Y_pred.round())\n",
    "plt.imshow(confusion_matrix(Y_test, Y_pred.round()), cmap=\"binary\", interpolation=\"None\")\n",
    "plt.title(\"Confusion Matrix\")\n",
    "plt.xlabel(\"Predicted\")\n",
    "plt.ylabel(\"Actual\")\n",
    "plt.xticks([0, 1])\n",
    "plt.yticks([0, 1])\n",
    "plt.colorbar()\n",
    "plt.show()"
   ]
  },
  {
   "cell_type": "markdown",
   "id": "b1bf7fc2",
   "metadata": {
    "papermill": {
     "duration": 0.021913,
     "end_time": "2024-05-15T08:51:50.924020",
     "exception": false,
     "start_time": "2024-05-15T08:51:50.902107",
     "status": "completed"
    },
    "tags": []
   },
   "source": [
    "# Group samples of class 1 and class 2 together to form new class"
   ]
  },
  {
   "cell_type": "code",
   "execution_count": 23,
   "id": "6eb1715f",
   "metadata": {
    "execution": {
     "iopub.execute_input": "2024-05-15T08:51:50.977928Z",
     "iopub.status.busy": "2024-05-15T08:51:50.976426Z",
     "iopub.status.idle": "2024-05-15T08:51:50.987812Z",
     "shell.execute_reply": "2024-05-15T08:51:50.986861Z"
    },
    "papermill": {
     "duration": 0.042292,
     "end_time": "2024-05-15T08:51:50.990722",
     "exception": false,
     "start_time": "2024-05-15T08:51:50.948430",
     "status": "completed"
    },
    "tags": []
   },
   "outputs": [],
   "source": [
    "Y_train = np.where(y == 1, 0, y)\n",
    "Y_train = np.where(y == 2, 1, Y_train)\n",
    "\n",
    "X_train_class1, X_test_class1, Y_train_class1, Y_test_class1 = train_test_split(\n",
    "    x[Y_train == 0], Y_train[Y_train == 0], test_size=0.2, random_state=42\n",
    ")\n",
    "X_train_class2, X_test_class2, Y_train_class2, Y_test_class2 = train_test_split(\n",
    "    x[Y_train == 1], Y_train[Y_train == 1], test_size=0.2, random_state=42\n",
    ")\n",
    "\n",
    "X_train = np.concatenate((X_train_class1, X_train_class2), axis=0)\n",
    "X_test = np.concatenate((X_test_class1, X_test_class2), axis=0)\n",
    "Y_train = np.concatenate((Y_train_class1, Y_train_class2), axis=0)\n",
    "Y_test = np.concatenate((Y_test_class1, Y_test_class2), axis=0)"
   ]
  },
  {
   "cell_type": "code",
   "execution_count": 24,
   "id": "81100f14",
   "metadata": {
    "execution": {
     "iopub.execute_input": "2024-05-15T08:51:51.035910Z",
     "iopub.status.busy": "2024-05-15T08:51:51.035119Z",
     "iopub.status.idle": "2024-05-15T08:51:51.043771Z",
     "shell.execute_reply": "2024-05-15T08:51:51.042244Z"
    },
    "papermill": {
     "duration": 0.032993,
     "end_time": "2024-05-15T08:51:51.046341",
     "exception": false,
     "start_time": "2024-05-15T08:51:51.013348",
     "status": "completed"
    },
    "tags": []
   },
   "outputs": [
    {
     "data": {
      "text/plain": [
       "(array([0, 1]), (80, 4), (20, 4), (40, 4), (10, 4))"
      ]
     },
     "execution_count": 24,
     "metadata": {},
     "output_type": "execute_result"
    }
   ],
   "source": [
    "np.unique(Y_train), X_train_class1.shape, X_test_class1.shape, X_train_class2.shape, X_test_class2.shape"
   ]
  },
  {
   "cell_type": "code",
   "execution_count": 25,
   "id": "8a88df3f",
   "metadata": {
    "execution": {
     "iopub.execute_input": "2024-05-15T08:51:51.091081Z",
     "iopub.status.busy": "2024-05-15T08:51:51.089249Z",
     "iopub.status.idle": "2024-05-15T08:51:51.097429Z",
     "shell.execute_reply": "2024-05-15T08:51:51.095625Z"
    },
    "papermill": {
     "duration": 0.034861,
     "end_time": "2024-05-15T08:51:51.101417",
     "exception": false,
     "start_time": "2024-05-15T08:51:51.066556",
     "status": "completed"
    },
    "tags": []
   },
   "outputs": [],
   "source": [
    "model = LogisticRegression(least_squares=True)"
   ]
  },
  {
   "cell_type": "code",
   "execution_count": 26,
   "id": "13e0f823",
   "metadata": {
    "execution": {
     "iopub.execute_input": "2024-05-15T08:51:51.163344Z",
     "iopub.status.busy": "2024-05-15T08:51:51.162931Z",
     "iopub.status.idle": "2024-05-15T08:51:51.186870Z",
     "shell.execute_reply": "2024-05-15T08:51:51.184802Z"
    },
    "papermill": {
     "duration": 0.060868,
     "end_time": "2024-05-15T08:51:51.192937",
     "exception": false,
     "start_time": "2024-05-15T08:51:51.132069",
     "status": "completed"
    },
    "tags": []
   },
   "outputs": [],
   "source": [
    "model.fit(X_train, Y_train)"
   ]
  },
  {
   "cell_type": "code",
   "execution_count": 27,
   "id": "1fd3fa5a",
   "metadata": {
    "execution": {
     "iopub.execute_input": "2024-05-15T08:51:51.303371Z",
     "iopub.status.busy": "2024-05-15T08:51:51.302909Z",
     "iopub.status.idle": "2024-05-15T08:51:51.310656Z",
     "shell.execute_reply": "2024-05-15T08:51:51.309196Z"
    },
    "papermill": {
     "duration": 0.040142,
     "end_time": "2024-05-15T08:51:51.313036",
     "exception": false,
     "start_time": "2024-05-15T08:51:51.272894",
     "status": "completed"
    },
    "tags": []
   },
   "outputs": [
    {
     "name": "stdout",
     "output_type": "stream",
     "text": [
      "Accuracy: 0.9\n"
     ]
    }
   ],
   "source": [
    "model.eval(X_test, Y_test)"
   ]
  },
  {
   "cell_type": "code",
   "execution_count": 28,
   "id": "af38d9da",
   "metadata": {
    "execution": {
     "iopub.execute_input": "2024-05-15T08:51:51.357041Z",
     "iopub.status.busy": "2024-05-15T08:51:51.355735Z",
     "iopub.status.idle": "2024-05-15T08:51:51.363057Z",
     "shell.execute_reply": "2024-05-15T08:51:51.361515Z"
    },
    "papermill": {
     "duration": 0.032818,
     "end_time": "2024-05-15T08:51:51.366136",
     "exception": false,
     "start_time": "2024-05-15T08:51:51.333318",
     "status": "completed"
    },
    "tags": []
   },
   "outputs": [],
   "source": [
    "Y_pred = model.predict(X_test)"
   ]
  },
  {
   "cell_type": "code",
   "execution_count": 29,
   "id": "380e2853",
   "metadata": {
    "execution": {
     "iopub.execute_input": "2024-05-15T08:51:51.417822Z",
     "iopub.status.busy": "2024-05-15T08:51:51.416011Z",
     "iopub.status.idle": "2024-05-15T08:51:51.768080Z",
     "shell.execute_reply": "2024-05-15T08:51:51.766283Z"
    },
    "papermill": {
     "duration": 0.382333,
     "end_time": "2024-05-15T08:51:51.771342",
     "exception": false,
     "start_time": "2024-05-15T08:51:51.389009",
     "status": "completed"
    },
    "tags": []
   },
   "outputs": [
    {
     "data": {
      "image/png": "[encoded data removed]",
      "text/plain": [
       "<Figure size 640x480 with 2 Axes>"
      ]
     },
     "metadata": {},
     "output_type": "display_data"
    }
   ],
   "source": [
    "confusion_matrix(Y_test, Y_pred.round())\n",
    "plt.imshow(confusion_matrix(Y_test, Y_pred.round()), cmap=\"binary\")\n",
    "plt.title(\"Confusion Matrix\")\n",
    "plt.xlabel(\"Predicted\")\n",
    "plt.ylabel(\"Actual\")\n",
    "plt.xticks([0, 1])\n",
    "plt.yticks([0, 1])\n",
    "plt.colorbar()\n",
    "plt.show()"
   ]
  },
  {
   "cell_type": "markdown",
   "id": "8c6bf060",
   "metadata": {
    "papermill": {
     "duration": 0.022445,
     "end_time": "2024-05-15T08:51:51.815409",
     "exception": false,
     "start_time": "2024-05-15T08:51:51.792964",
     "status": "completed"
    },
    "tags": []
   },
   "source": [
    "# With Gradient Descent"
   ]
  },
  {
   "cell_type": "code",
   "execution_count": 30,
   "id": "a39b086e",
   "metadata": {
    "execution": {
     "iopub.execute_input": "2024-05-15T08:51:51.858597Z",
     "iopub.status.busy": "2024-05-15T08:51:51.858094Z",
     "iopub.status.idle": "2024-05-15T08:51:51.866173Z",
     "shell.execute_reply": "2024-05-15T08:51:51.864649Z"
    },
    "papermill": {
     "duration": 0.032895,
     "end_time": "2024-05-15T08:51:51.868837",
     "exception": false,
     "start_time": "2024-05-15T08:51:51.835942",
     "status": "completed"
    },
    "tags": []
   },
   "outputs": [],
   "source": [
    "x_train, x_test, y_train, y_test = train_test_split(\n",
    "    x, y, test_size=0.3, random_state=42\n",
    ")"
   ]
  },
  {
   "cell_type": "code",
   "execution_count": 31,
   "id": "fcc6f837",
   "metadata": {
    "execution": {
     "iopub.execute_input": "2024-05-15T08:51:51.913520Z",
     "iopub.status.busy": "2024-05-15T08:51:51.913082Z",
     "iopub.status.idle": "2024-05-15T08:51:51.919550Z",
     "shell.execute_reply": "2024-05-15T08:51:51.917985Z"
    },
    "papermill": {
     "duration": 0.031836,
     "end_time": "2024-05-15T08:51:51.922334",
     "exception": false,
     "start_time": "2024-05-15T08:51:51.890498",
     "status": "completed"
    },
    "tags": []
   },
   "outputs": [],
   "source": [
    "model = LogisticRegression(multi_class=True)"
   ]
  },
  {
   "cell_type": "markdown",
   "id": "c6f2d644",
   "metadata": {
    "papermill": {
     "duration": 0.022673,
     "end_time": "2024-05-15T08:51:51.966447",
     "exception": false,
     "start_time": "2024-05-15T08:51:51.943774",
     "status": "completed"
    },
    "tags": []
   },
   "source": [
    "# Standardization\n"
   ]
  },
  {
   "cell_type": "code",
   "execution_count": 32,
   "id": "8038580d",
   "metadata": {
    "execution": {
     "iopub.execute_input": "2024-05-15T08:51:52.014893Z",
     "iopub.status.busy": "2024-05-15T08:51:52.014479Z",
     "iopub.status.idle": "2024-05-15T08:51:52.020380Z",
     "shell.execute_reply": "2024-05-15T08:51:52.019171Z"
    },
    "papermill": {
     "duration": 0.032632,
     "end_time": "2024-05-15T08:51:52.022923",
     "exception": false,
     "start_time": "2024-05-15T08:51:51.990291",
     "status": "completed"
    },
    "tags": []
   },
   "outputs": [],
   "source": [
    "x_train = (x_train - x_train.mean()) / x_train.std()\n",
    "x_test = (x_test - x_test.mean()) / x_test.std()"
   ]
  },
  {
   "cell_type": "markdown",
   "id": "63fb6318",
   "metadata": {
    "papermill": {
     "duration": 0.021012,
     "end_time": "2024-05-15T08:51:52.065885",
     "exception": false,
     "start_time": "2024-05-15T08:51:52.044873",
     "status": "completed"
    },
    "tags": []
   },
   "source": [
    "# Train\n"
   ]
  },
  {
   "cell_type": "code",
   "execution_count": 33,
   "id": "9864e91b",
   "metadata": {
    "execution": {
     "iopub.execute_input": "2024-05-15T08:51:52.110968Z",
     "iopub.status.busy": "2024-05-15T08:51:52.110518Z",
     "iopub.status.idle": "2024-05-15T08:52:52.434547Z",
     "shell.execute_reply": "2024-05-15T08:52:52.432839Z"
    },
    "papermill": {
     "duration": 60.371153,
     "end_time": "2024-05-15T08:52:52.458559",
     "exception": false,
     "start_time": "2024-05-15T08:51:52.087406",
     "status": "completed"
    },
    "tags": []
   },
   "outputs": [
    {
     "name": "stderr",
     "output_type": "stream",
     "text": [
      "/tmp/ipykernel_18/372245163.py:42: RuntimeWarning: overflow encountered in exp\n",
      "  predication = 1.0 / (1.0 + np.exp(-z))\n"
     ]
    },
    {
     "name": "stdout",
     "output_type": "stream",
     "text": [
      "\n",
      "Final Loss: 0.4708867991669988\n",
      "Final Accuracy: 0.6761904761904762\n"
     ]
    }
   ],
   "source": [
    "model.fit(x_train, y_train)"
   ]
  },
  {
   "cell_type": "code",
   "execution_count": 34,
   "id": "114cac64",
   "metadata": {
    "execution": {
     "iopub.execute_input": "2024-05-15T08:52:52.504216Z",
     "iopub.status.busy": "2024-05-15T08:52:52.503726Z",
     "iopub.status.idle": "2024-05-15T08:52:53.214374Z",
     "shell.execute_reply": "2024-05-15T08:52:53.213090Z"
    },
    "papermill": {
     "duration": 0.737049,
     "end_time": "2024-05-15T08:52:53.217159",
     "exception": false,
     "start_time": "2024-05-15T08:52:52.480110",
     "status": "completed"
    },
    "tags": []
   },
   "outputs": [
    {
     "data": {
      "image/png": "[encoded data removed]",
      "text/plain": [
       "<Figure size 640x480 with 1 Axes>"
      ]
     },
     "metadata": {},
     "output_type": "display_data"
    }
   ],
   "source": [
    "model.plot()"
   ]
  },
  {
   "cell_type": "code",
   "execution_count": 35,
   "id": "267e3582",
   "metadata": {
    "execution": {
     "iopub.execute_input": "2024-05-15T08:52:53.264430Z",
     "iopub.status.busy": "2024-05-15T08:52:53.262766Z",
     "iopub.status.idle": "2024-05-15T08:52:53.271754Z",
     "shell.execute_reply": "2024-05-15T08:52:53.270481Z"
    },
    "papermill": {
     "duration": 0.037098,
     "end_time": "2024-05-15T08:52:53.276232",
     "exception": false,
     "start_time": "2024-05-15T08:52:53.239134",
     "status": "completed"
    },
    "tags": []
   },
   "outputs": [
    {
     "name": "stdout",
     "output_type": "stream",
     "text": [
      "Accuracy: 0.7111111111111111\n"
     ]
    },
    {
     "name": "stderr",
     "output_type": "stream",
     "text": [
      "/tmp/ipykernel_18/372245163.py:42: RuntimeWarning: overflow encountered in exp\n",
      "  predication = 1.0 / (1.0 + np.exp(-z))\n"
     ]
    }
   ],
   "source": [
    "model.eval(x_test, y_test)"
   ]
  },
  {
   "cell_type": "markdown",
   "id": "3353399b",
   "metadata": {
    "papermill": {
     "duration": 0.023172,
     "end_time": "2024-05-15T08:52:53.324607",
     "exception": false,
     "start_time": "2024-05-15T08:52:53.301435",
     "status": "completed"
    },
    "tags": []
   },
   "source": [
    "# Group samples of class 2 and class 3 together to form new class (Class II)\n"
   ]
  },
  {
   "cell_type": "code",
   "execution_count": 36,
   "id": "ed6ec7a9",
   "metadata": {
    "execution": {
     "iopub.execute_input": "2024-05-15T08:52:53.372013Z",
     "iopub.status.busy": "2024-05-15T08:52:53.371455Z",
     "iopub.status.idle": "2024-05-15T08:52:53.383246Z",
     "shell.execute_reply": "2024-05-15T08:52:53.381891Z"
    },
    "papermill": {
     "duration": 0.039049,
     "end_time": "2024-05-15T08:52:53.385959",
     "exception": false,
     "start_time": "2024-05-15T08:52:53.346910",
     "status": "completed"
    },
    "tags": []
   },
   "outputs": [],
   "source": [
    "Y_train = np.where(y_train == 2, 1, y_train)\n",
    "\n",
    "X_train_class1, X_test_class1, Y_train_class1, Y_test_class1 = train_test_split(\n",
    "    x_train[y_train == 0], Y_train[y_train == 0], test_size=0.2, random_state=42\n",
    ")\n",
    "X_train_class2, X_test_class2, Y_train_class2, Y_test_class2 = train_test_split(\n",
    "    x_train[y_train == 1], Y_train[y_train == 1], test_size=0.2, random_state=42\n",
    ")\n",
    "\n",
    "X_train = np.concatenate((X_train_class1, X_train_class2), axis=0)\n",
    "X_test = np.concatenate((X_test_class1, X_test_class2), axis=0)\n",
    "Y_train = np.concatenate((Y_train_class1, Y_train_class2), axis=0)\n",
    "Y_test = np.concatenate((Y_test_class1, Y_test_class2), axis=0)"
   ]
  },
  {
   "cell_type": "code",
   "execution_count": 37,
   "id": "992ba4fd",
   "metadata": {
    "execution": {
     "iopub.execute_input": "2024-05-15T08:52:53.432926Z",
     "iopub.status.busy": "2024-05-15T08:52:53.432207Z",
     "iopub.status.idle": "2024-05-15T08:52:53.453802Z",
     "shell.execute_reply": "2024-05-15T08:52:53.452334Z"
    },
    "papermill": {
     "duration": 0.048214,
     "end_time": "2024-05-15T08:52:53.456727",
     "exception": false,
     "start_time": "2024-05-15T08:52:53.408513",
     "status": "completed"
    },
    "tags": []
   },
   "outputs": [],
   "source": [
    "model = LogisticRegression()"
   ]
  },
  {
   "cell_type": "code",
   "execution_count": 38,
   "id": "9b47325c",
   "metadata": {
    "execution": {
     "iopub.execute_input": "2024-05-15T08:52:53.504233Z",
     "iopub.status.busy": "2024-05-15T08:52:53.503817Z",
     "iopub.status.idle": "2024-05-15T08:54:40.412071Z",
     "shell.execute_reply": "2024-05-15T08:54:40.410755Z"
    },
    "papermill": {
     "duration": 106.958715,
     "end_time": "2024-05-15T08:54:40.438506",
     "exception": false,
     "start_time": "2024-05-15T08:52:53.479791",
     "status": "completed"
    },
    "tags": []
   },
   "outputs": [
    {
     "name": "stdout",
     "output_type": "stream",
     "text": [
      "\n",
      "Final Loss: 5.837872386078779e-05\n",
      "Final Accuracy: 1.0\n"
     ]
    }
   ],
   "source": [
    "model.fit(X_train, Y_train)"
   ]
  },
  {
   "cell_type": "code",
   "execution_count": 39,
   "id": "410c7e11",
   "metadata": {
    "execution": {
     "iopub.execute_input": "2024-05-15T08:54:40.487782Z",
     "iopub.status.busy": "2024-05-15T08:54:40.486384Z",
     "iopub.status.idle": "2024-05-15T08:54:45.768699Z",
     "shell.execute_reply": "2024-05-15T08:54:45.767039Z"
    },
    "papermill": {
     "duration": 5.311272,
     "end_time": "2024-05-15T08:54:45.772466",
     "exception": false,
     "start_time": "2024-05-15T08:54:40.461194",
     "status": "completed"
    },
    "tags": []
   },
   "outputs": [
    {
     "data": {
      "image/png": "[encoded data removed]",
      "text/plain": [
       "<Figure size 640x480 with 1 Axes>"
      ]
     },
     "metadata": {},
     "output_type": "display_data"
    }
   ],
   "source": [
    "model.plot()"
   ]
  },
  {
   "cell_type": "code",
   "execution_count": 40,
   "id": "9cf2e4e8",
   "metadata": {
    "execution": {
     "iopub.execute_input": "2024-05-15T08:54:45.822802Z",
     "iopub.status.busy": "2024-05-15T08:54:45.822341Z",
     "iopub.status.idle": "2024-05-15T08:54:45.829013Z",
     "shell.execute_reply": "2024-05-15T08:54:45.827432Z"
    },
    "papermill": {
     "duration": 0.036551,
     "end_time": "2024-05-15T08:54:45.832065",
     "exception": false,
     "start_time": "2024-05-15T08:54:45.795514",
     "status": "completed"
    },
    "tags": []
   },
   "outputs": [
    {
     "name": "stdout",
     "output_type": "stream",
     "text": [
      "Accuracy: 1.0\n"
     ]
    }
   ],
   "source": [
    "model.eval(X_test, Y_test)"
   ]
  },
  {
   "cell_type": "code",
   "execution_count": 41,
   "id": "08dc0ad3",
   "metadata": {
    "execution": {
     "iopub.execute_input": "2024-05-15T08:54:45.880835Z",
     "iopub.status.busy": "2024-05-15T08:54:45.880325Z",
     "iopub.status.idle": "2024-05-15T08:54:45.885790Z",
     "shell.execute_reply": "2024-05-15T08:54:45.884802Z"
    },
    "papermill": {
     "duration": 0.032972,
     "end_time": "2024-05-15T08:54:45.888012",
     "exception": false,
     "start_time": "2024-05-15T08:54:45.855040",
     "status": "completed"
    },
    "tags": []
   },
   "outputs": [],
   "source": [
    "Y_pred = model.predict(X_test)"
   ]
  },
  {
   "cell_type": "code",
   "execution_count": 42,
   "id": "49385dbd",
   "metadata": {
    "execution": {
     "iopub.execute_input": "2024-05-15T08:54:45.936760Z",
     "iopub.status.busy": "2024-05-15T08:54:45.936257Z",
     "iopub.status.idle": "2024-05-15T08:54:45.944067Z",
     "shell.execute_reply": "2024-05-15T08:54:45.943057Z"
    },
    "papermill": {
     "duration": 0.035184,
     "end_time": "2024-05-15T08:54:45.946324",
     "exception": false,
     "start_time": "2024-05-15T08:54:45.911140",
     "status": "completed"
    },
    "tags": []
   },
   "outputs": [
    {
     "data": {
      "text/plain": [
       "array([2.25235586e-06, 4.64047127e-05, 8.70260402e-06, 6.27353077e-07,\n",
       "       7.01540671e-06, 8.97191652e-07, 2.77522082e-04, 1.00000000e+00,\n",
       "       9.99999435e-01, 9.99999893e-01, 9.99999518e-01, 9.99999897e-01,\n",
       "       9.99998453e-01, 9.99999944e-01, 9.99999998e-01])"
      ]
     },
     "execution_count": 42,
     "metadata": {},
     "output_type": "execute_result"
    }
   ],
   "source": [
    "Y_pred"
   ]
  },
  {
   "cell_type": "markdown",
   "id": "3efd9a94",
   "metadata": {
    "papermill": {
     "duration": 0.022984,
     "end_time": "2024-05-15T08:54:45.992778",
     "exception": false,
     "start_time": "2024-05-15T08:54:45.969794",
     "status": "completed"
    },
    "tags": []
   },
   "source": [
    "# Group samples of class 1 and class 3 together to form new class (Class II)\n"
   ]
  },
  {
   "cell_type": "code",
   "execution_count": 43,
   "id": "4cb4be59",
   "metadata": {
    "execution": {
     "iopub.execute_input": "2024-05-15T08:54:46.043351Z",
     "iopub.status.busy": "2024-05-15T08:54:46.042907Z",
     "iopub.status.idle": "2024-05-15T08:54:46.054741Z",
     "shell.execute_reply": "2024-05-15T08:54:46.053590Z"
    },
    "papermill": {
     "duration": 0.039286,
     "end_time": "2024-05-15T08:54:46.057138",
     "exception": false,
     "start_time": "2024-05-15T08:54:46.017852",
     "status": "completed"
    },
    "tags": []
   },
   "outputs": [],
   "source": [
    "Y_train = np.where(y_train == 2, 0, y_train)\n",
    "\n",
    "X_train_class1, X_test_class1, Y_train_class1, Y_test_class1 = train_test_split(\n",
    "    x_train[y_train == 0], Y_train[y_train == 0], test_size=0.2, random_state=42\n",
    ")\n",
    "X_train_class2, X_test_class2, Y_train_class2, Y_test_class2 = train_test_split(\n",
    "    x_train[y_train == 1], Y_train[y_train == 1], test_size=0.2, random_state=42\n",
    ")\n",
    "\n",
    "X_train = np.concatenate((X_train_class1, X_train_class2), axis=0)\n",
    "X_test = np.concatenate((X_test_class1, X_test_class2), axis=0)\n",
    "Y_train = np.concatenate((Y_train_class1, Y_train_class2), axis=0)\n",
    "Y_test = np.concatenate((Y_test_class1, Y_test_class2), axis=0)"
   ]
  },
  {
   "cell_type": "code",
   "execution_count": 44,
   "id": "47fcccdf",
   "metadata": {
    "execution": {
     "iopub.execute_input": "2024-05-15T08:54:46.106084Z",
     "iopub.status.busy": "2024-05-15T08:54:46.105627Z",
     "iopub.status.idle": "2024-05-15T08:54:46.195253Z",
     "shell.execute_reply": "2024-05-15T08:54:46.193669Z"
    },
    "papermill": {
     "duration": 0.117309,
     "end_time": "2024-05-15T08:54:46.197936",
     "exception": false,
     "start_time": "2024-05-15T08:54:46.080627",
     "status": "completed"
    },
    "tags": []
   },
   "outputs": [],
   "source": [
    "model = LogisticRegression()"
   ]
  },
  {
   "cell_type": "code",
   "execution_count": 45,
   "id": "9ba3097c",
   "metadata": {
    "execution": {
     "iopub.execute_input": "2024-05-15T08:54:46.247288Z",
     "iopub.status.busy": "2024-05-15T08:54:46.246778Z",
     "iopub.status.idle": "2024-05-15T08:56:46.526556Z",
     "shell.execute_reply": "2024-05-15T08:56:46.525022Z"
    },
    "papermill": {
     "duration": 120.331157,
     "end_time": "2024-05-15T08:56:46.552758",
     "exception": false,
     "start_time": "2024-05-15T08:54:46.221601",
     "status": "completed"
    },
    "tags": []
   },
   "outputs": [
    {
     "name": "stdout",
     "output_type": "stream",
     "text": [
      "\n",
      "Final Loss: 5.830138011383392e-05\n",
      "Final Accuracy: 1.0\n"
     ]
    }
   ],
   "source": [
    "model.fit(X_train, Y_train)"
   ]
  },
  {
   "cell_type": "code",
   "execution_count": 46,
   "id": "65ee789a",
   "metadata": {
    "execution": {
     "iopub.execute_input": "2024-05-15T08:56:46.602656Z",
     "iopub.status.busy": "2024-05-15T08:56:46.601406Z",
     "iopub.status.idle": "2024-05-15T08:56:51.827946Z",
     "shell.execute_reply": "2024-05-15T08:56:51.826340Z"
    },
    "papermill": {
     "duration": 5.254777,
     "end_time": "2024-05-15T08:56:51.830819",
     "exception": false,
     "start_time": "2024-05-15T08:56:46.576042",
     "status": "completed"
    },
    "tags": []
   },
   "outputs": [
    {
     "data": {
      "image/png": "[encoded data removed]",
      "text/plain": [
       "<Figure size 640x480 with 1 Axes>"
      ]
     },
     "metadata": {},
     "output_type": "display_data"
    }
   ],
   "source": [
    "model.plot()"
   ]
  },
  {
   "cell_type": "code",
   "execution_count": 47,
   "id": "89d5bb8f",
   "metadata": {
    "execution": {
     "iopub.execute_input": "2024-05-15T08:56:51.882634Z",
     "iopub.status.busy": "2024-05-15T08:56:51.882155Z",
     "iopub.status.idle": "2024-05-15T08:56:51.889166Z",
     "shell.execute_reply": "2024-05-15T08:56:51.887637Z"
    },
    "papermill": {
     "duration": 0.03633,
     "end_time": "2024-05-15T08:56:51.891833",
     "exception": false,
     "start_time": "2024-05-15T08:56:51.855503",
     "status": "completed"
    },
    "tags": []
   },
   "outputs": [
    {
     "name": "stdout",
     "output_type": "stream",
     "text": [
      "Accuracy: 1.0\n"
     ]
    }
   ],
   "source": [
    "model.eval(X_test, Y_test)"
   ]
  },
  {
   "cell_type": "code",
   "execution_count": 48,
   "id": "d1f8e92e",
   "metadata": {
    "execution": {
     "iopub.execute_input": "2024-05-15T08:56:51.943723Z",
     "iopub.status.busy": "2024-05-15T08:56:51.942850Z",
     "iopub.status.idle": "2024-05-15T08:56:51.948877Z",
     "shell.execute_reply": "2024-05-15T08:56:51.947465Z"
    },
    "papermill": {
     "duration": 0.034526,
     "end_time": "2024-05-15T08:56:51.951369",
     "exception": false,
     "start_time": "2024-05-15T08:56:51.916843",
     "status": "completed"
    },
    "tags": []
   },
   "outputs": [],
   "source": [
    "Y_pred = model.predict(X_test)"
   ]
  },
  {
   "cell_type": "code",
   "execution_count": 49,
   "id": "4f03c5c3",
   "metadata": {
    "execution": {
     "iopub.execute_input": "2024-05-15T08:56:52.002661Z",
     "iopub.status.busy": "2024-05-15T08:56:52.001779Z",
     "iopub.status.idle": "2024-05-15T08:56:52.012072Z",
     "shell.execute_reply": "2024-05-15T08:56:52.010619Z"
    },
    "papermill": {
     "duration": 0.039026,
     "end_time": "2024-05-15T08:56:52.014718",
     "exception": false,
     "start_time": "2024-05-15T08:56:51.975692",
     "status": "completed"
    },
    "tags": []
   },
   "outputs": [
    {
     "data": {
      "text/plain": [
       "array([2.14655312e-06, 4.62929455e-05, 8.25629996e-06, 5.97791559e-07,\n",
       "       6.69872998e-06, 8.94260135e-07, 2.89650183e-04, 1.00000000e+00,\n",
       "       9.99999435e-01, 9.99999890e-01, 9.99999479e-01, 9.99999903e-01,\n",
       "       9.99998317e-01, 9.99999941e-01, 9.99999998e-01])"
      ]
     },
     "execution_count": 49,
     "metadata": {},
     "output_type": "execute_result"
    }
   ],
   "source": [
    "Y_pred"
   ]
  },
  {
   "cell_type": "markdown",
   "id": "d448937c",
   "metadata": {
    "papermill": {
     "duration": 0.024017,
     "end_time": "2024-05-15T08:56:52.063438",
     "exception": false,
     "start_time": "2024-05-15T08:56:52.039421",
     "status": "completed"
    },
    "tags": []
   },
   "source": [
    "# Group samples of class 1 and class 2 together to form new class (Class II)\n"
   ]
  },
  {
   "cell_type": "code",
   "execution_count": 50,
   "id": "d5fc0e39",
   "metadata": {
    "execution": {
     "iopub.execute_input": "2024-05-15T08:56:52.115139Z",
     "iopub.status.busy": "2024-05-15T08:56:52.114683Z",
     "iopub.status.idle": "2024-05-15T08:56:52.126693Z",
     "shell.execute_reply": "2024-05-15T08:56:52.125392Z"
    },
    "papermill": {
     "duration": 0.040593,
     "end_time": "2024-05-15T08:56:52.129252",
     "exception": false,
     "start_time": "2024-05-15T08:56:52.088659",
     "status": "completed"
    },
    "tags": []
   },
   "outputs": [],
   "source": [
    "Y_train = np.where(y_train == 1, 0, y_train)\n",
    "\n",
    "X_train_class1, X_test_class1, Y_train_class1, Y_test_class1 = train_test_split(\n",
    "    x_train[y_train == 0], Y_train[y_train == 0], test_size=0.2, random_state=42\n",
    ")\n",
    "X_train_class2, X_test_class2, Y_train_class2, Y_test_class2 = train_test_split(\n",
    "    x_train[y_train == 1], Y_train[y_train == 1], test_size=0.2, random_state=42\n",
    ")\n",
    "\n",
    "X_train = np.concatenate((X_train_class1, X_train_class2), axis=0)\n",
    "X_test = np.concatenate((X_test_class1, X_test_class2), axis=0)\n",
    "Y_train = np.concatenate((Y_train_class1, Y_train_class2), axis=0)\n",
    "Y_test = np.concatenate((Y_test_class1, Y_test_class2), axis=0)"
   ]
  },
  {
   "cell_type": "code",
   "execution_count": 51,
   "id": "38543a37",
   "metadata": {
    "execution": {
     "iopub.execute_input": "2024-05-15T08:56:52.181677Z",
     "iopub.status.busy": "2024-05-15T08:56:52.181187Z",
     "iopub.status.idle": "2024-05-15T08:56:52.268088Z",
     "shell.execute_reply": "2024-05-15T08:56:52.267064Z"
    },
    "papermill": {
     "duration": 0.116209,
     "end_time": "2024-05-15T08:56:52.270659",
     "exception": false,
     "start_time": "2024-05-15T08:56:52.154450",
     "status": "completed"
    },
    "tags": []
   },
   "outputs": [],
   "source": [
    "model = LogisticRegression()"
   ]
  },
  {
   "cell_type": "code",
   "execution_count": 52,
   "id": "b908495d",
   "metadata": {
    "execution": {
     "iopub.execute_input": "2024-05-15T08:56:52.322417Z",
     "iopub.status.busy": "2024-05-15T08:56:52.322020Z",
     "iopub.status.idle": "2024-05-15T08:58:49.451325Z",
     "shell.execute_reply": "2024-05-15T08:58:49.449635Z"
    },
    "papermill": {
     "duration": 117.184695,
     "end_time": "2024-05-15T08:58:49.480071",
     "exception": false,
     "start_time": "2024-05-15T08:56:52.295376",
     "status": "completed"
    },
    "tags": []
   },
   "outputs": [
    {
     "name": "stdout",
     "output_type": "stream",
     "text": [
      "\n",
      "Final Loss: 2.7626120033600145e-06\n",
      "Final Accuracy: 1.0\n"
     ]
    }
   ],
   "source": [
    "model.fit(X_train, Y_train)"
   ]
  },
  {
   "cell_type": "code",
   "execution_count": 53,
   "id": "72ea17c6",
   "metadata": {
    "execution": {
     "iopub.execute_input": "2024-05-15T08:58:49.535103Z",
     "iopub.status.busy": "2024-05-15T08:58:49.534221Z",
     "iopub.status.idle": "2024-05-15T08:58:54.779696Z",
     "shell.execute_reply": "2024-05-15T08:58:54.778193Z"
    },
    "papermill": {
     "duration": 5.276276,
     "end_time": "2024-05-15T08:58:54.782975",
     "exception": false,
     "start_time": "2024-05-15T08:58:49.506699",
     "status": "completed"
    },
    "tags": []
   },
   "outputs": [
    {
     "data": {
      "image/png": "[encoded data removed]",
      "text/plain": [
       "<Figure size 640x480 with 1 Axes>"
      ]
     },
     "metadata": {},
     "output_type": "display_data"
    }
   ],
   "source": [
    "model.plot()"
   ]
  },
  {
   "cell_type": "code",
   "execution_count": 54,
   "id": "3f7c60ad",
   "metadata": {
    "execution": {
     "iopub.execute_input": "2024-05-15T08:58:54.837428Z",
     "iopub.status.busy": "2024-05-15T08:58:54.836700Z",
     "iopub.status.idle": "2024-05-15T08:58:54.843916Z",
     "shell.execute_reply": "2024-05-15T08:58:54.841793Z"
    },
    "papermill": {
     "duration": 0.040001,
     "end_time": "2024-05-15T08:58:54.849074",
     "exception": false,
     "start_time": "2024-05-15T08:58:54.809073",
     "status": "completed"
    },
    "tags": []
   },
   "outputs": [
    {
     "name": "stdout",
     "output_type": "stream",
     "text": [
      "Accuracy: 1.0\n"
     ]
    }
   ],
   "source": [
    "model.eval(X_test, Y_test)"
   ]
  },
  {
   "cell_type": "code",
   "execution_count": 55,
   "id": "b8960114",
   "metadata": {
    "execution": {
     "iopub.execute_input": "2024-05-15T08:58:54.904871Z",
     "iopub.status.busy": "2024-05-15T08:58:54.904128Z",
     "iopub.status.idle": "2024-05-15T08:58:54.909482Z",
     "shell.execute_reply": "2024-05-15T08:58:54.908552Z"
    },
    "papermill": {
     "duration": 0.035415,
     "end_time": "2024-05-15T08:58:54.912135",
     "exception": false,
     "start_time": "2024-05-15T08:58:54.876720",
     "status": "completed"
    },
    "tags": []
   },
   "outputs": [],
   "source": [
    "Y_pred = model.predict(X_test)"
   ]
  },
  {
   "cell_type": "code",
   "execution_count": 56,
   "id": "de8feb66",
   "metadata": {
    "execution": {
     "iopub.execute_input": "2024-05-15T08:58:54.965363Z",
     "iopub.status.busy": "2024-05-15T08:58:54.964717Z",
     "iopub.status.idle": "2024-05-15T08:58:54.972944Z",
     "shell.execute_reply": "2024-05-15T08:58:54.971278Z"
    },
    "papermill": {
     "duration": 0.038644,
     "end_time": "2024-05-15T08:58:54.976371",
     "exception": false,
     "start_time": "2024-05-15T08:58:54.937727",
     "status": "completed"
    },
    "tags": []
   },
   "outputs": [
    {
     "data": {
      "text/plain": [
       "array([1.24415221e-06, 3.52160669e-06, 1.36112228e-06, 2.10139234e-06,\n",
       "       1.94220454e-06, 9.32398543e-07, 5.76052774e-07, 5.19405488e-06,\n",
       "       2.43882699e-06, 1.46656081e-06, 5.82013826e-06, 2.02402995e-06,\n",
       "       1.16229913e-05, 4.54439021e-06, 3.23982492e-06])"
      ]
     },
     "execution_count": 56,
     "metadata": {},
     "output_type": "execute_result"
    }
   ],
   "source": [
    "Y_pred"
   ]
  }
 ],
 "metadata": {
  "kaggle": {
   "accelerator": "none",
   "dataSources": [],
   "dockerImageVersionId": 30698,
   "isGpuEnabled": false,
   "isInternetEnabled": true,
   "language": "python",
   "sourceType": "notebook"
  },
  "kernelspec": {
   "display_name": "base",
   "language": "python",
   "name": "python3"
  },
  "language_info": {
   "codemirror_mode": {
    "name": "ipython",
    "version": 3
   },
   "file_extension": ".py",
   "mimetype": "text/x-python",
   "name": "python",
   "nbconvert_exporter": "python",
   "pygments_lexer": "ipython3",
   "version": "3.10.13"
  },
  "papermill": {
   "default_parameters": {},
   "duration": 433.592453,
   "end_time": "2024-05-15T08:58:56.135007",
   "environment_variables": {},
   "exception": null,
   "input_path": "__notebook__.ipynb",
   "output_path": "__notebook__.ipynb",
   "parameters": {},
   "start_time": "2024-05-15T08:51:42.542554",
   "version": "2.5.0"
  }
 },
 "nbformat": 4,
 "nbformat_minor": 5
}
