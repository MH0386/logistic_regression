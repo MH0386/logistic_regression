{
 "cells": [
  {
   "cell_type": "code",
   "execution_count": 1,
   "id": "670cbab1",
   "metadata": {
    "execution": {
     "iopub.execute_input": "2024-05-11T19:54:48.905183Z",
     "iopub.status.busy": "2024-05-11T19:54:48.904764Z",
     "iopub.status.idle": "2024-05-11T19:54:51.640717Z",
     "shell.execute_reply": "2024-05-11T19:54:51.639249Z"
    },
    "papermill": {
     "duration": 2.744911,
     "end_time": "2024-05-11T19:54:51.643448",
     "exception": false,
     "start_time": "2024-05-11T19:54:48.898537",
     "status": "completed"
    },
    "tags": []
   },
   "outputs": [],
   "source": [
    "import numpy as np\n",
    "import matplotlib.pyplot as plt\n",
    "from sklearn import datasets\n",
    "from sklearn.model_selection import train_test_split\n",
    "import sys\n",
    "import pandas as pd"
   ]
  },
  {
   "cell_type": "code",
   "execution_count": 2,
   "id": "f7ac88dc",
   "metadata": {
    "execution": {
     "iopub.execute_input": "2024-05-11T19:54:51.654706Z",
     "iopub.status.busy": "2024-05-11T19:54:51.653580Z",
     "iopub.status.idle": "2024-05-11T19:54:51.669096Z",
     "shell.execute_reply": "2024-05-11T19:54:51.667548Z"
    },
    "papermill": {
     "duration": 0.024051,
     "end_time": "2024-05-11T19:54:51.672123",
     "exception": false,
     "start_time": "2024-05-11T19:54:51.648072",
     "status": "completed"
    },
    "tags": []
   },
   "outputs": [],
   "source": [
    "iris = datasets.load_iris()\n",
    "x = iris.data\n",
    "y = iris.target"
   ]
  },
  {
   "cell_type": "code",
   "execution_count": 3,
   "id": "7b69a78d",
   "metadata": {
    "execution": {
     "iopub.execute_input": "2024-05-11T19:54:51.682331Z",
     "iopub.status.busy": "2024-05-11T19:54:51.681922Z",
     "iopub.status.idle": "2024-05-11T19:54:51.690517Z",
     "shell.execute_reply": "2024-05-11T19:54:51.689384Z"
    },
    "papermill": {
     "duration": 0.016469,
     "end_time": "2024-05-11T19:54:51.692919",
     "exception": false,
     "start_time": "2024-05-11T19:54:51.676450",
     "status": "completed"
    },
    "tags": []
   },
   "outputs": [
    {
     "data": {
      "text/plain": [
       "(150,)"
      ]
     },
     "execution_count": 3,
     "metadata": {},
     "output_type": "execute_result"
    }
   ],
   "source": [
    "y.shape"
   ]
  },
  {
   "cell_type": "code",
   "execution_count": 4,
   "id": "17f222c5",
   "metadata": {
    "execution": {
     "iopub.execute_input": "2024-05-11T19:54:51.703955Z",
     "iopub.status.busy": "2024-05-11T19:54:51.703458Z",
     "iopub.status.idle": "2024-05-11T19:54:51.712811Z",
     "shell.execute_reply": "2024-05-11T19:54:51.711706Z"
    },
    "papermill": {
     "duration": 0.01768,
     "end_time": "2024-05-11T19:54:51.715157",
     "exception": false,
     "start_time": "2024-05-11T19:54:51.697477",
     "status": "completed"
    },
    "tags": []
   },
   "outputs": [
    {
     "data": {
      "text/plain": [
       "array([0, 1, 2])"
      ]
     },
     "execution_count": 4,
     "metadata": {},
     "output_type": "execute_result"
    }
   ],
   "source": [
    "np.unique(y)"
   ]
  },
  {
   "cell_type": "code",
   "execution_count": 5,
   "id": "a0d8eaf1",
   "metadata": {
    "execution": {
     "iopub.execute_input": "2024-05-11T19:54:51.726446Z",
     "iopub.status.busy": "2024-05-11T19:54:51.726051Z",
     "iopub.status.idle": "2024-05-11T19:54:51.750791Z",
     "shell.execute_reply": "2024-05-11T19:54:51.749646Z"
    },
    "papermill": {
     "duration": 0.033327,
     "end_time": "2024-05-11T19:54:51.753216",
     "exception": false,
     "start_time": "2024-05-11T19:54:51.719889",
     "status": "completed"
    },
    "tags": []
   },
   "outputs": [],
   "source": [
    "class LogisticRegression:\n",
    "    def __init__(self, lr=0.01, num_iter=10000, verbose=False, multi_class=False):\n",
    "        self.lr = lr\n",
    "        self.num_iter = num_iter\n",
    "        self.verbose = verbose\n",
    "        self.multi_class = multi_class\n",
    "        self.weights = None\n",
    "        self.bias = None\n",
    "        self.x = None\n",
    "        self.y = None\n",
    "        self.classes_ = None\n",
    "        self.m = None\n",
    "        self.n = None\n",
    "        self.losses = []\n",
    "        self.accuracies = []\n",
    "\n",
    "    def softmax(self, x):\n",
    "        e_x = np.exp(x) \n",
    "        return e_x / e_x.sum(axis=1, keepdims=True)\n",
    "\n",
    "    def gradient_descent(self):\n",
    "        y_hat = self.predict(self.x)\n",
    "        # print(y_hat)\n",
    "        dw = (1 / self.m) * np.dot(self.x.T, (y_hat - self.y))\n",
    "        db = (1 / self.m) * np.sum(y_hat - self.y)\n",
    "        self.weights -= self.lr * dw\n",
    "        self.bias -= self.lr * db\n",
    "\n",
    "    def predict(self, x):\n",
    "        z = np.dot(x, self.weights) + self.bias\n",
    "        predication = 1.0 / (1 + np.exp(-z))\n",
    "        if self.multi_class:\n",
    "            return self.softmax(predication)\n",
    "        return predication\n",
    "\n",
    "    def plot(self):\n",
    "        plt.plot(self.losses)\n",
    "        plt.plot(self.accuracies)\n",
    "        plt.xlabel(\"Number of iterations\")\n",
    "        plt.ylabel(\"Loss\")\n",
    "        plt.legend([\"Loss\", \"Accuracy\"])\n",
    "        plt.show()\n",
    "\n",
    "    def loss(self):\n",
    "        y_hat = self.predict(self.x)\n",
    "        self.losses.append(\n",
    "            (-1 / self.m)\n",
    "            * np.sum(\n",
    "                self.y * np.log(y_hat + sys.float_info.min)\n",
    "                + (1 - self.y) * np.log(1 - y_hat + sys.float_info.min)\n",
    "            )\n",
    "        )\n",
    "        return self.losses[-1]\n",
    "\n",
    "    def accuracy(self):\n",
    "        y_hat = self.predict(self.x)\n",
    "        self.accuracies.append(\n",
    "            np.sum(y_hat.argmax(axis=1) == self.y.argmax(axis=1)) / self.m\n",
    "        )\n",
    "\n",
    "    def fit(self, x, y):    \n",
    "        self.x = x\n",
    "        self.y = y\n",
    "        if self.multi_class:\n",
    "            self.classes_ = np.unique(self.y)\n",
    "            self.y = pd.get_dummies(self.y).values\n",
    "            self.n = x.shape[1]\n",
    "            self.m = x.shape[0]\n",
    "            self.weights = np.random.rand(self.n, len(self.classes_))\n",
    "            self.bias = np.random.rand(len(self.classes_))\n",
    "        else:\n",
    "            self.m, self.n = x.shape\n",
    "            print(f\"Number of features: {self.n}, Number of samples: {self.m}\")\n",
    "            self.weights = np.random.rand(self.n)\n",
    "            self.bias = np.random.rand()\n",
    "        for _ in range(self.num_iter):\n",
    "            self.gradient_descent()\n",
    "            self.loss()\n",
    "            self.accuracy()\n",
    "            if self.verbose:\n",
    "                print(f\"\\tLoss: {self.losses[-1]}\")\n",
    "                print(f\"\\tAccuracy: {self.accuracies[-1]}\")\n",
    "        print(f\"Final weights: {self.weights}\")\n",
    "        print(f\"Final bias: {self.bias}\")\n",
    "    def eval(self, x, y):\n",
    "        self.x = x\n",
    "        self.y = y\n",
    "        if self.multi_class:\n",
    "            self.y = pd.get_dummies(self.y).values\n",
    "        self.accuracy()\n",
    "        print(f\"Accuracy: {self.accuracies[-1]}\")"
   ]
  },
  {
   "cell_type": "code",
   "execution_count": 6,
   "id": "fd7efe4d",
   "metadata": {
    "execution": {
     "iopub.execute_input": "2024-05-11T19:54:51.764666Z",
     "iopub.status.busy": "2024-05-11T19:54:51.763947Z",
     "iopub.status.idle": "2024-05-11T19:54:51.771163Z",
     "shell.execute_reply": "2024-05-11T19:54:51.769867Z"
    },
    "papermill": {
     "duration": 0.015684,
     "end_time": "2024-05-11T19:54:51.773686",
     "exception": false,
     "start_time": "2024-05-11T19:54:51.758002",
     "status": "completed"
    },
    "tags": []
   },
   "outputs": [],
   "source": [
    "x_train, x_test, y_train, y_test = train_test_split(x, y, test_size=0.3)"
   ]
  },
  {
   "cell_type": "code",
   "execution_count": 7,
   "id": "4c258b61",
   "metadata": {
    "execution": {
     "iopub.execute_input": "2024-05-11T19:54:51.785854Z",
     "iopub.status.busy": "2024-05-11T19:54:51.784891Z",
     "iopub.status.idle": "2024-05-11T19:54:51.790046Z",
     "shell.execute_reply": "2024-05-11T19:54:51.788902Z"
    },
    "papermill": {
     "duration": 0.013771,
     "end_time": "2024-05-11T19:54:51.792291",
     "exception": false,
     "start_time": "2024-05-11T19:54:51.778520",
     "status": "completed"
    },
    "tags": []
   },
   "outputs": [],
   "source": [
    "# y_train = np.where(y_train == 2, 1, 0)"
   ]
  },
  {
   "cell_type": "code",
   "execution_count": 8,
   "id": "8c7751ad",
   "metadata": {
    "execution": {
     "iopub.execute_input": "2024-05-11T19:54:51.803917Z",
     "iopub.status.busy": "2024-05-11T19:54:51.803502Z",
     "iopub.status.idle": "2024-05-11T19:54:51.810684Z",
     "shell.execute_reply": "2024-05-11T19:54:51.809597Z"
    },
    "papermill": {
     "duration": 0.015877,
     "end_time": "2024-05-11T19:54:51.813077",
     "exception": false,
     "start_time": "2024-05-11T19:54:51.797200",
     "status": "completed"
    },
    "tags": []
   },
   "outputs": [
    {
     "data": {
      "text/plain": [
       "array([0, 1, 2])"
      ]
     },
     "execution_count": 8,
     "metadata": {},
     "output_type": "execute_result"
    }
   ],
   "source": [
    "np.unique(y_train)"
   ]
  },
  {
   "cell_type": "code",
   "execution_count": 9,
   "id": "2efc4fb1",
   "metadata": {
    "execution": {
     "iopub.execute_input": "2024-05-11T19:54:51.825051Z",
     "iopub.status.busy": "2024-05-11T19:54:51.824647Z",
     "iopub.status.idle": "2024-05-11T19:54:51.829784Z",
     "shell.execute_reply": "2024-05-11T19:54:51.828503Z"
    },
    "papermill": {
     "duration": 0.013943,
     "end_time": "2024-05-11T19:54:51.832045",
     "exception": false,
     "start_time": "2024-05-11T19:54:51.818102",
     "status": "completed"
    },
    "tags": []
   },
   "outputs": [],
   "source": [
    "model = LogisticRegression(multi_class=True)"
   ]
  },
  {
   "cell_type": "code",
   "execution_count": 10,
   "id": "e567630e",
   "metadata": {
    "execution": {
     "iopub.execute_input": "2024-05-11T19:54:51.844514Z",
     "iopub.status.busy": "2024-05-11T19:54:51.844100Z",
     "iopub.status.idle": "2024-05-11T19:54:53.932117Z",
     "shell.execute_reply": "2024-05-11T19:54:53.931165Z"
    },
    "papermill": {
     "duration": 2.098214,
     "end_time": "2024-05-11T19:54:53.935597",
     "exception": false,
     "start_time": "2024-05-11T19:54:51.837383",
     "status": "completed"
    },
    "tags": []
   },
   "outputs": [
    {
     "name": "stdout",
     "output_type": "stream",
     "text": [
      "Final weights: [[  3.05310888   0.46861476  -2.45024198]\n",
      " [ 18.94236586  -3.56240876 -13.44795385]\n",
      " [-36.24448308   2.16566342  35.86821278]\n",
      " [-16.22506656  -1.61733734  18.83925679]]\n",
      "Final bias: [0.24491458 0.83449535 0.46190845]\n"
     ]
    }
   ],
   "source": [
    "model.fit(x_train, y_train)"
   ]
  },
  {
   "cell_type": "code",
   "execution_count": 11,
   "id": "efa2bdf9",
   "metadata": {
    "execution": {
     "iopub.execute_input": "2024-05-11T19:54:53.949984Z",
     "iopub.status.busy": "2024-05-11T19:54:53.949586Z",
     "iopub.status.idle": "2024-05-11T19:54:54.365987Z",
     "shell.execute_reply": "2024-05-11T19:54:54.364706Z"
    },
    "papermill": {
     "duration": 0.426086,
     "end_time": "2024-05-11T19:54:54.368792",
     "exception": false,
     "start_time": "2024-05-11T19:54:53.942706",
     "status": "completed"
    },
    "tags": []
   },
   "outputs": [
    {
     "data": {
      "image/png": "[encoded data removed]",
      "text/plain": [
       "<Figure size 640x480 with 1 Axes>"
      ]
     },
     "metadata": {},
     "output_type": "display_data"
    }
   ],
   "source": [
    "model.plot()"
   ]
  },
  {
   "cell_type": "code",
   "execution_count": 12,
   "id": "564bfde0",
   "metadata": {
    "execution": {
     "iopub.execute_input": "2024-05-11T19:54:54.382819Z",
     "iopub.status.busy": "2024-05-11T19:54:54.382367Z",
     "iopub.status.idle": "2024-05-11T19:54:54.388904Z",
     "shell.execute_reply": "2024-05-11T19:54:54.387817Z"
    },
    "papermill": {
     "duration": 0.016206,
     "end_time": "2024-05-11T19:54:54.391163",
     "exception": false,
     "start_time": "2024-05-11T19:54:54.374957",
     "status": "completed"
    },
    "tags": []
   },
   "outputs": [
    {
     "name": "stdout",
     "output_type": "stream",
     "text": [
      "Accuracy: 0.24761904761904763\n"
     ]
    }
   ],
   "source": [
    "model.eval(x_test, y_test)"
   ]
  }
 ],
 "metadata": {
  "kaggle": {
   "accelerator": "none",
   "dataSources": [],
   "isGpuEnabled": false,
   "isInternetEnabled": true,
   "language": "python",
   "sourceType": "notebook"
  },
  "kernelspec": {
   "display_name": "base",
   "language": "python",
   "name": "python3"
  },
  "language_info": {
   "codemirror_mode": {
    "name": "ipython",
    "version": 3
   },
   "file_extension": ".py",
   "mimetype": "text/x-python",
   "name": "python",
   "nbconvert_exporter": "python",
   "pygments_lexer": "ipython3",
   "version": "3.10.13"
  },
  "papermill": {
   "default_parameters": {},
   "duration": 9.347979,
   "end_time": "2024-05-11T19:54:55.018571",
   "environment_variables": {},
   "exception": null,
   "input_path": "__notebook__.ipynb",
   "output_path": "__notebook__.ipynb",
   "parameters": {},
   "start_time": "2024-05-11T19:54:45.670592",
   "version": "2.5.0"
  }
 },
 "nbformat": 4,
 "nbformat_minor": 5
}
