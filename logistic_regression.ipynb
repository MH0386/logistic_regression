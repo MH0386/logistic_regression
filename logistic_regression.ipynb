{
 "cells": [
  {
   "cell_type": "code",
   "execution_count": 1,
   "outputs": [],
   "source": [
    "from keras.datasets import mnist\n",
    "import numpy as np\n",
    "from matplotlib.pyplot import plot as plt\n",
    "import sys"
   ],
   "metadata": {
    "collapsed": false,
    "ExecuteTime": {
     "start_time": "2023-04-14T04:16:16.699119Z",
     "end_time": "2023-04-14T04:16:23.495514Z"
    }
   }
  },
  {
   "cell_type": "code",
   "execution_count": 2,
   "outputs": [],
   "source": [
    "def standardize(x):\n",
    "    return (x - np.mean(x)) / np.std(x)"
   ],
   "metadata": {
    "collapsed": false,
    "ExecuteTime": {
     "start_time": "2023-04-14T04:16:23.501026Z",
     "end_time": "2023-04-14T04:16:23.510042Z"
    }
   }
  },
  {
   "cell_type": "code",
   "execution_count": 3,
   "outputs": [],
   "source": [
    "def sigmoid(z):\n",
    "    return 1 / (1 + np.exp(-z))"
   ],
   "metadata": {
    "collapsed": false,
    "ExecuteTime": {
     "start_time": "2023-04-14T04:16:23.514043Z",
     "end_time": "2023-04-14T04:16:23.556042Z"
    }
   }
  },
  {
   "cell_type": "code",
   "execution_count": 4,
   "outputs": [],
   "source": [
    "def predict(X, W, b):\n",
    "    return sigmoid(np.dot(X, W) + b)"
   ],
   "metadata": {
    "collapsed": false,
    "ExecuteTime": {
     "start_time": "2023-04-14T04:16:23.534042Z",
     "end_time": "2023-04-14T04:16:23.556042Z"
    }
   }
  },
  {
   "cell_type": "code",
   "execution_count": 5,
   "outputs": [],
   "source": [
    "def cost(y, y_hat):\n",
    "    return np.mean(-y * np.log(y_hat + sys.float_info.min) - (1 - y) * np.log(1 - y_hat + sys.float_info.min))"
   ],
   "metadata": {
    "collapsed": false,
    "ExecuteTime": {
     "start_time": "2023-04-14T04:16:23.549036Z",
     "end_time": "2023-04-14T04:16:23.565041Z"
    }
   }
  },
  {
   "cell_type": "code",
   "execution_count": 6,
   "outputs": [],
   "source": [
    "def train(X, y, learning_rate, epochs):\n",
    "    W = np.random.random(X.shape[1])\n",
    "    b = np.random.random()\n",
    "    costs = np.array([])\n",
    "    for i in range(epochs):\n",
    "        y_hat = predict(X, W, b)\n",
    "        dW = np.dot(X.T, (y_hat - y)) / len(X)\n",
    "        db = np.mean(y_hat - y)\n",
    "        W -= learning_rate * dW\n",
    "        b -= learning_rate * db\n",
    "        if i % 100 == 0:\n",
    "            c: float = cost(y, y_hat)\n",
    "            costs = np.append(costs, c)\n",
    "            print(f\"Cost at epoch {i}: {c}\")\n",
    "    return W, b, costs"
   ],
   "metadata": {
    "collapsed": false,
    "ExecuteTime": {
     "start_time": "2023-04-14T04:16:23.568042Z",
     "end_time": "2023-04-14T04:16:23.626037Z"
    }
   }
  },
  {
   "cell_type": "code",
   "execution_count": 7,
   "outputs": [],
   "source": [
    "def test(X, y, W, b):\n",
    "    y_hat = predict(X, W, b)\n",
    "    y_hat = np.round(y_hat)\n",
    "    return accuracy(y, y_hat)"
   ],
   "metadata": {
    "collapsed": false,
    "ExecuteTime": {
     "start_time": "2023-04-14T04:16:23.583036Z",
     "end_time": "2023-04-14T04:16:23.626037Z"
    }
   }
  },
  {
   "cell_type": "code",
   "execution_count": 8,
   "outputs": [],
   "source": [
    "def k_fold_cross_validation(X, y, k, lr, epochs):\n",
    "    fold_size = len(X) // k\n",
    "    accuracies = []\n",
    "    for i in range(k):\n",
    "        # Divide the data into training and testing sets\n",
    "        X_train = np.concatenate([X[:i * fold_size], X[(i + 1) * fold_size:]])\n",
    "        Y_train = np.concatenate([y[:i * fold_size], y[(i + 1) * fold_size:]])\n",
    "        X_test = X[i * fold_size:(i + 1) * fold_size]\n",
    "        Y_test = y[i * fold_size:(i + 1) * fold_size]\n",
    "        # Train the model\n",
    "        print(f\"Fold {i + 1} of {k}:\")\n",
    "        w, b, c = train(X_train, Y_train, lr, epochs)\n",
    "        # Test the model\n",
    "        print(\"Testing...\")\n",
    "        acc = test(X_test, Y_test, w, b)\n",
    "        accuracies.append(acc)\n",
    "    return np.mean(accuracies), c"
   ],
   "metadata": {
    "collapsed": false,
    "ExecuteTime": {
     "start_time": "2023-04-14T04:16:23.602044Z",
     "end_time": "2023-04-14T04:16:23.627056Z"
    }
   }
  },
  {
   "cell_type": "code",
   "execution_count": 9,
   "outputs": [],
   "source": [
    "def accuracy(y, y_hat):\n",
    "    return np.mean(y == y_hat)"
   ],
   "metadata": {
    "collapsed": false,
    "ExecuteTime": {
     "start_time": "2023-04-14T04:16:23.611044Z",
     "end_time": "2023-04-14T04:16:23.627056Z"
    }
   }
  },
  {
   "cell_type": "code",
   "execution_count": 10,
   "outputs": [],
   "source": [
    "trainSet, testSet = mnist.load_data()"
   ],
   "metadata": {
    "collapsed": false,
    "ExecuteTime": {
     "start_time": "2023-04-14T04:16:23.629044Z",
     "end_time": "2023-04-14T04:16:23.966810Z"
    }
   }
  },
  {
   "cell_type": "code",
   "execution_count": 11,
   "outputs": [],
   "source": [
    "xTrain = trainSet[0].astype('float32')\n",
    "yTrain = trainSet[1].astype('int32')\n",
    "xTrain = xTrain.reshape(xTrain.shape[0], -1)\n",
    "xTrain = np.concatenate([xTrain[yTrain == 0], xTrain[yTrain == 1]])\n",
    "yTrain = np.concatenate([yTrain[yTrain == 0], yTrain[yTrain == 1]])\n",
    "xTrain = standardize(xTrain)"
   ],
   "metadata": {
    "collapsed": false,
    "ExecuteTime": {
     "start_time": "2023-04-14T04:16:23.972815Z",
     "end_time": "2023-04-14T04:16:24.199809Z"
    }
   }
  },
  {
   "cell_type": "code",
   "execution_count": null,
   "outputs": [
    {
     "name": "stdout",
     "output_type": "stream",
     "text": [
      "Cost at epoch 0: 241.38995581829113\n",
      "Cost at epoch 100: 14.49978947543174\n",
      "Cost at epoch 200: 4.85079782629973\n",
      "Cost at epoch 300: 3.1230496439639532\n",
      "Cost at epoch 400: 2.2848084427158093\n",
      "Cost at epoch 500: 2.0918444864745838\n",
      "Cost at epoch 600: 1.594845039580795\n",
      "Cost at epoch 700: 1.3579755145342982\n",
      "Cost at epoch 800: 1.1958911373346708\n",
      "Cost at epoch 900: 1.162807578881441\n",
      "Cost at epoch 0: 234.12104202523554\n",
      "Cost at epoch 100: 13.462075429803967\n",
      "Cost at epoch 200: 5.712521780786398\n",
      "Cost at epoch 300: 3.6492240819886863\n",
      "Cost at epoch 400: 2.4000777223229797\n",
      "Cost at epoch 500: 1.7246684573547368\n",
      "Cost at epoch 600: 1.5755453595109286\n",
      "Cost at epoch 700: 1.2174808844465321\n",
      "Cost at epoch 800: 1.170252479893867\n",
      "Cost at epoch 900: 1.0757132596427257\n",
      "Cost at epoch 0: 244.71870952205433\n",
      "Cost at epoch 100: 13.476920922233576\n",
      "Cost at epoch 200: 4.977631870793169\n",
      "Cost at epoch 300: 2.9653106533082036\n",
      "Cost at epoch 400: 2.1276714971600157\n",
      "Cost at epoch 500: 1.639838057104583\n",
      "Cost at epoch 600: 1.4376794325888806\n",
      "Cost at epoch 700: 1.204788676098882\n",
      "Cost at epoch 800: 1.1642541351730493\n",
      "Cost at epoch 900: 1.0155048881978879\n",
      "Cost at epoch 0: 241.96176166280685\n",
      "Cost at epoch 100: 15.056384877118683\n",
      "Cost at epoch 200: 5.317637200194612\n",
      "Cost at epoch 300: 3.5871648619724077\n",
      "Cost at epoch 400: 2.445819506088184\n",
      "Cost at epoch 500: 1.7206427423302462\n",
      "Cost at epoch 600: 1.341930347597109\n",
      "Cost at epoch 700: 1.2214269016505457\n",
      "Cost at epoch 800: 1.115119352248516\n",
      "Cost at epoch 900: 0.9599217615662214\n",
      "Cost at epoch 0: 260.6930973441007\n",
      "Cost at epoch 100: 11.810995131462057\n",
      "Cost at epoch 200: 4.699826263309979\n",
      "Cost at epoch 300: 2.7409038535490406\n",
      "Cost at epoch 400: 1.9274804983593852\n"
     ]
    }
   ],
   "source": [
    "average_accuracy, c = k_fold_cross_validation(xTrain, yTrain, 10, 0.01, 1000)\n",
    "print(average_accuracy)\n",
    "print(c)"
   ],
   "metadata": {
    "collapsed": false,
    "pycharm": {
     "is_executing": true
    }
   }
  },
  {
   "cell_type": "code",
   "execution_count": null,
   "outputs": [],
   "source": [
    "#graph the cost\n",
    "plt(c)"
   ],
   "metadata": {
    "collapsed": false,
    "pycharm": {
     "is_executing": true
    }
   }
  },
  {
   "cell_type": "code",
   "execution_count": null,
   "outputs": [],
   "source": [
    "o = 0\n",
    "h = np.log(o + 1e-15)\n",
    "h"
   ],
   "metadata": {
    "collapsed": false,
    "ExecuteTime": {
     "start_time": "2023-04-14T04:07:29.224859Z",
     "end_time": "2023-04-14T04:07:29.333293Z"
    },
    "pycharm": {
     "is_executing": true
    }
   }
  }
 ],
 "metadata": {
  "kernelspec": {
   "display_name": "Python 3",
   "language": "python",
   "name": "python3"
  },
  "language_info": {
   "codemirror_mode": {
    "name": "ipython",
    "version": 2
   },
   "file_extension": ".py",
   "mimetype": "text/x-python",
   "name": "python",
   "nbconvert_exporter": "python",
   "pygments_lexer": "ipython2",
   "version": "2.7.6"
  }
 },
 "nbformat": 4,
 "nbformat_minor": 0
}
