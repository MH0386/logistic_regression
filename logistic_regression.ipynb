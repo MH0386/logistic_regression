{
 "cells": [
  {
   "cell_type": "code",
   "execution_count": 37,
   "outputs": [],
   "source": [
    "from keras.datasets import mnist\n",
    "import numpy as np\n",
    "from matplotlib.pyplot import plot as plt\n",
    "import sys"
   ],
   "metadata": {
    "collapsed": false,
    "ExecuteTime": {
     "start_time": "2023-04-14T04:33:53.892551Z",
     "end_time": "2023-04-14T04:33:53.943548Z"
    }
   }
  },
  {
   "cell_type": "code",
   "execution_count": 38,
   "outputs": [],
   "source": [
    "def standardize(x):\n",
    "    return (x - np.mean(x)) / np.std(x)"
   ],
   "metadata": {
    "collapsed": false,
    "ExecuteTime": {
     "start_time": "2023-04-14T04:33:53.909546Z",
     "end_time": "2023-04-14T04:33:54.020577Z"
    }
   }
  },
  {
   "cell_type": "code",
   "execution_count": 39,
   "outputs": [],
   "source": [
    "def sigmoid(z):\n",
    "    return 1 / (1 + np.exp(-z))"
   ],
   "metadata": {
    "collapsed": false,
    "ExecuteTime": {
     "start_time": "2023-04-14T04:33:53.923584Z",
     "end_time": "2023-04-14T04:33:54.021547Z"
    }
   }
  },
  {
   "cell_type": "code",
   "execution_count": 40,
   "outputs": [],
   "source": [
    "def predict(X, W, b):\n",
    "    return sigmoid(np.dot(X, W) + b)"
   ],
   "metadata": {
    "collapsed": false,
    "ExecuteTime": {
     "start_time": "2023-04-14T04:33:53.942544Z",
     "end_time": "2023-04-14T04:33:54.022543Z"
    }
   }
  },
  {
   "cell_type": "code",
   "execution_count": 41,
   "outputs": [],
   "source": [
    "def cost(y, y_hat):\n",
    "    return np.mean(-y * np.log(y_hat + sys.float_info.min) - (1 - y) * np.log(1 - y_hat + sys.float_info.min))"
   ],
   "metadata": {
    "collapsed": false,
    "ExecuteTime": {
     "start_time": "2023-04-14T04:33:53.954543Z",
     "end_time": "2023-04-14T04:33:54.022543Z"
    }
   }
  },
  {
   "cell_type": "code",
   "execution_count": 42,
   "outputs": [],
   "source": [
    "def train(X, y, learning_rate, epochs):\n",
    "    W = np.random.random(X.shape[1])\n",
    "    b = np.random.random()\n",
    "    costs = np.array([])\n",
    "    for i in range(epochs):\n",
    "        y_hat = predict(X, W, b)\n",
    "        dW = np.dot(X.T, (y_hat - y)) / len(X)\n",
    "        db = np.mean(y_hat - y)\n",
    "        W -= learning_rate * dW\n",
    "        b -= learning_rate * db\n",
    "        if i % 100 == 0:\n",
    "            c: float = cost(y, y_hat)\n",
    "            costs = np.append(costs, c)\n",
    "            print(f\"Cost at epoch {i}: {c}\")\n",
    "    return W, b, costs"
   ],
   "metadata": {
    "collapsed": false,
    "ExecuteTime": {
     "start_time": "2023-04-14T04:33:53.974544Z",
     "end_time": "2023-04-14T04:33:54.022543Z"
    }
   }
  },
  {
   "cell_type": "code",
   "execution_count": 43,
   "outputs": [],
   "source": [
    "def test(X, y, W, b):\n",
    "    y_hat = predict(X, W, b)\n",
    "    y_hat = np.round(y_hat)\n",
    "    return accuracy(y, y_hat)"
   ],
   "metadata": {
    "collapsed": false,
    "ExecuteTime": {
     "start_time": "2023-04-14T04:33:53.985544Z",
     "end_time": "2023-04-14T04:33:54.022543Z"
    }
   }
  },
  {
   "cell_type": "code",
   "execution_count": 44,
   "outputs": [],
   "source": [
    "def k_fold_cross_validation(X, y, k, lr, epochs):\n",
    "    fold_size = len(X) // k\n",
    "    accuracies = []\n",
    "    for i in range(k):\n",
    "        # Divide the data into training and testing sets\n",
    "        X_train = np.concatenate([X[:i * fold_size], X[(i + 1) * fold_size:]])\n",
    "        Y_train = np.concatenate([y[:i * fold_size], y[(i + 1) * fold_size:]])\n",
    "        X_test = X[i * fold_size:(i + 1) * fold_size]\n",
    "        Y_test = y[i * fold_size:(i + 1) * fold_size]\n",
    "        # Train the model\n",
    "        print(f\"----------Training at Fold {i + 1} of {k}----------\")\n",
    "        w, b, c = train(X_train, Y_train, lr, epochs)\n",
    "        # Test the model\n",
    "        print(f\"----------Testing at Fold {i + 1} of {k}----------\")\n",
    "        acc = test(X_test, Y_test, w, b)\n",
    "        print(f\"Accuracy at Fold {i + 1} of {k}: {acc}\")\n",
    "        accuracies.append(acc)\n",
    "    return np.mean(accuracies), c"
   ],
   "metadata": {
    "collapsed": false,
    "ExecuteTime": {
     "start_time": "2023-04-14T04:33:54.002545Z",
     "end_time": "2023-04-14T04:33:54.022543Z"
    }
   }
  },
  {
   "cell_type": "code",
   "execution_count": 45,
   "outputs": [],
   "source": [
    "def accuracy(y, y_hat):\n",
    "    return np.mean(y == y_hat)"
   ],
   "metadata": {
    "collapsed": false,
    "ExecuteTime": {
     "start_time": "2023-04-14T04:33:54.014544Z",
     "end_time": "2023-04-14T04:33:54.034545Z"
    }
   }
  },
  {
   "cell_type": "code",
   "execution_count": 46,
   "outputs": [],
   "source": [
    "trainSet, testSet = mnist.load_data()"
   ],
   "metadata": {
    "collapsed": false,
    "ExecuteTime": {
     "start_time": "2023-04-14T04:33:54.031543Z",
     "end_time": "2023-04-14T04:33:54.489021Z"
    }
   }
  },
  {
   "cell_type": "code",
   "execution_count": 47,
   "outputs": [],
   "source": [
    "xTrain = trainSet[0].astype('float32')\n",
    "yTrain = trainSet[1].astype('int32')\n",
    "xTrain = xTrain.reshape(xTrain.shape[0], -1)\n",
    "xTrain = np.concatenate([xTrain[yTrain == 0], xTrain[yTrain == 1]])\n",
    "yTrain = np.concatenate([yTrain[yTrain == 0], yTrain[yTrain == 1]])\n",
    "xTrain = standardize(xTrain)"
   ],
   "metadata": {
    "collapsed": false,
    "ExecuteTime": {
     "start_time": "2023-04-14T04:33:54.495642Z",
     "end_time": "2023-04-14T04:33:54.735312Z"
    }
   }
  },
  {
   "cell_type": "code",
   "execution_count": 48,
   "outputs": [
    {
     "name": "stdout",
     "output_type": "stream",
     "text": [
      "----------K-Fold Cross Validation with 10 Folds and eta 0.01----------\n",
      "----------Training at Fold 1 of 10----------\n",
      "Cost at epoch 0: 254.37612899119992\n",
      "Cost at epoch 100: 15.78879030036624\n",
      "Cost at epoch 200: 5.570506531040381\n",
      "Cost at epoch 300: 3.494416034095768\n",
      "Cost at epoch 400: 2.6661905363309124\n",
      "Cost at epoch 500: 2.1243421651185526\n",
      "Cost at epoch 600: 1.5103647150930286\n",
      "Cost at epoch 700: 1.395588915776297\n",
      "Cost at epoch 800: 1.237395318690783\n",
      "Cost at epoch 900: 1.0871261991976697\n",
      "----------Testing at Fold 1 of 10----------\n",
      "----------Training at Fold 2 of 10----------\n",
      "Cost at epoch 0: 230.68602703884366\n",
      "Cost at epoch 100: 13.725215152766278\n"
     ]
    },
    {
     "ename": "KeyboardInterrupt",
     "evalue": "",
     "output_type": "error",
     "traceback": [
      "\u001B[1;31m---------------------------------------------------------------------------\u001B[0m",
      "\u001B[1;31mKeyboardInterrupt\u001B[0m                         Traceback (most recent call last)",
      "Cell \u001B[1;32mIn[48], line 3\u001B[0m\n\u001B[0;32m      1\u001B[0m k \u001B[38;5;241m=\u001B[39m \u001B[38;5;241m10\u001B[39m\n\u001B[0;32m      2\u001B[0m \u001B[38;5;28mprint\u001B[39m(\u001B[38;5;124mf\u001B[39m\u001B[38;5;124m\"\u001B[39m\u001B[38;5;124m----------K-Fold Cross Validation with \u001B[39m\u001B[38;5;132;01m{\u001B[39;00mk\u001B[38;5;132;01m}\u001B[39;00m\u001B[38;5;124m Folds and eta 0.01----------\u001B[39m\u001B[38;5;124m\"\u001B[39m)\n\u001B[1;32m----> 3\u001B[0m average_accuracy, c \u001B[38;5;241m=\u001B[39m \u001B[43mk_fold_cross_validation\u001B[49m\u001B[43m(\u001B[49m\u001B[43mxTrain\u001B[49m\u001B[43m,\u001B[49m\u001B[43m \u001B[49m\u001B[43myTrain\u001B[49m\u001B[43m,\u001B[49m\u001B[43m \u001B[49m\u001B[43mk\u001B[49m\u001B[43m,\u001B[49m\u001B[43m \u001B[49m\u001B[38;5;241;43m0.01\u001B[39;49m\u001B[43m,\u001B[49m\u001B[43m \u001B[49m\u001B[38;5;241;43m1000\u001B[39;49m\u001B[43m)\u001B[49m\n\u001B[0;32m      4\u001B[0m \u001B[38;5;28mprint\u001B[39m(average_accuracy)\n\u001B[0;32m      5\u001B[0m \u001B[38;5;28mprint\u001B[39m(c)\n",
      "Cell \u001B[1;32mIn[44], line 12\u001B[0m, in \u001B[0;36mk_fold_cross_validation\u001B[1;34m(X, y, k, lr, epochs)\u001B[0m\n\u001B[0;32m     10\u001B[0m \u001B[38;5;66;03m# Train the model\u001B[39;00m\n\u001B[0;32m     11\u001B[0m \u001B[38;5;28mprint\u001B[39m(\u001B[38;5;124mf\u001B[39m\u001B[38;5;124m\"\u001B[39m\u001B[38;5;124m----------Training at Fold \u001B[39m\u001B[38;5;132;01m{\u001B[39;00mi \u001B[38;5;241m+\u001B[39m \u001B[38;5;241m1\u001B[39m\u001B[38;5;132;01m}\u001B[39;00m\u001B[38;5;124m of \u001B[39m\u001B[38;5;132;01m{\u001B[39;00mk\u001B[38;5;132;01m}\u001B[39;00m\u001B[38;5;124m----------\u001B[39m\u001B[38;5;124m\"\u001B[39m)\n\u001B[1;32m---> 12\u001B[0m w, b, c \u001B[38;5;241m=\u001B[39m \u001B[43mtrain\u001B[49m\u001B[43m(\u001B[49m\u001B[43mX_train\u001B[49m\u001B[43m,\u001B[49m\u001B[43m \u001B[49m\u001B[43mY_train\u001B[49m\u001B[43m,\u001B[49m\u001B[43m \u001B[49m\u001B[43mlr\u001B[49m\u001B[43m,\u001B[49m\u001B[43m \u001B[49m\u001B[43mepochs\u001B[49m\u001B[43m)\u001B[49m\n\u001B[0;32m     13\u001B[0m \u001B[38;5;66;03m# Test the model\u001B[39;00m\n\u001B[0;32m     14\u001B[0m \u001B[38;5;28mprint\u001B[39m(\u001B[38;5;124mf\u001B[39m\u001B[38;5;124m\"\u001B[39m\u001B[38;5;124m----------Testing at Fold \u001B[39m\u001B[38;5;132;01m{\u001B[39;00mi \u001B[38;5;241m+\u001B[39m \u001B[38;5;241m1\u001B[39m\u001B[38;5;132;01m}\u001B[39;00m\u001B[38;5;124m of \u001B[39m\u001B[38;5;132;01m{\u001B[39;00mk\u001B[38;5;132;01m}\u001B[39;00m\u001B[38;5;124m----------\u001B[39m\u001B[38;5;124m\"\u001B[39m)\n",
      "Cell \u001B[1;32mIn[42], line 6\u001B[0m, in \u001B[0;36mtrain\u001B[1;34m(X, y, learning_rate, epochs)\u001B[0m\n\u001B[0;32m      4\u001B[0m costs \u001B[38;5;241m=\u001B[39m np\u001B[38;5;241m.\u001B[39marray([])\n\u001B[0;32m      5\u001B[0m \u001B[38;5;28;01mfor\u001B[39;00m i \u001B[38;5;129;01min\u001B[39;00m \u001B[38;5;28mrange\u001B[39m(epochs):\n\u001B[1;32m----> 6\u001B[0m     y_hat \u001B[38;5;241m=\u001B[39m \u001B[43mpredict\u001B[49m\u001B[43m(\u001B[49m\u001B[43mX\u001B[49m\u001B[43m,\u001B[49m\u001B[43m \u001B[49m\u001B[43mW\u001B[49m\u001B[43m,\u001B[49m\u001B[43m \u001B[49m\u001B[43mb\u001B[49m\u001B[43m)\u001B[49m\n\u001B[0;32m      7\u001B[0m     dW \u001B[38;5;241m=\u001B[39m np\u001B[38;5;241m.\u001B[39mdot(X\u001B[38;5;241m.\u001B[39mT, (y_hat \u001B[38;5;241m-\u001B[39m y)) \u001B[38;5;241m/\u001B[39m \u001B[38;5;28mlen\u001B[39m(X)\n\u001B[0;32m      8\u001B[0m     db \u001B[38;5;241m=\u001B[39m np\u001B[38;5;241m.\u001B[39mmean(y_hat \u001B[38;5;241m-\u001B[39m y)\n",
      "Cell \u001B[1;32mIn[40], line 2\u001B[0m, in \u001B[0;36mpredict\u001B[1;34m(X, W, b)\u001B[0m\n\u001B[0;32m      1\u001B[0m \u001B[38;5;28;01mdef\u001B[39;00m \u001B[38;5;21mpredict\u001B[39m(X, W, b):\n\u001B[1;32m----> 2\u001B[0m     \u001B[38;5;28;01mreturn\u001B[39;00m sigmoid(\u001B[43mnp\u001B[49m\u001B[38;5;241;43m.\u001B[39;49m\u001B[43mdot\u001B[49m\u001B[43m(\u001B[49m\u001B[43mX\u001B[49m\u001B[43m,\u001B[49m\u001B[43m \u001B[49m\u001B[43mW\u001B[49m\u001B[43m)\u001B[49m \u001B[38;5;241m+\u001B[39m b)\n",
      "File \u001B[1;32m<__array_function__ internals>:180\u001B[0m, in \u001B[0;36mdot\u001B[1;34m(*args, **kwargs)\u001B[0m\n",
      "\u001B[1;31mKeyboardInterrupt\u001B[0m: "
     ]
    }
   ],
   "source": [
    "k = 10\n",
    "print(f\"----------K-Fold Cross Validation with {k} Folds and eta 0.01----------\")\n",
    "average_accuracy, c = k_fold_cross_validation(xTrain, yTrain, k, 0.01, 1000)\n",
    "print(average_accuracy)\n",
    "print(c)"
   ],
   "metadata": {
    "collapsed": false
   }
  },
  {
   "cell_type": "code",
   "execution_count": null,
   "outputs": [],
   "source": [
    "#graph the cost\n",
    "plt(c)"
   ],
   "metadata": {
    "collapsed": false
   }
  },
  {
   "cell_type": "code",
   "execution_count": null,
   "outputs": [],
   "source": [
    "k = 10\n",
    "print(f\"----------K-Fold Cross Validation with {k} Folds and eta 0.001----------\")\n",
    "average_accuracy, c = k_fold_cross_validation(xTrain, yTrain, k, 0.001, 1000)\n",
    "print(average_accuracy)\n",
    "print(c)"
   ],
   "metadata": {
    "collapsed": false
   }
  },
  {
   "cell_type": "code",
   "execution_count": null,
   "outputs": [],
   "source": [
    "#graph the cost\n",
    "plt(c)"
   ],
   "metadata": {
    "collapsed": false
   }
  }
 ],
 "metadata": {
  "kernelspec": {
   "display_name": "Python 3",
   "language": "python",
   "name": "python3"
  },
  "language_info": {
   "codemirror_mode": {
    "name": "ipython",
    "version": 2
   },
   "file_extension": ".py",
   "mimetype": "text/x-python",
   "name": "python",
   "nbconvert_exporter": "python",
   "pygments_lexer": "ipython2",
   "version": "2.7.6"
  }
 },
 "nbformat": 4,
 "nbformat_minor": 0
}
